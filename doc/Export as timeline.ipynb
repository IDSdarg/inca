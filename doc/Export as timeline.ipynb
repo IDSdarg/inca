{
 "cells": [
  {
   "cell_type": "markdown",
   "metadata": {},
   "source": [
    "# Export as timeline\n",
    "\n",
    "This notebook provides an example of the timeline export function. This function exports a CSV file with the number of documents per time period. For this example we use nu.nl news articles, but you can replace this with your doctype of interest."
   ]
  },
  {
   "cell_type": "markdown",
   "metadata": {},
   "source": [
    "First of all, we have to instantiate INCA."
   ]
  },
  {
   "cell_type": "code",
   "execution_count": null,
   "metadata": {},
   "outputs": [],
   "source": [
    "from inca import Inca\n",
    "myinca = Inca()"
   ]
  },
  {
   "cell_type": "markdown",
   "metadata": {},
   "source": [
    "Below we simply export a CSV file with the number of documents per time period (i.e. per week)."
   ]
  },
  {
   "cell_type": "code",
   "execution_count": null,
   "metadata": {},
   "outputs": [],
   "source": [
    "myinca.importers_exporters.export_timeline(queries = 'doctype:\"nu\"')"
   ]
  },
  {
   "cell_type": "markdown",
   "metadata": {},
   "source": [
    "__Selecting time period__\n",
    "\n",
    "__(NOTE: I could not test this! Only tested in the terminal.)__\n",
    "It is likely you do not want to export all documents in the database. Thus, we can limit the time period, which can specified in the Elastic Search query using the >, < and = symbols. For instance..."
   ]
  },
  {
   "cell_type": "code",
   "execution_count": null,
   "metadata": {},
   "outputs": [],
   "source": [
    "# exporting nu.nl articles published after 2016 as timeline file.\n",
    "myinca.importers_exporters.export_timeline(queries = 'doctype:\"nu\" AND publication_date:>2016')"
   ]
  },
  {
   "cell_type": "code",
   "execution_count": null,
   "metadata": {},
   "outputs": [],
   "source": [
    "# exporting nu.nl articles published before 2016 as timeline file.\n",
    "myinca.importers_exporters.export_timeline(queries = 'doctype:\"nu\" AND publication_date:<2016')"
   ]
  },
  {
   "cell_type": "code",
   "execution_count": null,
   "metadata": {},
   "outputs": [],
   "source": [
    "# exporting nu.nl articles published in 2016 or earlier as timeline file.\n",
    "myinca.importers_exporters.export_timeline(queries = 'doctype:\"nu\" AND publication_date:<=2016')"
   ]
  },
  {
   "cell_type": "markdown",
   "metadata": {},
   "source": [
    "It is also possible to combine upper and lower bounds with an AND operator."
   ]
  },
  {
   "cell_type": "code",
   "execution_count": null,
   "metadata": {},
   "outputs": [],
   "source": [
    "# exporting nu.nl articles published from 2016 to 2018 as timeline file.\n",
    "myinca.importers_exporters.export_timeline(queries = 'doctype:\"nu\" AND publication_date:(>2016 AND <=2018)')"
   ]
  },
  {
   "cell_type": "markdown",
   "metadata": {},
   "source": [
    "If you want to specify the date even further, you can insert the date like: YYYY-MM-DD."
   ]
  },
  {
   "cell_type": "code",
   "execution_count": null,
   "metadata": {},
   "outputs": [],
   "source": [
    "# exporting nu.nl articles published on or after June 1, 2016 as timeline file.\n",
    "myinca.importers_exporters.export_timeline(queries = 'doctype:\"nu\" AND publication_date:>=2016-06-01')"
   ]
  },
  {
   "cell_type": "markdown",
   "metadata": {},
   "source": [
    "__Note:__ Make sure that the date is indeed stored in publication_date. For instance, for youtube_videos, the date is stored under snippet_publishedAt. You can check the fieldnames with the following code:"
   ]
  },
  {
   "cell_type": "code",
   "execution_count": null,
   "metadata": {},
   "outputs": [],
   "source": [
    "myinca.database.doctype_fields('youtube_video')"
   ]
  },
  {
   "cell_type": "markdown",
   "metadata": {},
   "source": [
    "The timeline export function has the following additional parameters:\n",
    "  *  destination\n",
    "  *  timefield\n",
    "  *  granularity\n",
    "  \n",
    "You can use any combination of these parameters."
   ]
  },
  {
   "cell_type": "markdown",
   "metadata": {},
   "source": [
    "__Destination__\n",
    "\n",
    "By default, the output is a CSV file named timeline_export.csv. However, you can specify the destination folder and file name yourself. Let's say we want to store the results in '/home/marieke' as 'mytimelineoutput.csv'. "
   ]
  },
  {
   "cell_type": "code",
   "execution_count": null,
   "metadata": {},
   "outputs": [],
   "source": [
    "myinca.importers_exporters.export_timeline(queries = 'doctype:\"nu\"', destination = \"/home/marieke/mytimelineoutput.csv\")"
   ]
  },
  {
   "cell_type": "markdown",
   "metadata": {},
   "source": [
    "Additionally, it is also possible to create a JSON file instead of a CSV file using this parameter by replacing .csv with .json."
   ]
  },
  {
   "cell_type": "code",
   "execution_count": null,
   "metadata": {},
   "outputs": [],
   "source": [
    "myinca.importers_exporters.export_timeline(queries = 'doctype:\"nu\"', destination = \"/home/marieke/mytimelineoutput.json\")"
   ]
  },
  {
   "cell_type": "markdown",
   "metadata": {},
   "source": [
    "__Timefield__\n",
    "\n",
    "By default, the key under which the date/time is stored is set to 'publication_date'. For nu.nl articles, the date/time key is indeed 'publication_date'. However, if we, for instance, want to export youtube videos as a timeline file, we have to set timefield to \"snippet_publishedAt\". "
   ]
  },
  {
   "cell_type": "code",
   "execution_count": null,
   "metadata": {},
   "outputs": [],
   "source": [
    "myinca.importers_exporters.export_timeline(queries = 'doctype:\"youtube_video\"', timefield = \"snippet_publishedAt\")"
   ]
  },
  {
   "cell_type": "markdown",
   "metadata": {},
   "source": [
    "__Granularity__\n",
    "\n",
    "By default, the level of aggregation is set to 'week'. You can specify another interval, such as \"year\", \"quarter\", \"month\", \"day\", \"hour\", \"minute\" or \"second\". For instance, let's export the timeline to group the nu.nl articles together on a monthly basis."
   ]
  },
  {
   "cell_type": "code",
   "execution_count": null,
   "metadata": {},
   "outputs": [],
   "source": [
    "myinca.importers_exporters.export_timeline(queries = 'doctype:\"nu\"', granularity = \"month\")"
   ]
  },
  {
   "cell_type": "markdown",
   "metadata": {},
   "source": [
    "## Downloading your files\n",
    "\n",
    "Your exported file is now in the exports folder or in your specified folder. Check the box and click download to download the file on your own computer. (Make sure to delete it after downloading to free up space.)"
   ]
  }
 ],
 "metadata": {
  "kernelspec": {
   "display_name": "Python 3",
   "language": "python",
   "name": "python3"
  },
  "language_info": {
   "codemirror_mode": {
    "name": "ipython",
    "version": 3
   },
   "file_extension": ".py",
   "mimetype": "text/x-python",
   "name": "python",
   "nbconvert_exporter": "python",
   "pygments_lexer": "ipython3",
   "version": "3.5.2"
  }
 },
 "nbformat": 4,
 "nbformat_minor": 2
}
