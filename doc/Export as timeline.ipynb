{
 "cells": [
  {
   "cell_type": "markdown",
   "metadata": {},
   "source": [
    "# Export as timeline\n",
    "\n",
    "This notebook provides an example of the timeline export function. This function exports a CSV file with the number of documents per time period. For this example we use nu.nl news articles, but you can replace this with your doctype of interest."
   ]
  },
  {
   "cell_type": "markdown",
   "metadata": {},
   "source": [
    "Below we simply export a CSV file with the number of documents per time period (i.e. per week)."
   ]
  },
  {
   "cell_type": "code",
   "execution_count": null,
   "metadata": {},
   "outputs": [],
   "source": [
    "myinca.importers_exporters.export_timeline(queries = 'doctype:\"nu\"')"
   ]
  },
  {
   "cell_type": "markdown",
   "metadata": {},
   "source": [
    "This function has the following additional parameters:\n",
    "  *  destination\n",
    "  *  timefield\n",
    "  *  granularity"
   ]
  },
  {
   "cell_type": "markdown",
   "metadata": {},
   "source": [
    "__Destination__\n",
    "\n",
    "By default, the output is a CSV file named timeline_export.csv. However, you can specify the destination folder and file name yourself. Let's say we want to store the results in '/home/marieke' as 'mytimelineoutput.csv'. "
   ]
  },
  {
   "cell_type": "code",
   "execution_count": null,
   "metadata": {},
   "outputs": [],
   "source": [
    "myinca.importers_exporters.export_timeline(queries = 'doctype:\"nu\"', destination = \"/home/marieke/mytimelineoutput.csv\")"
   ]
  },
  {
   "cell_type": "markdown",
   "metadata": {},
   "source": [
    "Additionally, it is also possible to create a JSON file instead of a CSV file using this parameter..."
   ]
  },
  {
   "cell_type": "code",
   "execution_count": null,
   "metadata": {},
   "outputs": [],
   "source": [
    "myinca.importers_exporters.export_timeline(queries = 'doctype:\"nu\"', destination = \"/home/marieke/mytimelineoutput.json\")"
   ]
  },
  {
   "cell_type": "markdown",
   "metadata": {},
   "source": [
    "__Timefield__\n",
    "\n",
    "By default, the key under which the date/time is stored is set to 'publication_date'. For nu.nl articles, the date/time key is indeed 'publication_date'. However, if we, for instance, want to export youtube videos as a timeline file, we have to set timefield to \"snippet_publishedAt\". "
   ]
  },
  {
   "cell_type": "code",
   "execution_count": null,
   "metadata": {},
   "outputs": [],
   "source": [
    "myinca.importers_exporters.export_timeline(queries = 'doctype:\"youtube_video\"', timefield = \"snippet_publishedAt\")"
   ]
  },
  {
   "cell_type": "markdown",
   "metadata": {},
   "source": [
    "__Granularity__\n",
    "\n",
    "By default, the level of aggregation is set to 'week'. You can specify another interval, such as \"year\", \"quarter\", \"month\", \"day\", \"hour\", \"minute\" or \"second\". For instance, let's export the timeline to group the nu.nl articles together on a monthly basis."
   ]
  },
  {
   "cell_type": "code",
   "execution_count": null,
   "metadata": {},
   "outputs": [],
   "source": [
    "myinca.importers_exporters.export_timeline(queries = 'doctype:\"nu\"', granularity = \"month\")"
   ]
  }
 ],
 "metadata": {
  "kernelspec": {
   "display_name": "Python 3",
   "language": "python",
   "name": "python3"
  },
  "language_info": {
   "codemirror_mode": {
    "name": "ipython",
    "version": 3
   },
   "file_extension": ".py",
   "mimetype": "text/x-python",
   "name": "python",
   "nbconvert_exporter": "python",
   "pygments_lexer": "ipython3",
   "version": "3.5.2"
  }
 },
 "nbformat": 4,
 "nbformat_minor": 2
}
