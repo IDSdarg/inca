{
 "cells": [
  {
   "cell_type": "markdown",
   "metadata": {},
   "source": [
    "# Export documents as JSON and CSV files\n",
    "\n",
    "This notebook provides an example of how the exporter functions in INCA can be used. You might want to use the data you scraped in other programmes, such as STATA or SPSS. In order to do so, you can use one of the export functions to download the data on your own computer. INCA has two options for this: CSV and JSON. For this example we use nu.nl news articles, but you can replace this with your doctype of interest. "
   ]
  },
  {
   "cell_type": "markdown",
   "metadata": {},
   "source": [
    "First of all, we have to instantiate INCA."
   ]
  },
  {
   "cell_type": "code",
   "execution_count": 1,
   "metadata": {},
   "outputs": [
    {
     "ename": "ImportError",
     "evalue": "No module named 'inca'",
     "output_type": "error",
     "traceback": [
      "\u001b[0;31m---------------------------------------------------------------------------\u001b[0m",
      "\u001b[0;31mImportError\u001b[0m                               Traceback (most recent call last)",
      "\u001b[0;32m<ipython-input-1-8276545257dc>\u001b[0m in \u001b[0;36m<module>\u001b[0;34m()\u001b[0m\n\u001b[1;32m      1\u001b[0m \u001b[0;31m# Instantiating INCA\u001b[0m\u001b[0;34m\u001b[0m\u001b[0;34m\u001b[0m\u001b[0m\n\u001b[0;32m----> 2\u001b[0;31m \u001b[0;32mfrom\u001b[0m \u001b[0minca\u001b[0m \u001b[0;32mimport\u001b[0m \u001b[0mInca\u001b[0m\u001b[0;34m\u001b[0m\u001b[0m\n\u001b[0m\u001b[1;32m      3\u001b[0m \u001b[0mmyinca\u001b[0m \u001b[0;34m=\u001b[0m \u001b[0mInca\u001b[0m\u001b[0;34m(\u001b[0m\u001b[0;34m)\u001b[0m\u001b[0;34m\u001b[0m\u001b[0m\n",
      "\u001b[0;31mImportError\u001b[0m: No module named 'inca'"
     ]
    }
   ],
   "source": [
    "from inca import Inca\n",
    "myinca = Inca()"
   ]
  },
  {
   "cell_type": "markdown",
   "metadata": {},
   "source": [
    "We can look at the content of the Elastic Search database by running the following command. Here you can see that the doctype of the nu.nl newsarticles are simply called \"nu\". "
   ]
  },
  {
   "cell_type": "code",
   "execution_count": null,
   "metadata": {},
   "outputs": [],
   "source": [
    "myinca.database.list_doctypes()"
   ]
  },
  {
   "cell_type": "markdown",
   "metadata": {},
   "source": [
    "## CSV\n",
    "Below we export the nu.nl articles out of Elastic Search database as a CSV file. "
   ]
  },
  {
   "cell_type": "code",
   "execution_count": null,
   "metadata": {},
   "outputs": [],
   "source": [
    "# Exporting nu.nl articles\n",
    "myinca.importers_exporters.export_csv(query = 'doctype:\"nu\"')"
   ]
  },
  {
   "cell_type": "code",
   "execution_count": null,
   "metadata": {},
   "outputs": [],
   "source": []
  },
  {
   "cell_type": "markdown",
   "metadata": {},
   "source": [
    "__Selecting time period__\n",
    "\n",
    "It is likely you do not want to export all documents of your doctype that are in the database. Thus, we can limit the time period, which is specified in the Elastic Search query.\n",
    "\n",
    "To include "
   ]
  },
  {
   "cell_type": "code",
   "execution_count": null,
   "metadata": {},
   "outputs": [],
   "source": [
    "myinca.importers_exporters.export_csv(query = 'doctype:\"nu\" publication_date>2017')"
   ]
  },
  {
   "cell_type": "markdown",
   "metadata": {},
   "source": [
    "This function as the following additional options:\n",
    "  *  destination\n",
    "  *  fields\n",
    "  *  include_meta\n",
    "  *  remove_linebreaks\n",
    "  *  delimiter\n",
    "\n",
    "You can use any combination of these parameters."
   ]
  },
  {
   "cell_type": "markdown",
   "metadata": {},
   "source": [
    "__Destination__\n",
    "\n",
    "By default, the function creates a folder named exports in which it stores the output. If we already have a destination folder in which we want to store the CSV file, we can specify the destination parameter."
   ]
  },
  {
   "cell_type": "code",
   "execution_count": null,
   "metadata": {},
   "outputs": [],
   "source": [
    "myinca.importers_exporters.export_csv(query = 'doctype:\"nu\"', destination = '/home/marieke/mycsvfiles')"
   ]
  },
  {
   "cell_type": "markdown",
   "metadata": {},
   "source": [
    "__Fields__\n",
    "\n",
    "By default, all fields are included in the output. Let's say we only want to include the title, text and publication date of the nu.nl articles. You can see the code for this below."
   ]
  },
  {
   "cell_type": "code",
   "execution_count": null,
   "metadata": {},
   "outputs": [],
   "source": [
    "myinca.importers_exporters.export_csv(query = 'doctype:\"nu\"', fields = [\"title\", \"text\", \"publication_date\"] )"
   ]
  },
  {
   "cell_type": "markdown",
   "metadata": {},
   "source": [
    "If you want to see which fields are present in your documents, you can look at them with the following code:"
   ]
  },
  {
   "cell_type": "code",
   "execution_count": null,
   "metadata": {},
   "outputs": [],
   "source": [
    "myinca.database.doctype_fields('nu')"
   ]
  },
  {
   "cell_type": "markdown",
   "metadata": {},
   "source": [
    "__Include_meta__ \n",
    "\n",
    "By default, META is not included in the output. If we do think it is necessary to include this information, we can set this parameter to True."
   ]
  },
  {
   "cell_type": "code",
   "execution_count": null,
   "metadata": {},
   "outputs": [],
   "source": [
    "myinca.importers_exporters.export_csv(query = 'doctype:\"nu\"', include_meta = True)"
   ]
  },
  {
   "cell_type": "markdown",
   "metadata": {},
   "source": [
    "__Remove_linebreaks__\n",
    "\n",
    "By default, all line breaks within cells are replaced by a space. If we want to keep the line breaks, we can set the remove_linebreaks parameter to True."
   ]
  },
  {
   "cell_type": "code",
   "execution_count": null,
   "metadata": {},
   "outputs": [],
   "source": [
    "myinca.importers_exporters.export_csv(query = 'doctype:\"nu\"', remove_linebreaks = True)"
   ]
  },
  {
   "cell_type": "markdown",
   "metadata": {},
   "source": [
    "__Delimiter__\n",
    "\n",
    "By default, the delimiter is set to ':'. European locales of Microsoft Excel use ';' as a delimiter. Therefore, to ensure compatibility, we can set the delimter to a semicolon. "
   ]
  },
  {
   "cell_type": "code",
   "execution_count": null,
   "metadata": {},
   "outputs": [],
   "source": [
    "myinca.importers_exporters.export_csv(query = 'doctype:\"nu\"', delimiter = ';')"
   ]
  },
  {
   "cell_type": "markdown",
   "metadata": {},
   "source": [
    "## JSON\n",
    "For JSON, you have the option to export the documents in one JSON file..."
   ]
  },
  {
   "cell_type": "code",
   "execution_count": null,
   "metadata": {},
   "outputs": [],
   "source": [
    "myinca.importers_exporters.export_json_file(query = 'doctype:\"nu\"')"
   ]
  },
  {
   "cell_type": "markdown",
   "metadata": {},
   "source": [
    "...or to create a JSON file for each document. (This is not recommended, as this can result into a large number of files!)"
   ]
  },
  {
   "cell_type": "code",
   "execution_count": null,
   "metadata": {},
   "outputs": [],
   "source": [
    "myinca.importers_exporters.export_json_files(query = 'doctype:\"nu\"')"
   ]
  },
  {
   "cell_type": "markdown",
   "metadata": {},
   "source": [
    "This function has the following additional options:\n",
    " * destination\n",
    " * compression\n",
    " * include_meta\n",
    "\n",
    "Again, any combination of these parameters is possible."
   ]
  },
  {
   "cell_type": "markdown",
   "metadata": {},
   "source": [
    "__Destination__\n",
    "\n",
    "Similarly to CSV export, you can specify a destination folder in which the output is stored."
   ]
  },
  {
   "cell_type": "code",
   "execution_count": null,
   "metadata": {},
   "outputs": [],
   "source": [
    "myinca.importers_exporters.export_json_file(query = 'doctype:\"nu\"', destination = '/home/marieke/myjsonfiles')"
   ]
  },
  {
   "cell_type": "markdown",
   "metadata": {},
   "source": [
    "__Compression__ \n",
    "\n",
    "By default, the output is not compressed. If we want a gzipped output file, we can set this parameter to 'gz'."
   ]
  },
  {
   "cell_type": "code",
   "execution_count": null,
   "metadata": {},
   "outputs": [],
   "source": [
    "myinca.importers_exporters.export_json_file(query = 'doctype:\"nu\"', compression = 'gz')"
   ]
  },
  {
   "cell_type": "markdown",
   "metadata": {},
   "source": [
    "Or you can export a bzip2 compressed file by setting the parameter to 'bz2'."
   ]
  },
  {
   "cell_type": "code",
   "execution_count": null,
   "metadata": {},
   "outputs": [],
   "source": [
    "myinca.importers_exporters.export_json_file(query = 'doctype:\"nu\"', compression = 'bz2')"
   ]
  },
  {
   "cell_type": "markdown",
   "metadata": {},
   "source": [
    "__Include_meta__ \n",
    "\n",
    "Similar to the CSV export function, the default is set to True. Including META is done by setting this parameter to True."
   ]
  },
  {
   "cell_type": "code",
   "execution_count": null,
   "metadata": {},
   "outputs": [],
   "source": [
    "myinca.importers_exporters.export_json_file(query = 'doctype:\"nu\"', include_meta = True)"
   ]
  }
 ],
 "metadata": {
  "kernelspec": {
   "display_name": "Python 3",
   "language": "python",
   "name": "python3"
  },
  "language_info": {
   "codemirror_mode": {
    "name": "ipython",
    "version": 3
   },
   "file_extension": ".py",
   "mimetype": "text/x-python",
   "name": "python",
   "nbconvert_exporter": "python",
   "pygments_lexer": "ipython3",
   "version": "3.5.2"
  }
 },
 "nbformat": 4,
 "nbformat_minor": 2
}
