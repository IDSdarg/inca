{
 "cells": [
  {
   "cell_type": "markdown",
   "metadata": {},
   "source": [
    "# Exporting\n",
    "## JSON, CSV and timelines\n",
    "\n",
    "This notebook provides an example of how the exporter functions in INCA can be used."
   ]
  },
  {
   "cell_type": "markdown",
   "metadata": {},
   "source": [
    "First of all, we have to instantiate INCA."
   ]
  },
  {
   "cell_type": "code",
   "execution_count": 1,
   "metadata": {},
   "outputs": [
    {
     "ename": "ImportError",
     "evalue": "No module named 'inca'",
     "output_type": "error",
     "traceback": [
      "\u001b[0;31m---------------------------------------------------------------------------\u001b[0m",
      "\u001b[0;31mImportError\u001b[0m                               Traceback (most recent call last)",
      "\u001b[0;32m<ipython-input-1-8276545257dc>\u001b[0m in \u001b[0;36m<module>\u001b[0;34m()\u001b[0m\n\u001b[1;32m      1\u001b[0m \u001b[0;31m# Instantiating INCA\u001b[0m\u001b[0;34m\u001b[0m\u001b[0;34m\u001b[0m\u001b[0m\n\u001b[0;32m----> 2\u001b[0;31m \u001b[0;32mfrom\u001b[0m \u001b[0minca\u001b[0m \u001b[0;32mimport\u001b[0m \u001b[0mInca\u001b[0m\u001b[0;34m\u001b[0m\u001b[0m\n\u001b[0m\u001b[1;32m      3\u001b[0m \u001b[0mmyinca\u001b[0m \u001b[0;34m=\u001b[0m \u001b[0mInca\u001b[0m\u001b[0;34m(\u001b[0m\u001b[0;34m)\u001b[0m\u001b[0;34m\u001b[0m\u001b[0m\n",
      "\u001b[0;31mImportError\u001b[0m: No module named 'inca'"
     ]
    }
   ],
   "source": [
    "# Instantiating INCA\n",
    "from inca import Inca\n",
    "myinca = Inca()"
   ]
  },
  {
   "cell_type": "markdown",
   "metadata": {},
   "source": [
    "If you have never scraped any data with INCA before, your Elastic Search database is most likely empty. We can look at the content of the Elastic Search database by running the following command:"
   ]
  },
  {
   "cell_type": "code",
   "execution_count": null,
   "metadata": {},
   "outputs": [],
   "source": [
    "myinca.database.list_doctypes()"
   ]
  },
  {
   "cell_type": "markdown",
   "metadata": {},
   "source": [
    "Let's start by scraping some nu.nl articles using the RSS scraper function so that we have some data to work with."
   ]
  },
  {
   "cell_type": "code",
   "execution_count": null,
   "metadata": {},
   "outputs": [],
   "source": [
    "myinca.rssscrapers.nu()"
   ]
  },
  {
   "cell_type": "markdown",
   "metadata": {},
   "source": [
    "Checking our Elastic Search database again, we can see that we now have some nu.nl articles."
   ]
  },
  {
   "cell_type": "code",
   "execution_count": null,
   "metadata": {},
   "outputs": [],
   "source": [
    "myinca.database.list_doctypes()"
   ]
  },
  {
   "cell_type": "markdown",
   "metadata": {},
   "source": [
    "You might want to use this data in other programmes, such as STATA or SPSS. In order to do so, you can use one of the export functions to download the data on your own computer. INCA has two options for this: CSV and JSON. \n",
    "\n",
    "### CSV\n",
    "Below we export the nu.nl articles out of Elastic Search database as a CSV file. This function as the following additional options: \n",
    " * destination: By default, the function creates a folder named exports in which it stores the output. If we already have a destination folder in which we want to store the CSV file, we can specify the destination parameter.\n",
    " * fields: By default, all fields are included in the output. Let's say we only want to include the title, text and publication date of the nu.nl articles. You can see the code for this below.\n",
    " * include_meta: By default, META is not included in the output. If we do think it is necessary to include this information, we can set this parameter to True.\n",
    " * remove_linebreaks: By default, all line breaks within cells are replaced by a space. If we want to keep the line breaks, we can set the remove_linebreaks parameter to True.\n",
    " * delimiter: By default, the delimiter is set to ':'. European locales of Microsoft Excel use ';' as a delimiter. Therefore, to ensure compatibility, we can set the delimter to a semicolon. "
   ]
  },
  {
   "cell_type": "code",
   "execution_count": null,
   "metadata": {},
   "outputs": [],
   "source": [
    "# CSV\n",
    "# Exporting nu.nl articles\n",
    "myinca.importers_exporters.export_csv(query = 'doctype:\"nu\"')\n",
    "\n",
    "# Destination folder\n",
    "myinca.importers_exporters.export_csv(query = 'doctype:\"nu\"', destination = '/home/marieke/mycsvfiles')\n",
    "\n",
    "# Fields\n",
    "myinca.importers_exporters.export_csv(query = 'doctype:\"nu\"', fields = [\"title\", \"text\", \"publication_date\"] )\n",
    "\n",
    "# Include META\n",
    "myinca.importers_exporters.export_csv(query = 'doctype:\"nu\"', include_meta = True)\n",
    "\n",
    "# Remove line breaks\n",
    "myinca.importers_exporters.export_csv(query = 'doctype:\"nu\"', remove_linebreaks = True)\n",
    "\n",
    "# Delimiter\n",
    "myinca.importers_exporters.export_csv(query = 'doctype:\"nu\"', delimiter = ';')"
   ]
  },
  {
   "cell_type": "markdown",
   "metadata": {},
   "source": [
    "### JSON\n",
    "For JSON, you have the option to export the documents in one file, or to create a JSON file for each document. (The latter is not recommended, as this can result into a large number of files!). Below we export the nu.nl articles as JSON file(s). There are the following additional options:\n",
    " * destination: Similarly to CSV export, you can specify a destination folder in which the output is stored.\n",
    " * compression: By default, the output is not compressed. If we want a gzipped output file, we can set this parameter to 'gz'. (Use 'bz2' for bzip2 compression.)\n",
    " * include_meta: Similar to the CSV export function, the default is set to True. Including META is done by setting this parameter to True."
   ]
  },
  {
   "cell_type": "code",
   "execution_count": null,
   "metadata": {},
   "outputs": [],
   "source": [
    "# JSON\n",
    "# Separate files\n",
    "myinca.importers_exporters.export_json_files(query = 'doctype:\"nu\"')\n",
    "\n",
    "# One file\n",
    "myinca.importers_exporters.export_json_file(query = 'doctype:\"nu\"')\n",
    "\n",
    "# Destination\n",
    "myinca.importers_exporters.export_json_file(query = 'doctype:\"nu\"', destination = '/home/marieke/myjsonfiles')\n",
    "\n",
    "# Compression\n",
    "myinca.importers_exporters.export_json_file(query = 'doctype:\"nu\"', compression = 'gz')\n",
    "\n",
    "# Include META\n",
    "myinca.importers_exporters.export_json_file(query = 'doctype:\"nu\"', include_meta = True)"
   ]
  },
  {
   "cell_type": "markdown",
   "metadata": {},
   "source": [
    "### Timelines\n",
    "The timeline function exports a csv file includes he timeline function exports a file with the number of documents per time period. We specify the Elastic Search doctype in \n",
    "\n",
    " * destination: By default, the output is a CSV file named timeline_export.csv. You can specify the folder, filename and type of file. Let's say we want to store the results as a JSON file, then I could set the path to: \"/home/marieke/mytimelineoutput.json\". \n",
    " * timefield: By default, the key under which the date/time is stored is set to 'publication_date'. For nu.nl articles, the date/time key is indeed 'publication_date'. However, if we, for instance, want to export youtube videos as a timeline file, we can set the timefield to \"publishedAt\". \n",
    " * granularity: By default, the level of aggregation is set to 'week'. You can specify another interval, such as \"year\", \"quarter\", \"month\", \"day\", \"hour\", \"minute\" or \"second\".  #### Hoe diep ga ik hierop in? For instance, let's export the timeline to group the nu.nl articles together on a monthly basis."
   ]
  },
  {
   "cell_type": "code",
   "execution_count": null,
   "metadata": {},
   "outputs": [],
   "source": [
    "# Timelines\n",
    "# Exporting nu.nl as timeline\n",
    "myinca.importers_exporters.export_timeline(queries = 'doctype:\"nu\"')\n",
    "\n",
    "# Destination\n",
    "myinca.importers_exporters.export_timeline(queries = 'doctype:\"nu\"', destination = \"/home/marieke/mytimelineoutput.json\")\n",
    "\n",
    "# Timefield\n",
    "myinca.importers_exporters.export_timeline(queries = 'doctype:\"youtube_videos\"', timefield = \"date\")\n",
    "\n",
    "# Granularity\n",
    "myinca.importers_exporters.export_timeline(queries = 'doctype:\"nu\"', granularity = \"month\")"
   ]
  }
 ],
 "metadata": {
  "kernelspec": {
   "display_name": "Python 3",
   "language": "python",
   "name": "python3"
  },
  "language_info": {
   "codemirror_mode": {
    "name": "ipython",
    "version": 3
   },
   "file_extension": ".py",
   "mimetype": "text/x-python",
   "name": "python",
   "nbconvert_exporter": "python",
   "pygments_lexer": "ipython3",
   "version": "3.5.2"
  }
 },
 "nbformat": 4,
 "nbformat_minor": 2
}
