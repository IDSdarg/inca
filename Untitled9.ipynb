{
 "cells": [
  {
   "cell_type": "code",
   "execution_count": null,
   "metadata": {},
   "outputs": [],
   "source": [
    "#title\n",
    "        try:\n",
    "            title=\"\".join(tree.xpath('//*[@class=\"article__header\"]/h1/text()|//*[@class=\"DS-headline DS-headline--x-large \"]/text()')).strip()\n",
    "        except:\n",
    "            title=\"\"\n",
    "            logger.warning(\"Could not parse article title\")"
   ]
  }
 ],
 "metadata": {
  "kernelspec": {
   "display_name": "Python 3",
   "language": "python",
   "name": "python3"
  },
  "language_info": {
   "codemirror_mode": {
    "name": "ipython",
    "version": 3
   },
   "file_extension": ".py",
   "mimetype": "text/x-python",
   "name": "python",
   "nbconvert_exporter": "python",
   "pygments_lexer": "ipython3",
   "version": "3.6.7"
  }
 },
 "nbformat": 4,
 "nbformat_minor": 2
}
