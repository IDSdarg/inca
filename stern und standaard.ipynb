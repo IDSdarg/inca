{
 "cells": [
  {
   "cell_type": "code",
   "execution_count": 1,
   "metadata": {},
   "outputs": [
    {
     "name": "stderr",
     "output_type": "stream",
     "text": [
      "/usr/lib/python3/dist-packages/requests/__init__.py:80: RequestsDependencyWarning: urllib3 (1.24.3) or chardet (2.3.0) doesn't match a supported version!\n",
      "  RequestsDependencyWarning)\n",
      "WARNING:INCA:No database functionality available. This means you will not be able to SAVE the results of any scraper or processor!\n",
      "/usr/local/lib/python3.6/dist-packages/selenium/webdriver/phantomjs/webdriver.py:49: UserWarning: Selenium support for PhantomJS has been deprecated, please use headless versions of Chrome or Firefox instead\n",
      "  warnings.warn('Selenium support for PhantomJS has been deprecated, please use headless '\n",
      "INFO:INCA.inca.core.client_class:No Database available, so API client functionalitywill be severely limited\n",
      "INFO:INCA.inca.core.client_class:No Database available, so API client functionalitywill be severely limited\n",
      "INFO:INCA.inca.core.client_class:No Database available, so API client functionalitywill be severely limited\n",
      "INFO:INCA.inca.core.client_class:No Database available, so API client functionalitywill be severely limited\n",
      "INFO:INCA.inca.core.client_class:No Database available, so API client functionalitywill be severely limited\n",
      "INFO:INCA.inca.core.client_class:No Database available, so API client functionalitywill be severely limited\n",
      "INFO:INCA.inca.core.client_class:No Database available, so API client functionalitywill be severely limited\n",
      "INFO:INCA.inca.core.client_class:No Database available, so API client functionalitywill be severely limited\n"
     ]
    }
   ],
   "source": [
    "from inca import Inca"
   ]
  },
  {
   "cell_type": "code",
   "execution_count": 2,
   "metadata": {},
   "outputs": [],
   "source": [
    "from selenium import webdriver #launch browser\n",
    "from selenium.webdriver.common.keys import Keys\n",
    "from selenium.webdriver.support.ui import WebDriverWait #wait for page to load\n",
    "from selenium.webdriver.support import expected_conditions as EC #Specify what you are looking for on a specific page in order to determine that the webpage has loaded\n",
    "from selenium.webdriver.common.by import By #find elements BY\n",
    "import time\n",
    "from selenium.common.exceptions import TimeoutException #handle timout situations; \n",
    "from selenium.common.exceptions import NoSuchElementException\n",
    "\n",
    "from bs4 import BeautifulSoup\n",
    "from urllib.request import urlopen\n",
    "import urllib.request\n",
    "import re\n",
    "import requests\n",
    "\n",
    "from socket import error as SocketError\n",
    "import errno\n",
    "from lxml import html\n",
    "from lxml.html import fromstring\n",
    "from bs4 import BeautifulSoup\n",
    "from html.parser import HTMLParser\n",
    "\n",
    "import csv"
   ]
  },
  {
   "cell_type": "code",
   "execution_count": 3,
   "metadata": {},
   "outputs": [
    {
     "name": "stderr",
     "output_type": "stream",
     "text": [
      "INFO:INCA.inca.core.client_class:No Database available, so API client functionalitywill be severely limited\n",
      "INFO:INCA.inca.core.client_class:No Database available, so API client functionalitywill be severely limited\n",
      "INFO:INCA.inca.core.client_class:No Database available, so API client functionalitywill be severely limited\n",
      "INFO:INCA.inca.core.client_class:No Database available, so API client functionalitywill be severely limited\n",
      "INFO:INCA.inca.core.client_class:No Database available, so API client functionalitywill be severely limited\n",
      "INFO:INCA.inca.core.client_class:No Database available, so API client functionalitywill be severely limited\n",
      "INFO:INCA.inca.core.client_class:No Database available, so API client functionalitywill be severely limited\n",
      "INFO:INCA.inca.core.client_class:No Database available, so API client functionalitywill be severely limited\n",
      "INFO:INCA:Providing verbose output\n"
     ]
    }
   ],
   "source": [
    "myinca=Inca()"
   ]
  },
  {
   "cell_type": "code",
   "execution_count": 84,
   "metadata": {},
   "outputs": [
    {
     "name": "stderr",
     "output_type": "stream",
     "text": [
      "INFO:INCA:Started scraping\n"
     ]
    }
   ],
   "source": [
    "data=myinca.rssscrapers.stern(save=False)"
   ]
  },
  {
   "cell_type": "code",
   "execution_count": 85,
   "metadata": {},
   "outputs": [
    {
     "data": {
      "text/plain": [
       "20"
      ]
     },
     "execution_count": 85,
     "metadata": {},
     "output_type": "execute_result"
    }
   ],
   "source": []
  },
  {
   "cell_type": "code",
   "execution_count": 86,
   "metadata": {},
   "outputs": [
    {
     "name": "stdout",
     "output_type": "stream",
     "text": [
      "dict_keys(['_id', 'title_rss', 'teaser_rss', 'publication_date', 'htmlsource', 'feedurl', 'url', 'teaser', 'byline_source', 'title', 'doctype', 'META'])\n",
      "dict_keys(['_id', 'title_rss', 'teaser_rss', 'publication_date', 'htmlsource', 'feedurl', 'url', 'teaser', 'byline_source', 'title', 'doctype', 'META'])\n",
      "dict_keys(['_id', 'title_rss', 'teaser_rss', 'publication_date', 'htmlsource', 'feedurl', 'url', 'teaser', 'byline_source', 'title', 'doctype', 'META'])\n",
      "dict_keys(['_id', 'title_rss', 'teaser_rss', 'publication_date', 'htmlsource', 'feedurl', 'url', 'teaser', 'byline_source', 'title', 'doctype', 'META'])\n",
      "dict_keys(['_id', 'title_rss', 'teaser_rss', 'publication_date', 'htmlsource', 'feedurl', 'url', 'teaser', 'byline_source', 'title', 'doctype', 'META'])\n",
      "dict_keys(['_id', 'title_rss', 'teaser_rss', 'publication_date', 'htmlsource', 'feedurl', 'url', 'teaser', 'byline_source', 'title', 'doctype', 'META'])\n",
      "dict_keys(['_id', 'title_rss', 'teaser_rss', 'publication_date', 'htmlsource', 'feedurl', 'url', 'teaser', 'byline_source', 'title', 'doctype', 'META'])\n",
      "dict_keys(['_id', 'title_rss', 'teaser_rss', 'publication_date', 'htmlsource', 'feedurl', 'url', 'teaser', 'byline_source', 'title', 'doctype', 'META'])\n",
      "dict_keys(['_id', 'title_rss', 'teaser_rss', 'publication_date', 'htmlsource', 'feedurl', 'url', 'teaser', 'byline_source', 'title', 'doctype', 'META'])\n",
      "dict_keys(['_id', 'title_rss', 'teaser_rss', 'publication_date', 'htmlsource', 'feedurl', 'url', 'teaser', 'byline_source', 'title', 'doctype', 'META'])\n",
      "dict_keys(['_id', 'title_rss', 'teaser_rss', 'publication_date', 'htmlsource', 'feedurl', 'url', 'teaser', 'byline_source', 'title', 'doctype', 'META'])\n",
      "dict_keys(['_id', 'title_rss', 'teaser_rss', 'publication_date', 'htmlsource', 'feedurl', 'url', 'teaser', 'byline_source', 'title', 'doctype', 'META'])\n",
      "dict_keys(['_id', 'title_rss', 'teaser_rss', 'publication_date', 'htmlsource', 'feedurl', 'url', 'teaser', 'byline_source', 'title', 'doctype', 'META'])\n",
      "dict_keys(['_id', 'title_rss', 'teaser_rss', 'publication_date', 'htmlsource', 'feedurl', 'url', 'teaser', 'byline_source', 'title', 'doctype', 'META'])\n",
      "dict_keys(['_id', 'title_rss', 'teaser_rss', 'publication_date', 'htmlsource', 'feedurl', 'url', 'teaser', 'byline_source', 'title', 'doctype', 'META'])\n",
      "dict_keys(['_id', 'title_rss', 'teaser_rss', 'publication_date', 'htmlsource', 'feedurl', 'url', 'teaser', 'byline_source', 'title', 'doctype', 'META'])\n",
      "dict_keys(['_id', 'title_rss', 'teaser_rss', 'publication_date', 'htmlsource', 'feedurl', 'url', 'teaser', 'byline_source', 'title', 'doctype', 'META'])\n",
      "dict_keys(['_id', 'title_rss', 'teaser_rss', 'publication_date', 'htmlsource', 'feedurl', 'url', 'teaser', 'byline_source', 'title', 'doctype', 'META'])\n",
      "dict_keys(['_id', 'title_rss', 'teaser_rss', 'publication_date', 'htmlsource', 'feedurl', 'url', 'teaser', 'byline_source', 'title', 'doctype', 'META'])\n",
      "dict_keys(['_id', 'title_rss', 'teaser_rss', 'publication_date', 'htmlsource', 'feedurl', 'url', 'teaser', 'byline_source', 'title', 'doctype', 'META'])\n"
     ]
    }
   ],
   "source": [
    "for a in data:\n",
    "    print(a.keys())"
   ]
  },
  {
   "cell_type": "code",
   "execution_count": 112,
   "metadata": {},
   "outputs": [],
   "source": [
    "url=[]"
   ]
  },
  {
   "cell_type": "code",
   "execution_count": 108,
   "metadata": {},
   "outputs": [],
   "source": [
    "htmlsource=[]\n",
    "tree=[]"
   ]
  },
  {
   "cell_type": "code",
   "execution_count": 103,
   "metadata": {},
   "outputs": [
    {
     "name": "stdout",
     "output_type": "stream",
     "text": [
      "1 h\n"
     ]
    }
   ],
   "source": [
    "print(len(url),url[0])"
   ]
  },
  {
   "cell_type": "code",
   "execution_count": 113,
   "metadata": {},
   "outputs": [],
   "source": [
    "for a in data:\n",
    "    for k,v in a.items():\n",
    "        if k==\"url\":\n",
    "            url.append(v)"
   ]
  },
  {
   "cell_type": "code",
   "execution_count": null,
   "metadata": {},
   "outputs": [],
   "source": [
    "myurl=\"https://www.sueddeutsch/toulouse-frankreich-bruecke-1.4686301\"\n",
    "htmlsource=requests.get(myurl).text\n",
    "tree=html.fromstring(htmlsource)"
   ]
  },
  {
   "cell_type": "code",
   "execution_count": 106,
   "metadata": {},
   "outputs": [],
   "source": [
    "for i in url:\n",
    "    htmlsource.append(requests.get(i).text)\n",
    "    for i in htmlsource:\n",
    "        tree.append(html.fromstring(i))"
   ]
  },
  {
   "cell_type": "code",
   "execution_count": 114,
   "metadata": {},
   "outputs": [],
   "source": [
    "tr=[]\n",
    "ht=[]"
   ]
  },
  {
   "cell_type": "code",
   "execution_count": 115,
   "metadata": {},
   "outputs": [],
   "source": [
    "for url in url:\n",
    "    ht.append(requests.get(url).text)\n",
    "    for i in ht:\n",
    "        tr.append(html.fromstring(i))"
   ]
  },
  {
   "cell_type": "code",
   "execution_count": 130,
   "metadata": {},
   "outputs": [],
   "source": [
    "myurl=\"https://www.stern.de/lifestyle/leute/prinz-andrew--skandal-reiht-sich-an-skandal-9009926.html?utm_campaign=alle-nachrichten&utm_medium=rss-feed&utm_source=standard\"\n",
    "htmlsource=requests.get(myurl).text\n",
    "tree=html.fromstring(htmlsource)"
   ]
  },
  {
   "cell_type": "code",
   "execution_count": 24,
   "metadata": {},
   "outputs": [],
   "source": [
    "for i in tree:\n",
    "    t=\"\".join(i.xpath('//*[@class=\"rtf-content-wrapper\"]/p[*]/text()'))\n",
    "    text.append(t)"
   ]
  },
  {
   "cell_type": "code",
   "execution_count": 140,
   "metadata": {},
   "outputs": [],
   "source": [
    "#Text in stern; \n",
    "\n",
    "t=\"\".join(tree.xpath('//*[@class=\"rtf-content-wrapper\"]//*/text()')).strip()"
   ]
  },
  {
   "cell_type": "code",
   "execution_count": 135,
   "metadata": {},
   "outputs": [],
   "source": [
    "t2= ' '.join(tree.xpath('//*[@class=\"article\"]//*[@itemprop=\"articleBody\"]/p//text()'))"
   ]
  },
  {
   "cell_type": "code",
   "execution_count": 137,
   "metadata": {},
   "outputs": [],
   "source": [
    "t2= ' '.join(tree.xpath('//*[@class=\"article\"]//*[@itemprop=\"articleBody\"]/p//text()')).replace(\"\\n           \", \"\").replace(\"\\xa0\", \"\").strip()"
   ]
  },
  {
   "cell_type": "code",
   "execution_count": 147,
   "metadata": {},
   "outputs": [],
   "source": [
    "try:\n",
    "    tex= ' '.join(tree.xpath('//*[@class=\"article\"]//*[@itemprop=\"articleBody\"]/p//text()'))\n",
    "except:\n",
    "    tex=\"Could not parse article text\""
   ]
  },
  {
   "cell_type": "code",
   "execution_count": 150,
   "metadata": {},
   "outputs": [
    {
     "name": "stdout",
     "output_type": "stream",
     "text": [
      "Prinz Andrew ist nicht erst seit seinem peinlichen TV-Interview das schwarze Schaf der britischen Königsfamilie.Prinz Andrew mit seiner Mutter, Queen Elizabeth II.Katastrophal! Verheerend! Die britischen Medien überschlagen sich. Die fassungslose Empörung gilt nicht etwa neuerlichen Brexit-Eskapaden im Parlament oder des Premierministers Boris Johnson (65), sondern dem Zentrum des britischen Selbstverständnisses - dem englischen Königshaus.Es geht um Prinz Andrew (59), der einen \"Tsunami und ein Übel im Ausmaß einer Atomexplosion\", ausgelöst habe, so der Königshausexperte Charlie Proctor. Der zweite Sohn von Königin Elizabeth II. (93) hatte der BBC ein Interview gegeben. Er nahm Stellung zu seiner Verwicklung im Missbrauchsskandal um den US-Millionär Jeffrey Epstein (66), der am 10. August tot in seiner Gefängniszelle aufgefunden wurde. Nach den Aussagen eines der Opfer soll auch Prinz Andrew Sex mit einer Minderjährigen gehabt haben.\n",
      "    \n",
      "        GujAd.cmd.push(function(){GujAd.push(\"outstream_div\");});\n",
      "      \n",
      "    Andrews beklemmender TV-AuftrittIn dem 60-minütigen TV-Interview stritt Andrew alle Vorwürfe ab. Es war jedoch nicht der Auftritt eines entschlossenen und gleichermaßen empörten Prinzen, der ein für alle Mal falsche Vorwürfe richtigstellte. Vielmehr erlebte das Land einen unsicheren, um Worte ringenden Mann, der stöhnte, seufzte, sich wand und in Widersprüche verstrickte. Ein Mann, der einmal mehr seinen schlechten Ruf bestätigte und ihm gerecht wurde: Prinz Peinlich.Diesen wenig schmeichelhaften Namen hat Andrew seit langem weg. Er gilt nun mal als schwarzes Schaf der Familie, die ihn seit Jahrzehnten hinter nichtssagenden Aufgaben zwecks Vermeidung von Flurschäden versteckt. Es heißt, dass sein älterer Bruder Prinz Charles (71), der Thronfolger und nächste König von England, über die Schlagzeilen nach dem BBC-Interview vor Wut geschäumt habe und Andrew am liebsten in seine zahlreichen Golfclubs verbannen würde. Aber selbst dort wären die Windsors nicht völlig sicher vor Andrew.Andrew hatte auch Phasen, in denen er beliebt warEs gab allerdings Zeiten, da mochten die Briten noch ihren \"randy Andy\" (etwa: \"Geiler Andy\"). Er wurde schon zu Schulzeiten bei nächtlichen Besuchen im Mädchenschlafzimmer des Internats Gordonstoun erwischt, doch er galt auch als tapferer Soldat: 1992 nahm er als Hubschrauberpilot an Bord des Flugzeugträgers \"HMS Invicible\" an den Kampfhandlungen des Falkland-Kriegs teil.Später sorgten die amourösen Abenteuer des Prinzen immer wieder für Schlagzeilen in der Klatschpresse. Besonders seine Affäre mit dem Nacktmodel Koo Stark kostete Andrew und das englische Königshaus viele Sympathien. Auch die Hochzeit mit der Majorstochter Sarah Ferguson (1986) konnte sein Image nicht nachhaltig aufpolieren. Nach etlichen Skandalen ließen sie sich 1996 scheiden.Andrew, 1986 auch zum Duke of York ernannt, pflegte nach seinem Abschied von der Royal Navy seinen Ruf als liebestoller Müßiggänger. Er spielte hauptsächlich Golf, wurde, wie übrigens alle Mitglieder der Königsfamilie, zum Ehrenoberst diverser Einheiten der britischen Streitkräfte befördert und stand von 2000 bis 2006 dem englischen Fußballverband Football Association als Präsident vor. Zudem ist er seit 2015 Kanzler der nordenglischen Universität von Huddersfield, obwohl er als junger Mann außerhalb der Streitkräfte nie eine Hochschule von innen gesehen hat.Trotz seiner Fehltritte keine finanziellen SorgenDas alles sind Ämter, in denen es sich der Duke, wie man ihn gern nennt, gemütlich einrichten und sich vor allzu peinlichen Fragen nach der Finanzierung seines Lebensunterhalts verstecken kann. Als Mitglied der Königsfamilie bezieht er eine Apanage, über deren Höhe seine Mutter, die Queen, entscheidet.Vor drei Jahren zog er sich den Unmut seiner Mutter zu, als er ihr einen Brief schrieb, in dem er für seine Töchter Prinzessin Beatrice (31) und Prinzessin Eugenie (29) die Zuweisung offizieller Repräsentationspflichten einforderte. Damit sind allerdings auch einträgliche Vergünstigungen verbunden, etwa eine Apanage aus Steuergeldern sowie angemessen große Appartements im Kensington Palast.Andrews letzte geregelte Beschäftigung liegt acht Jahre zurück. Von 2001 bis 2011 flog der Duke als Handels-Sonderbotschafter der britischen Wirtschaft mit dem Flugzeug um die Welt. Schnell brachte das ihm seinen zweiten Spitznamen \"Airmiles Andy\" ein. Nach Medienberichten soll er das eine oder andere Mal eher privat unterwegs gewesen sein.Freundschaft zu Jeffrey Epstein brach Andrew endgültig das GenickÖffentlichen Unmut erregte Prinz Andrew auch, als er etwa vom Steuerzahler finanzierte Staatsbesuche mit Golfpartien verband. Als Handels-Botschafter lud er sogar Diktatoren-Söhne in den Buckingham Palast ein. 2011 musste er endgültig von seinem Posten zurücktreten, als seine Freundschaft zu Jeffrey Epstein bekannte wurde, der bereits 2008 wegen Missbrauchs einer 14-Jährigen ins Gefängnis kam.Nach dem jüngsten Eklat um das BBC-Interview stand dem Prinzen nur seine Ex-Frau Sarah Ferguson, die ebenfalls als besonders schmerzfrei gilt, zur Seite. \"Andrew ist ein wahrer und echter Gentleman\", twitterte die Herzogin von York. Das sieht der Duke auch so. Nach der Aufzeichnung des Interviews habe er laut der Zeitung \"The Guardian\" freundlich gesagt: \"Das ist doch gut gelaufen, nicht wahr?\"\n"
     ]
    }
   ],
   "source": [
    "print(t)"
   ]
  },
  {
   "cell_type": "code",
   "execution_count": null,
   "metadata": {},
   "outputs": [],
   "source": [
    "#Standaard: \n",
    "\n"
   ]
  },
  {
   "cell_type": "code",
   "execution_count": 14,
   "metadata": {
    "scrolled": false
   },
   "outputs": [
    {
     "name": "stderr",
     "output_type": "stream",
     "text": [
      "INFO:INCA:Started scraping\n"
     ]
    }
   ],
   "source": [
    "data=myinca.rssscrapers.standaard(save=False)"
   ]
  },
  {
   "cell_type": "code",
   "execution_count": null,
   "metadata": {},
   "outputs": [],
   "source": []
  },
  {
   "cell_type": "code",
   "execution_count": null,
   "metadata": {},
   "outputs": [],
   "source": []
  },
  {
   "cell_type": "code",
   "execution_count": 15,
   "metadata": {},
   "outputs": [
    {
     "name": "stdout",
     "output_type": "stream",
     "text": [
      "dict_keys(['_id', 'title_rss', 'teaser_rss', 'publication_date', 'htmlsource', 'feedurl', 'url', 'title', 'text', 'category', 'doctype', 'META'])\n",
      "dict_keys(['_id', 'title_rss', 'teaser_rss', 'publication_date', 'htmlsource', 'feedurl', 'url', 'title', 'text', 'byline_source', 'category', 'doctype', 'META'])\n",
      "dict_keys(['_id', 'title_rss', 'teaser_rss', 'publication_date', 'htmlsource', 'feedurl', 'url', 'title', 'text', 'category', 'doctype', 'META'])\n",
      "dict_keys(['_id', 'title_rss', 'teaser_rss', 'publication_date', 'htmlsource', 'feedurl', 'url', 'title', 'text', 'byline_source', 'doctype', 'META'])\n",
      "dict_keys(['_id', 'title_rss', 'teaser_rss', 'publication_date', 'htmlsource', 'feedurl', 'url', 'title', 'text', 'byline_source', 'category', 'doctype', 'META'])\n",
      "dict_keys(['_id', 'title_rss', 'teaser_rss', 'publication_date', 'htmlsource', 'feedurl', 'url', 'title', 'text', 'category', 'doctype', 'META'])\n",
      "dict_keys(['_id', 'title_rss', 'teaser_rss', 'publication_date', 'htmlsource', 'feedurl', 'url', 'title', 'text', 'byline_source', 'category', 'doctype', 'META'])\n",
      "dict_keys(['_id', 'title_rss', 'teaser_rss', 'publication_date', 'htmlsource', 'feedurl', 'url', 'title', 'text', 'byline_source', 'category', 'doctype', 'META'])\n",
      "dict_keys(['_id', 'title_rss', 'teaser_rss', 'publication_date', 'htmlsource', 'feedurl', 'url', 'title', 'text', 'doctype', 'META'])\n",
      "dict_keys(['_id', 'title_rss', 'teaser_rss', 'publication_date', 'htmlsource', 'feedurl', 'url', 'category', 'doctype', 'META'])\n",
      "dict_keys(['_id', 'title_rss', 'teaser_rss', 'publication_date', 'htmlsource', 'feedurl', 'url', 'title', 'text', 'category', 'doctype', 'META'])\n",
      "dict_keys(['_id', 'title_rss', 'teaser_rss', 'publication_date', 'htmlsource', 'feedurl', 'url', 'title', 'text', 'category', 'doctype', 'META'])\n",
      "dict_keys(['_id', 'title_rss', 'teaser_rss', 'publication_date', 'htmlsource', 'feedurl', 'url', 'title', 'text', 'byline_source', 'category', 'doctype', 'META'])\n",
      "dict_keys(['_id', 'title_rss', 'teaser_rss', 'publication_date', 'htmlsource', 'feedurl', 'url', 'title', 'text', 'doctype', 'META'])\n",
      "dict_keys(['_id', 'title_rss', 'teaser_rss', 'publication_date', 'htmlsource', 'feedurl', 'url', 'title', 'text', 'doctype', 'META'])\n",
      "dict_keys(['_id', 'title_rss', 'teaser_rss', 'publication_date', 'htmlsource', 'feedurl', 'url', 'title', 'text', 'category', 'doctype', 'META'])\n",
      "dict_keys(['_id', 'title_rss', 'teaser_rss', 'publication_date', 'htmlsource', 'feedurl', 'url', 'title', 'text', 'category', 'doctype', 'META'])\n",
      "dict_keys(['_id', 'title_rss', 'teaser_rss', 'publication_date', 'htmlsource', 'feedurl', 'url', 'title', 'text', 'category', 'doctype', 'META'])\n",
      "dict_keys(['_id', 'title_rss', 'teaser_rss', 'publication_date', 'htmlsource', 'feedurl', 'url', 'title', 'text', 'category', 'doctype', 'META'])\n",
      "dict_keys(['_id', 'title_rss', 'teaser_rss', 'publication_date', 'htmlsource', 'feedurl', 'url', 'title', 'text', 'byline_source', 'category', 'doctype', 'META'])\n",
      "dict_keys(['_id', 'title_rss', 'teaser_rss', 'publication_date', 'htmlsource', 'feedurl', 'url', 'title', 'text', 'category', 'doctype', 'META'])\n",
      "dict_keys(['_id', 'title_rss', 'teaser_rss', 'publication_date', 'htmlsource', 'feedurl', 'url', 'title', 'text', 'byline_source', 'category', 'doctype', 'META'])\n",
      "dict_keys(['_id', 'title_rss', 'teaser_rss', 'publication_date', 'htmlsource', 'feedurl', 'url', 'doctype', 'META'])\n",
      "dict_keys(['_id', 'title_rss', 'teaser_rss', 'publication_date', 'htmlsource', 'feedurl', 'url', 'title', 'text', 'doctype', 'META'])\n",
      "dict_keys(['_id', 'title_rss', 'teaser_rss', 'publication_date', 'htmlsource', 'feedurl', 'url', 'title', 'text', 'doctype', 'META'])\n",
      "dict_keys(['_id', 'title_rss', 'teaser_rss', 'publication_date', 'htmlsource', 'feedurl', 'url', 'title', 'text', 'category', 'doctype', 'META'])\n",
      "dict_keys(['_id', 'title_rss', 'teaser_rss', 'publication_date', 'htmlsource', 'feedurl', 'url', 'title', 'text', 'byline_source', 'category', 'doctype', 'META'])\n",
      "dict_keys(['_id', 'title_rss', 'teaser_rss', 'publication_date', 'htmlsource', 'feedurl', 'url', 'title', 'text', 'byline_source', 'category', 'doctype', 'META'])\n",
      "dict_keys(['_id', 'title_rss', 'teaser_rss', 'publication_date', 'htmlsource', 'feedurl', 'url', 'title', 'text', 'byline_source', 'category', 'doctype', 'META'])\n",
      "dict_keys(['_id', 'title_rss', 'teaser_rss', 'publication_date', 'htmlsource', 'feedurl', 'url', 'title', 'text', 'byline_source', 'category', 'doctype', 'META'])\n",
      "dict_keys(['_id', 'title_rss', 'teaser_rss', 'publication_date', 'htmlsource', 'feedurl', 'url', 'title', 'text', 'byline_source', 'category', 'doctype', 'META'])\n",
      "dict_keys(['_id', 'title_rss', 'teaser_rss', 'publication_date', 'htmlsource', 'feedurl', 'url', 'title', 'text', 'category', 'doctype', 'META'])\n",
      "dict_keys(['_id', 'title_rss', 'teaser_rss', 'publication_date', 'htmlsource', 'feedurl', 'url', 'title', 'text', 'byline_source', 'category', 'doctype', 'META'])\n",
      "dict_keys(['_id', 'title_rss', 'teaser_rss', 'publication_date', 'htmlsource', 'feedurl', 'url', 'title', 'text', 'byline_source', 'category', 'doctype', 'META'])\n",
      "dict_keys(['_id', 'title_rss', 'teaser_rss', 'publication_date', 'htmlsource', 'feedurl', 'url', 'title', 'text', 'doctype', 'META'])\n",
      "dict_keys(['_id', 'title_rss', 'teaser_rss', 'publication_date', 'htmlsource', 'feedurl', 'url', 'title', 'text', 'byline_source', 'category', 'doctype', 'META'])\n",
      "dict_keys(['_id', 'title_rss', 'teaser_rss', 'publication_date', 'htmlsource', 'feedurl', 'url', 'title', 'text', 'byline_source', 'category', 'doctype', 'META'])\n",
      "dict_keys(['_id', 'title_rss', 'teaser_rss', 'publication_date', 'htmlsource', 'feedurl', 'url', 'title', 'text', 'doctype', 'META'])\n",
      "dict_keys(['_id', 'title_rss', 'teaser_rss', 'publication_date', 'htmlsource', 'feedurl', 'url', 'title', 'text', 'doctype', 'META'])\n",
      "dict_keys(['_id', 'title_rss', 'teaser_rss', 'publication_date', 'htmlsource', 'feedurl', 'url', 'title', 'text', 'category', 'doctype', 'META'])\n",
      "dict_keys(['_id', 'title_rss', 'teaser_rss', 'publication_date', 'htmlsource', 'feedurl', 'url', 'title', 'text', 'category', 'doctype', 'META'])\n",
      "dict_keys(['_id', 'title_rss', 'teaser_rss', 'publication_date', 'htmlsource', 'feedurl', 'url', 'title', 'text', 'category', 'doctype', 'META'])\n",
      "dict_keys(['_id', 'title_rss', 'teaser_rss', 'publication_date', 'htmlsource', 'feedurl', 'url', 'title', 'text', 'byline_source', 'category', 'doctype', 'META'])\n",
      "dict_keys(['_id', 'title_rss', 'teaser_rss', 'publication_date', 'htmlsource', 'feedurl', 'url', 'title', 'text', 'byline_source', 'category', 'doctype', 'META'])\n",
      "dict_keys(['_id', 'title_rss', 'teaser_rss', 'publication_date', 'htmlsource', 'feedurl', 'url', 'title', 'text', 'byline_source', 'category', 'doctype', 'META'])\n",
      "dict_keys(['_id', 'title_rss', 'teaser_rss', 'publication_date', 'htmlsource', 'feedurl', 'url', 'title', 'text', 'byline_source', 'category', 'doctype', 'META'])\n",
      "dict_keys(['_id', 'title_rss', 'teaser_rss', 'publication_date', 'htmlsource', 'feedurl', 'url', 'title', 'text', 'byline_source', 'category', 'doctype', 'META'])\n",
      "dict_keys(['_id', 'title_rss', 'teaser_rss', 'publication_date', 'htmlsource', 'feedurl', 'url', 'title', 'text', 'byline_source', 'category', 'doctype', 'META'])\n",
      "dict_keys(['_id', 'title_rss', 'teaser_rss', 'publication_date', 'htmlsource', 'feedurl', 'url', 'title', 'text', 'byline_source', 'category', 'doctype', 'META'])\n",
      "dict_keys(['_id', 'title_rss', 'teaser_rss', 'publication_date', 'htmlsource', 'feedurl', 'url', 'title', 'text', 'byline_source', 'category', 'doctype', 'META'])\n",
      "dict_keys(['_id', 'title_rss', 'teaser_rss', 'publication_date', 'htmlsource', 'feedurl', 'url', 'title', 'text', 'doctype', 'META'])\n",
      "dict_keys(['_id', 'title_rss', 'teaser_rss', 'publication_date', 'htmlsource', 'feedurl', 'url', 'title', 'text', 'category', 'doctype', 'META'])\n",
      "dict_keys(['_id', 'title_rss', 'teaser_rss', 'publication_date', 'htmlsource', 'feedurl', 'url', 'title', 'text', 'byline_source', 'category', 'doctype', 'META'])\n",
      "dict_keys(['_id', 'title_rss', 'teaser_rss', 'publication_date', 'htmlsource', 'feedurl', 'url', 'title', 'text', 'doctype', 'META'])\n",
      "dict_keys(['_id', 'title_rss', 'teaser_rss', 'publication_date', 'htmlsource', 'feedurl', 'url', 'title', 'text', 'category', 'doctype', 'META'])\n",
      "dict_keys(['_id', 'title_rss', 'teaser_rss', 'publication_date', 'htmlsource', 'feedurl', 'url', 'title', 'text', 'category', 'doctype', 'META'])\n",
      "dict_keys(['_id', 'title_rss', 'teaser_rss', 'publication_date', 'htmlsource', 'feedurl', 'url', 'title', 'text', 'category', 'doctype', 'META'])\n",
      "dict_keys(['_id', 'title_rss', 'teaser_rss', 'publication_date', 'htmlsource', 'feedurl', 'url', 'title', 'text', 'doctype', 'META'])\n",
      "dict_keys(['_id', 'title_rss', 'teaser_rss', 'publication_date', 'htmlsource', 'feedurl', 'url', 'title', 'text', 'doctype', 'META'])\n",
      "dict_keys(['_id', 'title_rss', 'teaser_rss', 'publication_date', 'htmlsource', 'feedurl', 'url', 'title', 'text', 'category', 'doctype', 'META'])\n",
      "dict_keys(['_id', 'title_rss', 'teaser_rss', 'publication_date', 'htmlsource', 'feedurl', 'url', 'title', 'text', 'category', 'doctype', 'META'])\n",
      "dict_keys(['_id', 'title_rss', 'teaser_rss', 'publication_date', 'htmlsource', 'feedurl', 'url', 'title', 'text', 'category', 'doctype', 'META'])\n",
      "dict_keys(['_id', 'title_rss', 'teaser_rss', 'publication_date', 'htmlsource', 'feedurl', 'url', 'title', 'text', 'byline_source', 'category', 'doctype', 'META'])\n",
      "dict_keys(['_id', 'title_rss', 'teaser_rss', 'publication_date', 'htmlsource', 'feedurl', 'url', 'title', 'text', 'category', 'doctype', 'META'])\n",
      "dict_keys(['_id', 'title_rss', 'teaser_rss', 'publication_date', 'htmlsource', 'feedurl', 'url', 'title', 'text', 'doctype', 'META'])\n",
      "dict_keys(['_id', 'title_rss', 'teaser_rss', 'publication_date', 'htmlsource', 'feedurl', 'url', 'title', 'text', 'doctype', 'META'])\n",
      "dict_keys(['_id', 'title_rss', 'teaser_rss', 'publication_date', 'htmlsource', 'feedurl', 'url', 'title', 'text', 'doctype', 'META'])\n",
      "dict_keys(['_id', 'title_rss', 'teaser_rss', 'publication_date', 'htmlsource', 'feedurl', 'url', 'title', 'text', 'doctype', 'META'])\n",
      "dict_keys(['_id', 'title_rss', 'teaser_rss', 'publication_date', 'htmlsource', 'feedurl', 'url', 'title', 'text', 'category', 'doctype', 'META'])\n",
      "dict_keys(['_id', 'title_rss', 'teaser_rss', 'publication_date', 'htmlsource', 'feedurl', 'url', 'title', 'text', 'category', 'doctype', 'META'])\n",
      "dict_keys(['_id', 'title_rss', 'teaser_rss', 'publication_date', 'htmlsource', 'feedurl', 'url', 'title', 'text', 'doctype', 'META'])\n",
      "dict_keys(['_id', 'title_rss', 'teaser_rss', 'publication_date', 'htmlsource', 'feedurl', 'url', 'title', 'text', 'byline_source', 'category', 'doctype', 'META'])\n",
      "dict_keys(['_id', 'title_rss', 'teaser_rss', 'publication_date', 'htmlsource', 'feedurl', 'url', 'title', 'text', 'byline_source', 'doctype', 'META'])\n",
      "dict_keys(['_id', 'title_rss', 'teaser_rss', 'publication_date', 'htmlsource', 'feedurl', 'url', 'title', 'text', 'category', 'doctype', 'META'])\n",
      "dict_keys(['_id', 'title_rss', 'teaser_rss', 'publication_date', 'htmlsource', 'feedurl', 'url', 'title', 'text', 'category', 'doctype', 'META'])\n",
      "dict_keys(['_id', 'title_rss', 'teaser_rss', 'publication_date', 'htmlsource', 'feedurl', 'url', 'title', 'text', 'doctype', 'META'])\n",
      "dict_keys(['_id', 'title_rss', 'teaser_rss', 'publication_date', 'htmlsource', 'feedurl', 'url', 'title', 'text', 'byline_source', 'category', 'doctype', 'META'])\n",
      "dict_keys(['_id', 'title_rss', 'teaser_rss', 'publication_date', 'htmlsource', 'feedurl', 'url', 'title', 'text', 'byline_source', 'category', 'doctype', 'META'])\n",
      "dict_keys(['_id', 'title_rss', 'teaser_rss', 'publication_date', 'htmlsource', 'feedurl', 'url', 'title', 'text', 'category', 'doctype', 'META'])\n",
      "dict_keys(['_id', 'title_rss', 'teaser_rss', 'publication_date', 'htmlsource', 'feedurl', 'url', 'title', 'text', 'byline_source', 'category', 'doctype', 'META'])\n",
      "dict_keys(['_id', 'title_rss', 'teaser_rss', 'publication_date', 'htmlsource', 'feedurl', 'url', 'title', 'text', 'byline_source', 'category', 'doctype', 'META'])\n",
      "dict_keys(['_id', 'title_rss', 'teaser_rss', 'publication_date', 'htmlsource', 'feedurl', 'url', 'title', 'text', 'category', 'doctype', 'META'])\n",
      "dict_keys(['_id', 'title_rss', 'teaser_rss', 'publication_date', 'htmlsource', 'feedurl', 'url', 'title', 'text', 'category', 'doctype', 'META'])\n",
      "dict_keys(['_id', 'title_rss', 'teaser_rss', 'publication_date', 'htmlsource', 'feedurl', 'url', 'title', 'text', 'category', 'doctype', 'META'])\n",
      "dict_keys(['_id', 'title_rss', 'teaser_rss', 'publication_date', 'htmlsource', 'feedurl', 'url', 'title', 'text', 'category', 'doctype', 'META'])\n",
      "dict_keys(['_id', 'title_rss', 'teaser_rss', 'publication_date', 'htmlsource', 'feedurl', 'url', 'title', 'doctype', 'META'])\n",
      "dict_keys(['_id', 'title_rss', 'teaser_rss', 'publication_date', 'htmlsource', 'feedurl', 'url', 'title', 'text', 'byline_source', 'category', 'doctype', 'META'])\n",
      "dict_keys(['_id', 'title_rss', 'teaser_rss', 'publication_date', 'htmlsource', 'feedurl', 'url', 'title', 'text', 'byline_source', 'category', 'doctype', 'META'])\n",
      "dict_keys(['_id', 'title_rss', 'teaser_rss', 'publication_date', 'htmlsource', 'feedurl', 'url', 'title', 'text', 'byline_source', 'category', 'doctype', 'META'])\n",
      "dict_keys(['_id', 'title_rss', 'teaser_rss', 'publication_date', 'htmlsource', 'feedurl', 'url', 'title', 'text', 'category', 'doctype', 'META'])\n",
      "dict_keys(['_id', 'title_rss', 'teaser_rss', 'publication_date', 'htmlsource', 'feedurl', 'url', 'title', 'text', 'category', 'doctype', 'META'])\n",
      "dict_keys(['_id', 'title_rss', 'teaser_rss', 'publication_date', 'htmlsource', 'feedurl', 'url', 'title', 'text', 'category', 'doctype', 'META'])\n",
      "dict_keys(['_id', 'title_rss', 'teaser_rss', 'publication_date', 'htmlsource', 'feedurl', 'url', 'title', 'text', 'byline_source', 'category', 'doctype', 'META'])\n",
      "dict_keys(['_id', 'title_rss', 'teaser_rss', 'publication_date', 'htmlsource', 'feedurl', 'url', 'title', 'text', 'category', 'doctype', 'META'])\n",
      "dict_keys(['_id', 'title_rss', 'teaser_rss', 'publication_date', 'htmlsource', 'feedurl', 'url', 'title', 'text', 'byline_source', 'doctype', 'META'])\n",
      "dict_keys(['_id', 'title_rss', 'teaser_rss', 'publication_date', 'htmlsource', 'feedurl', 'url', 'title', 'text', 'byline_source', 'category', 'doctype', 'META'])\n",
      "dict_keys(['_id', 'title_rss', 'teaser_rss', 'publication_date', 'htmlsource', 'feedurl', 'url', 'title', 'text', 'byline_source', 'category', 'doctype', 'META'])\n",
      "dict_keys(['_id', 'title_rss', 'teaser_rss', 'publication_date', 'htmlsource', 'feedurl', 'url', 'title', 'text', 'byline_source', 'category', 'doctype', 'META'])\n",
      "dict_keys(['_id', 'title_rss', 'teaser_rss', 'publication_date', 'htmlsource', 'feedurl', 'url', 'title', 'text', 'byline_source', 'category', 'doctype', 'META'])\n",
      "dict_keys(['_id', 'title_rss', 'teaser_rss', 'publication_date', 'htmlsource', 'feedurl', 'url', 'title', 'text', 'category', 'doctype', 'META'])\n",
      "dict_keys(['_id', 'title_rss', 'teaser_rss', 'publication_date', 'htmlsource', 'feedurl', 'url', 'title', 'text', 'byline_source', 'doctype', 'META'])\n",
      "dict_keys(['_id', 'title_rss', 'teaser_rss', 'publication_date', 'htmlsource', 'feedurl', 'url', 'title', 'text', 'doctype', 'META'])\n",
      "dict_keys(['_id', 'title_rss', 'teaser_rss', 'publication_date', 'htmlsource', 'feedurl', 'url', 'title', 'text', 'category', 'doctype', 'META'])\n",
      "dict_keys(['_id', 'title_rss', 'teaser_rss', 'publication_date', 'htmlsource', 'feedurl', 'url', 'title', 'text', 'doctype', 'META'])\n",
      "dict_keys(['_id', 'title_rss', 'teaser_rss', 'publication_date', 'htmlsource', 'feedurl', 'url', 'title', 'text', 'doctype', 'META'])\n",
      "dict_keys(['_id', 'title_rss', 'teaser_rss', 'publication_date', 'htmlsource', 'feedurl', 'url', 'title', 'text', 'byline_source', 'category', 'doctype', 'META'])\n",
      "dict_keys(['_id', 'title_rss', 'teaser_rss', 'publication_date', 'htmlsource', 'feedurl', 'url', 'title', 'text', 'byline_source', 'category', 'doctype', 'META'])\n",
      "dict_keys(['_id', 'title_rss', 'teaser_rss', 'publication_date', 'htmlsource', 'feedurl', 'url', 'title', 'text', 'category', 'doctype', 'META'])\n",
      "dict_keys(['_id', 'title_rss', 'teaser_rss', 'publication_date', 'htmlsource', 'feedurl', 'url', 'title', 'text', 'byline_source', 'category', 'doctype', 'META'])\n"
     ]
    },
    {
     "name": "stdout",
     "output_type": "stream",
     "text": [
      "dict_keys(['_id', 'title_rss', 'teaser_rss', 'publication_date', 'htmlsource', 'feedurl', 'url', 'title', 'text', 'byline_source', 'category', 'doctype', 'META'])\n",
      "dict_keys(['_id', 'title_rss', 'teaser_rss', 'publication_date', 'htmlsource', 'feedurl', 'url', 'title', 'text', 'category', 'doctype', 'META'])\n",
      "dict_keys(['_id', 'title_rss', 'teaser_rss', 'publication_date', 'htmlsource', 'feedurl', 'url', 'title', 'text', 'category', 'doctype', 'META'])\n",
      "dict_keys(['_id', 'title_rss', 'teaser_rss', 'publication_date', 'htmlsource', 'feedurl', 'url', 'title', 'text', 'category', 'doctype', 'META'])\n",
      "dict_keys(['_id', 'title_rss', 'teaser_rss', 'publication_date', 'htmlsource', 'feedurl', 'url', 'title', 'text', 'byline_source', 'category', 'doctype', 'META'])\n",
      "dict_keys(['_id', 'title_rss', 'teaser_rss', 'publication_date', 'htmlsource', 'feedurl', 'url', 'title', 'text', 'doctype', 'META'])\n",
      "dict_keys(['_id', 'title_rss', 'teaser_rss', 'publication_date', 'htmlsource', 'feedurl', 'url', 'title', 'text', 'category', 'doctype', 'META'])\n",
      "dict_keys(['_id', 'title_rss', 'teaser_rss', 'publication_date', 'htmlsource', 'feedurl', 'url', 'title', 'text', 'doctype', 'META'])\n",
      "dict_keys(['_id', 'title_rss', 'teaser_rss', 'publication_date', 'htmlsource', 'feedurl', 'url', 'title', 'text', 'category', 'doctype', 'META'])\n",
      "dict_keys(['_id', 'title_rss', 'teaser_rss', 'publication_date', 'htmlsource', 'feedurl', 'url', 'title', 'text', 'byline_source', 'category', 'doctype', 'META'])\n",
      "dict_keys(['_id', 'title_rss', 'teaser_rss', 'publication_date', 'htmlsource', 'feedurl', 'url', 'title', 'text', 'byline_source', 'doctype', 'META'])\n",
      "dict_keys(['_id', 'title_rss', 'teaser_rss', 'publication_date', 'htmlsource', 'feedurl', 'url', 'title', 'text', 'byline_source', 'category', 'doctype', 'META'])\n",
      "dict_keys(['_id', 'title_rss', 'teaser_rss', 'publication_date', 'htmlsource', 'feedurl', 'url', 'title', 'text', 'byline_source', 'category', 'doctype', 'META'])\n",
      "dict_keys(['_id', 'title_rss', 'teaser_rss', 'publication_date', 'htmlsource', 'feedurl', 'url', 'title', 'text', 'byline_source', 'category', 'doctype', 'META'])\n",
      "dict_keys(['_id', 'title_rss', 'teaser_rss', 'publication_date', 'htmlsource', 'feedurl', 'url', 'title', 'text', 'byline_source', 'category', 'doctype', 'META'])\n",
      "dict_keys(['_id', 'title_rss', 'teaser_rss', 'publication_date', 'htmlsource', 'feedurl', 'url', 'title', 'text', 'category', 'doctype', 'META'])\n",
      "dict_keys(['_id', 'title_rss', 'teaser_rss', 'publication_date', 'htmlsource', 'feedurl', 'url', 'title', 'text', 'category', 'doctype', 'META'])\n",
      "dict_keys(['_id', 'title_rss', 'teaser_rss', 'publication_date', 'htmlsource', 'feedurl', 'url', 'title', 'text', 'byline_source', 'category', 'doctype', 'META'])\n",
      "dict_keys(['_id', 'title_rss', 'teaser_rss', 'publication_date', 'htmlsource', 'feedurl', 'url', 'title', 'text', 'byline_source', 'category', 'doctype', 'META'])\n",
      "dict_keys(['_id', 'title_rss', 'teaser_rss', 'publication_date', 'htmlsource', 'feedurl', 'url', 'title', 'text', 'category', 'doctype', 'META'])\n",
      "dict_keys(['_id', 'title_rss', 'teaser_rss', 'publication_date', 'htmlsource', 'feedurl', 'url', 'title', 'text', 'category', 'doctype', 'META'])\n",
      "dict_keys(['_id', 'title_rss', 'teaser_rss', 'publication_date', 'htmlsource', 'feedurl', 'url', 'title', 'text', 'category', 'doctype', 'META'])\n",
      "dict_keys(['_id', 'title_rss', 'teaser_rss', 'publication_date', 'htmlsource', 'feedurl', 'url', 'title', 'text', 'category', 'doctype', 'META'])\n",
      "dict_keys(['_id', 'title_rss', 'teaser_rss', 'publication_date', 'htmlsource', 'feedurl', 'url', 'title', 'text', 'byline_source', 'category', 'doctype', 'META'])\n",
      "dict_keys(['_id', 'title_rss', 'teaser_rss', 'publication_date', 'htmlsource', 'feedurl', 'url', 'title', 'text', 'byline_source', 'category', 'doctype', 'META'])\n",
      "dict_keys(['_id', 'title_rss', 'teaser_rss', 'publication_date', 'htmlsource', 'feedurl', 'url', 'title', 'text', 'category', 'doctype', 'META'])\n",
      "dict_keys(['_id', 'title_rss', 'teaser_rss', 'publication_date', 'htmlsource', 'feedurl', 'url', 'title', 'text', 'byline_source', 'category', 'doctype', 'META'])\n",
      "dict_keys(['_id', 'title_rss', 'teaser_rss', 'publication_date', 'htmlsource', 'feedurl', 'url', 'title', 'text', 'byline_source', 'category', 'doctype', 'META'])\n",
      "dict_keys(['_id', 'title_rss', 'teaser_rss', 'publication_date', 'htmlsource', 'feedurl', 'url', 'title', 'text', 'byline_source', 'category', 'doctype', 'META'])\n",
      "dict_keys(['_id', 'title_rss', 'teaser_rss', 'publication_date', 'htmlsource', 'feedurl', 'url', 'title', 'text', 'byline_source', 'category', 'doctype', 'META'])\n",
      "dict_keys(['_id', 'title_rss', 'teaser_rss', 'publication_date', 'htmlsource', 'feedurl', 'url', 'title', 'text', 'byline_source', 'category', 'doctype', 'META'])\n",
      "dict_keys(['_id', 'title_rss', 'teaser_rss', 'publication_date', 'htmlsource', 'feedurl', 'url', 'title', 'text', 'category', 'doctype', 'META'])\n",
      "dict_keys(['_id', 'title_rss', 'teaser_rss', 'publication_date', 'htmlsource', 'feedurl', 'url', 'title', 'text', 'byline_source', 'category', 'doctype', 'META'])\n",
      "dict_keys(['_id', 'title_rss', 'teaser_rss', 'publication_date', 'htmlsource', 'feedurl', 'url', 'title', 'text', 'category', 'doctype', 'META'])\n",
      "dict_keys(['_id', 'title_rss', 'teaser_rss', 'publication_date', 'htmlsource', 'feedurl', 'url', 'title', 'text', 'category', 'doctype', 'META'])\n",
      "dict_keys(['_id', 'title_rss', 'teaser_rss', 'publication_date', 'htmlsource', 'feedurl', 'url', 'title', 'text', 'category', 'doctype', 'META'])\n",
      "dict_keys(['_id', 'title_rss', 'teaser_rss', 'publication_date', 'htmlsource', 'feedurl', 'url', 'title', 'text', 'byline_source', 'category', 'doctype', 'META'])\n",
      "dict_keys(['_id', 'title_rss', 'teaser_rss', 'publication_date', 'htmlsource', 'feedurl', 'url', 'title', 'text', 'byline_source', 'category', 'doctype', 'META'])\n",
      "dict_keys(['_id', 'title_rss', 'teaser_rss', 'publication_date', 'htmlsource', 'feedurl', 'url', 'title', 'text', 'category', 'doctype', 'META'])\n",
      "dict_keys(['_id', 'title_rss', 'teaser_rss', 'publication_date', 'htmlsource', 'feedurl', 'url', 'title', 'text', 'byline_source', 'category', 'doctype', 'META'])\n",
      "dict_keys(['_id', 'title_rss', 'teaser_rss', 'publication_date', 'htmlsource', 'feedurl', 'url', 'title', 'text', 'byline_source', 'category', 'doctype', 'META'])\n",
      "dict_keys(['_id', 'title_rss', 'teaser_rss', 'publication_date', 'htmlsource', 'feedurl', 'url', 'title', 'text', 'category', 'doctype', 'META'])\n",
      "dict_keys(['_id', 'title_rss', 'teaser_rss', 'publication_date', 'htmlsource', 'feedurl', 'url', 'title', 'text', 'doctype', 'META'])\n",
      "dict_keys(['_id', 'title_rss', 'teaser_rss', 'publication_date', 'htmlsource', 'feedurl', 'url', 'title', 'text', 'category', 'doctype', 'META'])\n",
      "dict_keys(['_id', 'title_rss', 'teaser_rss', 'publication_date', 'htmlsource', 'feedurl', 'url', 'title', 'text', 'byline_source', 'category', 'doctype', 'META'])\n",
      "dict_keys(['_id', 'title_rss', 'teaser_rss', 'publication_date', 'htmlsource', 'feedurl', 'url', 'title', 'text', 'category', 'doctype', 'META'])\n",
      "dict_keys(['_id', 'title_rss', 'teaser_rss', 'publication_date', 'htmlsource', 'feedurl', 'url', 'title', 'text', 'category', 'doctype', 'META'])\n",
      "dict_keys(['_id', 'title_rss', 'teaser_rss', 'publication_date', 'htmlsource', 'feedurl', 'url', 'title', 'text', 'category', 'doctype', 'META'])\n",
      "dict_keys(['_id', 'title_rss', 'teaser_rss', 'publication_date', 'htmlsource', 'feedurl', 'url', 'title', 'text', 'category', 'doctype', 'META'])\n",
      "dict_keys(['_id', 'title_rss', 'teaser_rss', 'publication_date', 'htmlsource', 'feedurl', 'url', 'title', 'text', 'byline_source', 'category', 'doctype', 'META'])\n",
      "dict_keys(['_id', 'title_rss', 'teaser_rss', 'publication_date', 'htmlsource', 'feedurl', 'url', 'title', 'text', 'category', 'doctype', 'META'])\n",
      "dict_keys(['_id', 'title_rss', 'teaser_rss', 'publication_date', 'htmlsource', 'feedurl', 'url', 'title', 'text', 'category', 'doctype', 'META'])\n",
      "dict_keys(['_id', 'title_rss', 'teaser_rss', 'publication_date', 'htmlsource', 'feedurl', 'url', 'title', 'text', 'category', 'doctype', 'META'])\n",
      "dict_keys(['_id', 'title_rss', 'teaser_rss', 'publication_date', 'htmlsource', 'feedurl', 'url', 'title', 'text', 'category', 'doctype', 'META'])\n",
      "dict_keys(['_id', 'title_rss', 'teaser_rss', 'publication_date', 'htmlsource', 'feedurl', 'url', 'title', 'text', 'doctype', 'META'])\n",
      "dict_keys(['_id', 'title_rss', 'teaser_rss', 'publication_date', 'htmlsource', 'feedurl', 'url', 'title', 'text', 'category', 'doctype', 'META'])\n",
      "dict_keys(['_id', 'title_rss', 'teaser_rss', 'publication_date', 'htmlsource', 'feedurl', 'url', 'title', 'text', 'category', 'doctype', 'META'])\n",
      "dict_keys(['_id', 'title_rss', 'teaser_rss', 'publication_date', 'htmlsource', 'feedurl', 'url', 'title', 'text', 'category', 'doctype', 'META'])\n",
      "dict_keys(['_id', 'title_rss', 'teaser_rss', 'publication_date', 'htmlsource', 'feedurl', 'url', 'title', 'category', 'doctype', 'META'])\n",
      "dict_keys(['_id', 'title_rss', 'teaser_rss', 'publication_date', 'htmlsource', 'feedurl', 'url', 'title', 'text', 'doctype', 'META'])\n",
      "dict_keys(['_id', 'title_rss', 'teaser_rss', 'publication_date', 'htmlsource', 'feedurl', 'url', 'title', 'text', 'category', 'doctype', 'META'])\n",
      "dict_keys(['_id', 'title_rss', 'teaser_rss', 'publication_date', 'htmlsource', 'feedurl', 'url', 'title', 'text', 'category', 'doctype', 'META'])\n",
      "dict_keys(['_id', 'title_rss', 'teaser_rss', 'publication_date', 'htmlsource', 'feedurl', 'url', 'title', 'text', 'category', 'doctype', 'META'])\n",
      "dict_keys(['_id', 'title_rss', 'teaser_rss', 'publication_date', 'htmlsource', 'feedurl', 'url', 'title', 'text', 'category', 'doctype', 'META'])\n",
      "dict_keys(['_id', 'title_rss', 'teaser_rss', 'publication_date', 'htmlsource', 'feedurl', 'url', 'title', 'text', 'category', 'doctype', 'META'])\n",
      "dict_keys(['_id', 'title_rss', 'teaser_rss', 'publication_date', 'htmlsource', 'feedurl', 'url', 'title', 'text', 'byline_source', 'category', 'doctype', 'META'])\n",
      "dict_keys(['_id', 'title_rss', 'teaser_rss', 'publication_date', 'htmlsource', 'feedurl', 'url', 'title', 'text', 'category', 'doctype', 'META'])\n",
      "dict_keys(['_id', 'title_rss', 'teaser_rss', 'publication_date', 'htmlsource', 'feedurl', 'url', 'title', 'text', 'byline_source', 'category', 'doctype', 'META'])\n",
      "dict_keys(['_id', 'title_rss', 'teaser_rss', 'publication_date', 'htmlsource', 'feedurl', 'url', 'title', 'text', 'category', 'doctype', 'META'])\n",
      "dict_keys(['_id', 'title_rss', 'teaser_rss', 'publication_date', 'htmlsource', 'feedurl', 'url', 'title', 'text', 'byline_source', 'doctype', 'META'])\n",
      "dict_keys(['_id', 'title_rss', 'teaser_rss', 'publication_date', 'htmlsource', 'feedurl', 'url', 'title', 'text', 'byline_source', 'category', 'doctype', 'META'])\n",
      "dict_keys(['_id', 'title_rss', 'teaser_rss', 'publication_date', 'htmlsource', 'feedurl', 'url', 'title', 'text', 'category', 'doctype', 'META'])\n",
      "dict_keys(['_id', 'title_rss', 'teaser_rss', 'publication_date', 'htmlsource', 'feedurl', 'url', 'title', 'text', 'byline_source', 'category', 'doctype', 'META'])\n",
      "dict_keys(['_id', 'title_rss', 'teaser_rss', 'publication_date', 'htmlsource', 'feedurl', 'url', 'title', 'text', 'byline_source', 'category', 'doctype', 'META'])\n",
      "dict_keys(['_id', 'title_rss', 'teaser_rss', 'publication_date', 'htmlsource', 'feedurl', 'url', 'title', 'text', 'doctype', 'META'])\n",
      "dict_keys(['_id', 'title_rss', 'teaser_rss', 'publication_date', 'htmlsource', 'feedurl', 'url', 'category', 'doctype', 'META'])\n",
      "dict_keys(['_id', 'title_rss', 'teaser_rss', 'publication_date', 'htmlsource', 'feedurl', 'url', 'title', 'text', 'category', 'doctype', 'META'])\n",
      "dict_keys(['_id', 'title_rss', 'teaser_rss', 'publication_date', 'htmlsource', 'feedurl', 'url', 'title', 'text', 'category', 'doctype', 'META'])\n",
      "dict_keys(['_id', 'title_rss', 'teaser_rss', 'publication_date', 'htmlsource', 'feedurl', 'url', 'title', 'text', 'byline_source', 'category', 'doctype', 'META'])\n",
      "dict_keys(['_id', 'title_rss', 'teaser_rss', 'publication_date', 'htmlsource', 'feedurl', 'url', 'title', 'text', 'doctype', 'META'])\n",
      "dict_keys(['_id', 'title_rss', 'teaser_rss', 'publication_date', 'htmlsource', 'feedurl', 'url', 'title', 'text', 'doctype', 'META'])\n",
      "dict_keys(['_id', 'title_rss', 'teaser_rss', 'publication_date', 'htmlsource', 'feedurl', 'url', 'title', 'text', 'category', 'doctype', 'META'])\n",
      "dict_keys(['_id', 'title_rss', 'teaser_rss', 'publication_date', 'htmlsource', 'feedurl', 'url', 'title', 'text', 'category', 'doctype', 'META'])\n",
      "dict_keys(['_id', 'title_rss', 'teaser_rss', 'publication_date', 'htmlsource', 'feedurl', 'url', 'title', 'text', 'category', 'doctype', 'META'])\n",
      "dict_keys(['_id', 'title_rss', 'teaser_rss', 'publication_date', 'htmlsource', 'feedurl', 'url', 'title', 'text', 'category', 'doctype', 'META'])\n",
      "dict_keys(['_id', 'title_rss', 'teaser_rss', 'publication_date', 'htmlsource', 'feedurl', 'url', 'title', 'text', 'byline_source', 'category', 'doctype', 'META'])\n",
      "dict_keys(['_id', 'title_rss', 'teaser_rss', 'publication_date', 'htmlsource', 'feedurl', 'url', 'title', 'text', 'category', 'doctype', 'META'])\n",
      "dict_keys(['_id', 'title_rss', 'teaser_rss', 'publication_date', 'htmlsource', 'feedurl', 'url', 'title', 'text', 'byline_source', 'category', 'doctype', 'META'])\n",
      "dict_keys(['_id', 'title_rss', 'teaser_rss', 'publication_date', 'htmlsource', 'feedurl', 'url', 'doctype', 'META'])\n",
      "dict_keys(['_id', 'title_rss', 'teaser_rss', 'publication_date', 'htmlsource', 'feedurl', 'url', 'title', 'text', 'doctype', 'META'])\n",
      "dict_keys(['_id', 'title_rss', 'teaser_rss', 'publication_date', 'htmlsource', 'feedurl', 'url', 'title', 'text', 'doctype', 'META'])\n"
     ]
    }
   ],
   "source": [
    "for a in data:\n",
    "    print(a.keys())"
   ]
  },
  {
   "cell_type": "code",
   "execution_count": 23,
   "metadata": {},
   "outputs": [],
   "source": [
    "url=[]"
   ]
  },
  {
   "cell_type": "code",
   "execution_count": 24,
   "metadata": {},
   "outputs": [],
   "source": [
    "for a in data:\n",
    "    for k,v in a.items():\n",
    "        if k==\"url\":\n",
    "            url.append(v)"
   ]
  },
  {
   "cell_type": "code",
   "execution_count": 25,
   "metadata": {},
   "outputs": [],
   "source": [
    "url1=url[1]"
   ]
  },
  {
   "cell_type": "code",
   "execution_count": 26,
   "metadata": {},
   "outputs": [],
   "source": [
    "ht=requests.get(url1).text\n",
    "tr=html.fromstring(ht)"
   ]
  },
  {
   "cell_type": "code",
   "execution_count": 174,
   "metadata": {},
   "outputs": [],
   "source": [
    "#Teaser in Standaard\n",
    "\n",
    "teas=\"\".join(tr.xpath('//*[@class=\"article-full\"]/*[@class=\"article__body\"]/*[@class=\"intro\"]//text()')).strip()"
   ]
  },
  {
   "cell_type": "code",
   "execution_count": 175,
   "metadata": {},
   "outputs": [
    {
     "name": "stdout",
     "output_type": "stream",
     "text": [
      "Het Koninklijk Meteorologisch Instituut (KMI) heeft code geel aangekondigd door de kans op gladde wegen, vanaf dinsdagavond 22 uur tot woensdag 11 uur.\n"
     ]
    }
   ],
   "source": [
    "print(teas)\n",
    "#works fine"
   ]
  },
  {
   "cell_type": "code",
   "execution_count": 12,
   "metadata": {},
   "outputs": [
    {
     "name": "stdout",
     "output_type": "stream",
     "text": [
      "https://www.standaard.be/cnt/dmf20191119_04725533\n"
     ]
    }
   ],
   "source": [
    "print(url1)"
   ]
  },
  {
   "cell_type": "code",
   "execution_count": null,
   "metadata": {},
   "outputs": [],
   "source": [
    "#Title in Standaard\n"
   ]
  },
  {
   "cell_type": "code",
   "execution_count": 8,
   "metadata": {},
   "outputs": [],
   "source": [
    "title=\"\".join(tr.xpath('//*[@class=\"article__header\"]/h1/text()'))"
   ]
  },
  {
   "cell_type": "code",
   "execution_count": 32,
   "metadata": {},
   "outputs": [
    {
     "name": "stdout",
     "output_type": "stream",
     "text": [
      "KMI waarschuwt voor gladde wegen in oosten \n"
     ]
    }
   ],
   "source": [
    "print(title)"
   ]
  },
  {
   "cell_type": "code",
   "execution_count": 5,
   "metadata": {},
   "outputs": [],
   "source": [
    "uuuurl=\"https://www.standaard.be/cnt/dmf20191118_04724042\"\n",
    "ht=requests.get(uuuurl).text\n",
    "tr=html.fromstring(ht)"
   ]
  },
  {
   "cell_type": "code",
   "execution_count": 12,
   "metadata": {},
   "outputs": [],
   "source": [
    "title2=\"\".join(tr.xpath('//*[@class=\"DS-headline DS-headline--x-large \"]/text()')).strip()"
   ]
  },
  {
   "cell_type": "code",
   "execution_count": 13,
   "metadata": {},
   "outputs": [
    {
     "name": "stdout",
     "output_type": "stream",
     "text": [
      "Een jaar gele hesjes: ‘De ogen zijn opengegaan’\n"
     ]
    }
   ],
   "source": [
    "print(title2)"
   ]
  },
  {
   "cell_type": "code",
   "execution_count": null,
   "metadata": {},
   "outputs": [],
   "source": [
    "#author"
   ]
  },
  {
   "cell_type": "code",
   "execution_count": 36,
   "metadata": {},
   "outputs": [],
   "source": [
    "url=\"https://www.standaard.be/cnt/dmf20191119_04724967\"\n",
    "ht=requests.get(url).text\n",
    "tr=html.fromstring(ht)"
   ]
  },
  {
   "cell_type": "code",
   "execution_count": null,
   "metadata": {},
   "outputs": [],
   "source": [
    "t=\"\".join(tr.xpath(''))"
   ]
  },
  {
   "cell_type": "code",
   "execution_count": 37,
   "metadata": {},
   "outputs": [],
   "source": [
    "author = \"\".join(tr.xpath('//*[@class=\"article__meta\"]/p/span[1]/text()'))"
   ]
  },
  {
   "cell_type": "code",
   "execution_count": 32,
   "metadata": {},
   "outputs": [],
   "source": [
    "author2= \"\".join(tr.xpath('//*[@rel=\"author\"]/text()'))"
   ]
  },
  {
   "cell_type": "code",
   "execution_count": null,
   "metadata": {},
   "outputs": [],
   "source": []
  },
  {
   "cell_type": "code",
   "execution_count": 38,
   "metadata": {},
   "outputs": [
    {
     "name": "stdout",
     "output_type": "stream",
     "text": [
      "BELGA\n"
     ]
    }
   ],
   "source": [
    "print(author)"
   ]
  },
  {
   "cell_type": "code",
   "execution_count": 1,
   "metadata": {},
   "outputs": [
    {
     "ename": "NameError",
     "evalue": "name 'data' is not defined",
     "output_type": "error",
     "traceback": [
      "\u001b[0;31m---------------------------------------------------------------------------\u001b[0m",
      "\u001b[0;31mNameError\u001b[0m                                 Traceback (most recent call last)",
      "\u001b[0;32m<ipython-input-1-da9e9433550d>\u001b[0m in \u001b[0;36m<module>\u001b[0;34m\u001b[0m\n\u001b[0;32m----> 1\u001b[0;31m \u001b[0;32mfor\u001b[0m \u001b[0ma\u001b[0m \u001b[0;32min\u001b[0m \u001b[0mdata\u001b[0m\u001b[0;34m:\u001b[0m\u001b[0;34m\u001b[0m\u001b[0;34m\u001b[0m\u001b[0m\n\u001b[0m\u001b[1;32m      2\u001b[0m     \u001b[0;32mfor\u001b[0m \u001b[0mk\u001b[0m\u001b[0;34m,\u001b[0m\u001b[0mv\u001b[0m \u001b[0;32min\u001b[0m \u001b[0ma\u001b[0m\u001b[0;34m.\u001b[0m\u001b[0mitems\u001b[0m\u001b[0;34m(\u001b[0m\u001b[0;34m)\u001b[0m\u001b[0;34m:\u001b[0m\u001b[0;34m\u001b[0m\u001b[0;34m\u001b[0m\u001b[0m\n\u001b[1;32m      3\u001b[0m         \u001b[0;32mif\u001b[0m \u001b[0mk\u001b[0m\u001b[0;34m==\u001b[0m\u001b[0;34m\"byline\"\u001b[0m\u001b[0;34m:\u001b[0m\u001b[0;34m\u001b[0m\u001b[0;34m\u001b[0m\u001b[0m\n\u001b[1;32m      4\u001b[0m             \u001b[0mprint\u001b[0m\u001b[0;34m(\u001b[0m\u001b[0mv\u001b[0m\u001b[0;34m)\u001b[0m\u001b[0;34m\u001b[0m\u001b[0;34m\u001b[0m\u001b[0m\n",
      "\u001b[0;31mNameError\u001b[0m: name 'data' is not defined"
     ]
    }
   ],
   "source": [
    "for a in data:\n",
    "    for k,v in a.items():\n",
    "        if k==\"byline\":\n",
    "            print(v)"
   ]
  }
 ],
 "metadata": {
  "kernelspec": {
   "display_name": "Python 3",
   "language": "python",
   "name": "python3"
  },
  "language_info": {
   "codemirror_mode": {
    "name": "ipython",
    "version": 3
   },
   "file_extension": ".py",
   "mimetype": "text/x-python",
   "name": "python",
   "nbconvert_exporter": "python",
   "pygments_lexer": "ipython3",
   "version": "3.6.7"
  }
 },
 "nbformat": 4,
 "nbformat_minor": 2
}
