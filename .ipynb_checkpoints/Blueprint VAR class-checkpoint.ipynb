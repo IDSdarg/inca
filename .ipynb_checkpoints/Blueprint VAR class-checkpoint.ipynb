{
 "cells": [
  {
   "cell_type": "code",
   "execution_count": 187,
   "metadata": {
    "collapsed": true
   },
   "outputs": [],
   "source": [
    "# Blueprint of the class VAR \n",
    "#requirements: \n",
    "import pandas as pd\n",
    "import numpy as np\n",
    "import logging \n",
    "from core.analysis_base_class import Analysis\n",
    "from analysis import timeline_analysis as ta\n",
    "from statsmodels.tsa.api import VAR as var \n",
    "from statsmodels.tsa.stattools import adfuller,kpss\n",
    "from statsmodels.tsa.tsatools import detrend\n",
    "from matplotlib import pyplot\n",
    "from pandas.plotting import lag_plot\n",
    "from statsmodels.graphics.tsaplots import plot_acf\n",
    "from statsmodels.stats.diagnostic import acorr_ljungbox\n",
    "from statsmodels.tsa.stattools import grangercausalitytests\n",
    "\n",
    "logger = logging.getLogger(__name__)\n",
    "\n",
    "\n",
    "class VAR(Analysis):\n",
    "    \"\"\" When creating var model we first generate a timeline in the form of pandas df. Then feed it to VAR method in statsmodels.\n",
    "        We can save the names of the variables(queries) this way so no need of mapping (var to name) on the later stages,\n",
    "        awesome plotting functionality and just comfortable to work with for everyone. \n",
    "    \"\"\"\n",
    "     \n",
    "    def __init__(self):  \n",
    "        \"\"\"creates variables: \n",
    "            @self.flag_stationarity = boolean of whether assumptions checks for VAR were run ## delete?!\n",
    "        \"\"\"\n",
    "        \n",
    "        self.flag_stationarity = False\n",
    "        logger.warning(\"just  init some varaibles\")    ##\n",
    "        \n",
    "    \n",
    "    def fit(self,queries,timefield,granularity,querytype=\"count\",nlags=None, **kwargs):\n",
    "        \"\"\" @queries  = what do you want to query from ES ? eg queries = ['de','het']\n",
    "            @timefield = what field do you want to use to get the dates/timeline from ? 'META.ADDED'\n",
    "            @granularity = 'day'/'week'/'month' etc \n",
    "            @nlags -  number of lags to consider, if none - rely on statsmodels to choose lag for you\n",
    "            \n",
    "            Possible kwargs to be added later: \n",
    "                @do_assump_check = True/False\n",
    "                @do_transfomations = True/False\n",
    "                @max_order_diff = maximum order of differencing \n",
    "                @max_order_detrend = maximum order of detredning\n",
    "        \"\"\"\n",
    "        timeline = ta.timeline_generator()\n",
    "        df_raw = timeline.analyse(queries=queries,timefield = timefield, granularity = granularity)\n",
    "        df_raw.index = df_raw.timestamp\n",
    "        df_raw = df_raw.drop('timestamp',axis=1) \n",
    "        self.df_raw = df_raw\n",
    "        ##self.model = var(self.df)     ## this makes a VAR model\n",
    "        ## df = self.df  ## current dataframe that you are working with\n",
    "    \n",
    "        logger.warning(\"Before fitting, I automatically do assumptions' checks and modification to the model\") \n",
    "        self.max_order_diff = 2\n",
    "        self.max_order_detrend = 2\n",
    "        \n",
    "        self.check_1 = self.test_assumptions(df_raw,level='1%')  # what should test assump return?   \n",
    "        self.check_2 = 0.0          # run check on autocorrelations of the residuals \n",
    "        \n",
    "        \n",
    "        self.model = var(self.df)\n",
    "        self.result = self.model.fit(nlags) \n",
    "        \n",
    "        return ##\n",
    "\n",
    "    def test_assumptions(self,df,level = '5%', **kwargs):\n",
    "        \"\"\" \n",
    "        Gives you output as list with assumptions stated as satisfied/not satisfied. If some important \n",
    "        assumptions are not satisfied gives you warning that you have to transform your data. \n",
    "        \n",
    "        @df - 'active' df which we might wnat to modify\n",
    "        @level -  this is the level you are testing your asusmptions on (either 1,5 or 10 %)\n",
    "        \"\"\"\n",
    "        self.level =  level\n",
    "        \n",
    "        def _adf_test(df):\n",
    "            \"\"\" \n",
    "            H_0: the observed time series is stationary \n",
    "            Returns: dataframe of summary of the test \n",
    "            \"\"\"\n",
    "            summary_adf = pd.DataFrame(columns=['ADF_Stat','p-value','Critical_val_1%','Critical_val_5%','Critical_val_10%'])\n",
    "            for name in df.columns:\n",
    "                series = df[name]\n",
    "                result = adfuller(series)\n",
    "                dic = {'ADF_Stat':result[0],'p-value':result[1],'Critical_val_1%':result[4]['1%'],'Critical_val_5%':result[4]['5%'],\n",
    "                       'Critical_val_10%':result[4]['10%']}\n",
    "                summary_adf = summary_adf.append(dic,ignore_index=True)\n",
    "            summary_adf.set_index(df.columns,inplace=True)  \n",
    "\n",
    "            return summary_adf \n",
    "    \n",
    "        \n",
    "        def _stationary(df, explicit=True):\n",
    "            \"\"\" \n",
    "            For each time series return the result of the check - return in created dataframe ?\n",
    "            \"\"\"\n",
    "            lvl = float(self.level[:-1])/100 \n",
    "            self.summary_adf = _adf_test(df)\n",
    "            stat_flag = True       ## if test failed, we assume we need to take action \n",
    "            if explicit:\n",
    "                for i in df.columns:\n",
    "                    adf_flag = lvl > self.summary_adf.loc[i,'p-value']\n",
    "                    if (adf_flag == False):\n",
    "                        stat_flag = False \n",
    "                    print(\"For {} stationarity is satisfied: ADF - {}\".format(i,adf_flag)) ## PRINT (!)\n",
    "                    \n",
    "            return stat_flag \n",
    "        \n",
    "        def differencing(df, order=1):\n",
    "            \"\"\" If there is no stationarity: try differencing\n",
    "            \"\"\"  \n",
    "            helped = False   ## boolean check if differencing helped \n",
    "            def _perform_differencing():\n",
    "            # Perform differencing:  \n",
    "                df_diff = pd.DataFrame(columns=df.columns)\n",
    "                for name in df.columns:\n",
    "                    series = df[name]\n",
    "                    series = series.diff(order)\n",
    "                    df_diff[name] = series.dropna(axis=0)\n",
    "                \n",
    "                return _stationary(df_diff),df_diff   \n",
    "            \n",
    "            stat_check_after_diff, df_diff = _perform_differencing()\n",
    "            print('Differencing helped?')   ##            \n",
    "            print(stat_check_after_diff)   ##\n",
    "            \n",
    "            ## if differencing helped update self.df => self.df = df_diff \n",
    "            if stat_check_after_diff == True: \n",
    "                self.df = df_diff       ## CREATING FINAL DF for the first time if differncing helped\n",
    "                helped = True   \n",
    "                \n",
    "            return helped\n",
    "        \n",
    "        def detrending(df, order=1):\n",
    "            \"\"\" If there is no stationarity: differencing did not help - detrend\n",
    "            \n",
    "                (!) does not work nicely with time series where there is a lot of zeros and high volatility :(\n",
    "            \"\"\"     \n",
    "            helped = False  ## boolean check if detrending helped\n",
    "            def _perform_detrending():\n",
    "            # Perform detrending:  \n",
    "                df_res = pd.DataFrame(columns=df.columns)\n",
    "                for name in df.columns:\n",
    "                    series = df[name]\n",
    "                    res = detrend(series,order)\n",
    "                    df_res[name] = series.dropna(axis=0)\n",
    "                \n",
    "                return _stationary(df_res), df_res  \n",
    "            \n",
    "            stat_check_after_detrend,df_detrended = _perform_detrending()\n",
    "            print('Detrending helped?')       ##            \n",
    "            print(stat_check_after_detrend)   ##\n",
    "            \n",
    "            ## if detrending helped update self.df => self.df = df_diff \n",
    "            if stat_check_after_detrend == True: \n",
    "                self.df = df_detrended             ## CREATING FINAL DF for the first time if detrending helped\n",
    "                helped = True   \n",
    "            \n",
    "            return helped\n",
    "        \n",
    "        \n",
    "        self.flag_stationarity = _stationary(df,explicit=False)\n",
    "        \n",
    "        #self.flag_stationarity  = False                       ##Delete, just for testing ##\n",
    "        \n",
    "        if self.flag_stationarity == True: \n",
    "            self.df = self.df_raw               # if no transoformation needed - just use df_raw\n",
    "            print('No need in transforms as stationarity is {}'.format(self.flag_stationarity)) ##\n",
    "        else: \n",
    "            # (1) start the iterative procedure of differencing\n",
    "            for i in range(1,self.max_order_diff + 1):\n",
    "                diff_helped = differencing(df,order=i)\n",
    "                if diff_helped == True:\n",
    "                    #print(self.df)\n",
    "                    self.flag_stationarity = diff_helped \n",
    "                    break \n",
    "            # (2) if differencing did not help do detrending \n",
    "            \n",
    "            #self.flag_stationarity  = False                    ##Delete, just for testing ##\n",
    "            \n",
    "            if self.flag_stationarity == False: \n",
    "                for i in range(1,self.max_order_detrend + 1):\n",
    "                    detrend_helped = detrending(df,order=i)\n",
    "                    if detrend_helped == True:\n",
    "                        #print(self.df)\n",
    "                        self.flag_stationarity = detrend_helped \n",
    "                        break\n",
    "        \n",
    "        return #\n",
    "    \n",
    "    def diagnostics(self,level,**kwarg):\n",
    "        \"\"\" Possible diagnostics: 1. serial/autocorrelation of the residuals check via Ljung_Box test\n",
    "            2.residual acf plot\n",
    "            \n",
    "            @level = what confidence level to use in test Ljung_Box \n",
    "            Possible kwargs to be added later:\n",
    "                @do_plot = boolean, show the acf plot of the residuals\n",
    "        \"\"\"\n",
    "        residuals = self.result.resid      # making a copy \n",
    "        self.lag = 2                                       ##### THIS VARAIBLE NEEDS TO BE CREATED !!!\n",
    "        \n",
    "        def _ljbox_test():\n",
    "            \"\"\"H_0: the data are independently distributed, not enough evidence to supoprt serial corr\n",
    "            Returns: dataframe of summary of the test \n",
    "            \"\"\"\n",
    "            summary_ljb = pd.DataFrame(columns=['ljbvalue','p-value'])\n",
    "            for name in self.df.columns:\n",
    "                series = residuals[name]\n",
    "                result = acorr_ljungbox(series,lags=self.lag)\n",
    "                dic = {'ljbvalue':result[0][self.lag-1],'p-value':result[1][self.lag-1]}\n",
    "                summary_ljb = summary_ljb.append(dic,ignore_index=True)\n",
    "            self.summary_ljb = summary_ljb.set_index(self.df.columns) \n",
    "            \n",
    "            lvl = float(level[:-1])/100\n",
    "            res_white_flag = True                ## if test failed, we assume we need to take action \n",
    "            for i in self.df.columns:\n",
    "                not_white = lvl > self.summary_ljb.loc[i,'p-value']\n",
    "                if (not_white == True):\n",
    "                    res_white_flag = False \n",
    "\n",
    "            return res_white_flag\n",
    "        \n",
    "        def _plot_res_acf(): \n",
    "            \"\"\"\n",
    "            \"\"\"\n",
    "            for name in self.df.columns:\n",
    "                series = residuals[name]\n",
    "                print(\"Residuals autocorelation plot for {}\".format(name))\n",
    "                plot_acf(series, lags=self.lag)\n",
    "                pyplot.show()\n",
    "            return # _plot_res_act \n",
    "        \n",
    "        \n",
    "        res_check = _ljbox_test()\n",
    "        _plot_res_acf()           \n",
    "        \n",
    "        \n",
    "        return res_check # for diag \n",
    "        \n",
    "       \n",
    "        \n",
    "    def granger(self,ts_1,ts_2,level,lag):\n",
    "        \"\"\"The Null hypothesis for grangercausalitytests is that the time series in the second column,\n",
    "            x2, does NOT Granger cause the time series in the first column, x1.\n",
    "            \n",
    "            @ts_1 - time series which is assumed to not granger cause ts_2 (regressor)\n",
    "            @ts_2 - time series which is assumed to be not granger cause ts_1 \n",
    "            @level - confidence level of ssr f test \n",
    "            @lag - lag at which we want the test\n",
    "        \"\"\"\n",
    "        array = self.df.iloc[:,[ts_2-1,ts_1-1]].values\n",
    "        \n",
    "        #Granger causality table for the last call of self.granger()\n",
    "        table = grangercausalitytests(array,maxlag=lag,verbose=False)[lag][0]\n",
    "        self.granger_table = pd.DataFrame.from_dict(table,orient='index')\n",
    "        old_names = list(self.granger_table.columns)\n",
    "        new_names = ['F-val', 'p-val', 'df_denom', 'df_num']\n",
    "        self.granger_table.rename(columns=dict(zip(old_names, new_names)), inplace=True)\n",
    "        \n",
    "        result = grangercausalitytests(array,maxlag=lag,verbose=False)[lag][0]['ssr_ftest']\n",
    "        \n",
    "        granger_flag = result[1] < float(level[:-1])/100          \n",
    "       \n",
    "        \n",
    "        return granger_flag # for granger \n",
    "        \n",
    "        \n",
    "        \n",
    "        \n",
    "     \n",
    "\n",
    "\n",
    "\n",
    "\n",
    "\n",
    "\n",
    "\n",
    "\n"
   ]
  },
  {
   "cell_type": "code",
   "execution_count": 116,
   "metadata": {
    "collapsed": true
   },
   "outputs": [],
   "source": [
    "import inca \n",
    "from statsmodels.tsa.stattools import q_stat\n",
    "from statsmodels.tsa.stattools import acf\n",
    "from statsmodels.stats.diagnostic import acorr_ljungbox"
   ]
  },
  {
   "cell_type": "code",
   "execution_count": 188,
   "metadata": {},
   "outputs": [
    {
     "name": "stderr",
     "output_type": "stream",
     "text": [
      "WARNING:__main__:just  init some varaibles\n"
     ]
    }
   ],
   "source": [
    "m1 = VAR()"
   ]
  },
  {
   "cell_type": "code",
   "execution_count": 189,
   "metadata": {},
   "outputs": [
    {
     "name": "stderr",
     "output_type": "stream",
     "text": [
      "WARNING:__main__:Before fitting, I automatically do assumptions' checks and modification to the model\n"
     ]
    },
    {
     "name": "stdout",
     "output_type": "stream",
     "text": [
      "No need in transforms as stationarity is True\n"
     ]
    }
   ],
   "source": [
    "m_fit = m1.fit(queries=['d','h','y'], timefield = 'META.ADDED', granularity = 'day')"
   ]
  },
  {
   "cell_type": "code",
   "execution_count": 191,
   "metadata": {},
   "outputs": [
    {
     "data": {
      "text/plain": [
       "False"
      ]
     },
     "execution_count": 191,
     "metadata": {},
     "output_type": "execute_result"
    }
   ],
   "source": [
    "m1.granger(ts_1=1,ts_2=2,level='5%',lag=2)\n",
    "#m1.granger_table\n",
    "#grangercausalitytests(m1.df.iloc[:,0:1],maxlag=2)"
   ]
  },
  {
   "cell_type": "code",
   "execution_count": 86,
   "metadata": {
    "collapsed": true
   },
   "outputs": [],
   "source": [
    "#m1.diagnostics\n",
    "#m1.diagnostics('1%')\n",
    "#m1.summary_ljb"
   ]
  },
  {
   "cell_type": "code",
   "execution_count": 141,
   "metadata": {},
   "outputs": [
    {
     "data": {
      "text/plain": [
       "array([  1.40503172e+01,  -7.39490377e+00,  -2.23277067e+00,\n",
       "         2.17672293e+01,   0.00000000e+00,   1.76722933e+00,\n",
       "        -4.27435864e-15,  -2.23277067e+00,  -2.23277067e+00,\n",
       "        -2.23277067e+00,  -2.23277067e+00,  -2.23277067e+00,\n",
       "        -2.23277067e+00,  -2.23277067e+00,  -2.23277067e+00,\n",
       "        -2.23277067e+00,  -2.23277067e+00,  -2.23277067e+00,\n",
       "        -2.23277067e+00,  -2.23277067e+00,  -2.23277067e+00,\n",
       "        -2.23277067e+00,  -2.23277067e+00,   7.76722933e+00])"
      ]
     },
     "execution_count": 141,
     "metadata": {},
     "output_type": "execute_result"
    }
   ],
   "source": [
    "m1.result.resid.iloc[:,1].values"
   ]
  },
  {
   "cell_type": "code",
   "execution_count": 101,
   "metadata": {},
   "outputs": [
    {
     "data": {
      "text/plain": [
       "array([[ 1.        ,  0.82367053,  0.85961797],\n",
       "       [ 0.82367053,  1.        ,  0.9895712 ],\n",
       "       [ 0.85961797,  0.9895712 ,  1.        ]])"
      ]
     },
     "execution_count": 101,
     "metadata": {},
     "output_type": "execute_result"
    }
   ],
   "source": [
    "m1.result.resid_corr"
   ]
  },
  {
   "cell_type": "code",
   "execution_count": 100,
   "metadata": {},
   "outputs": [
    {
     "data": {
      "text/plain": [
       "array([[[ 1.        ,  0.82367053,  0.85961797],\n",
       "        [ 0.82367053,  1.        ,  0.9895712 ],\n",
       "        [ 0.85961797,  0.9895712 ,  1.        ]],\n",
       "\n",
       "       [[-0.00690914, -0.01077653, -0.00981867],\n",
       "        [-0.00599101, -0.0898677 , -0.08370556],\n",
       "        [-0.01248548, -0.09301561, -0.08641538]]])"
      ]
     },
     "execution_count": 100,
     "metadata": {},
     "output_type": "execute_result"
    }
   ],
   "source": [
    "m1.result.resid_acorr()"
   ]
  },
  {
   "cell_type": "code",
   "execution_count": 176,
   "metadata": {},
   "outputs": [
    {
     "data": {
      "text/plain": [
       "(array([ 0.0012951 ,  0.01535185]), array([ 0.9712923 ,  0.99235346]))"
      ]
     },
     "execution_count": 176,
     "metadata": {},
     "output_type": "execute_result"
    }
   ],
   "source": [
    "acorr_ljungbox(m1.result.resid.iloc[:,0],lags=2,boxpierce=False)\n",
    "\n",
    "#q_stat(acf(m1.result.resid.iloc[:,1]),nobs=len(m1.result.resid.iloc[:,1]))"
   ]
  },
  {
   "cell_type": "code",
   "execution_count": 86,
   "metadata": {},
   "outputs": [
    {
     "name": "stdout",
     "output_type": "stream",
     "text": [
      "Normality skew/kurtosis Chi^2-test\n",
      "=======================================================\n",
      "   Test statistic   Critical Value          p-value  df\n",
      "-------------------------------------------------------\n",
      "       258.496368         9.487729            0.000   4\n",
      "=======================================================\n",
      "H_0: data generated by normally-distributed process\n",
      "Conclusion: reject H_0 at 5.00% significance level\n"
     ]
    }
   ],
   "source": [
    "m1.result.test_normality()\n",
    "pyplot.show()"
   ]
  },
  {
   "cell_type": "code",
   "execution_count": 98,
   "metadata": {
    "collapsed": true
   },
   "outputs": [],
   "source": [
    "#m1.diagnostics()"
   ]
  },
  {
   "cell_type": "code",
   "execution_count": 57,
   "metadata": {},
   "outputs": [
    {
     "data": {
      "image/png": "[encoded data removed]",
      "text/plain": [
       "<matplotlib.figure.Figure at 0x277886e6ac8>"
      ]
     },
     "metadata": {},
     "output_type": "display_data"
    }
   ],
   "source": [
    "m1.result.resid\n",
    "autocor = m1.result.acorr() #theoretical autocorrelation function\n",
    "#print(autocor)\n",
    "m1.result.plot_acorr(2)\n",
    "pyplot.show()   "
   ]
  },
  {
   "cell_type": "code",
   "execution_count": null,
   "metadata": {
    "collapsed": true
   },
   "outputs": [],
   "source": []
  },
  {
   "cell_type": "code",
   "execution_count": null,
   "metadata": {
    "collapsed": true
   },
   "outputs": [],
   "source": [
    "def _kpss_test(df):\n",
    "            \"\"\" \n",
    "            H_0: there is a unit root in time series, hence stochastic trend with drift, hence non-stationary\n",
    "            Returns: dataframe of summary of the test\n",
    "            \"\"\"\n",
    "            summary_kpss = pd.DataFrame(columns=['KPSS_Stat','p-value','Critical_val_1%','Critical_val_5%','Critical_val_10%'])\n",
    "            for name in df.columns:\n",
    "                series = df[name]\n",
    "                result = kpss(series)\n",
    "                dic = {'KPSS_Stat':result[0],'p-value':result[1],'Critical_val_1%':result[3]['1%'],'Critical_val_5%':result[3]['5%'],\n",
    "                       'Critical_val_10%':result[3]['10%']}\n",
    "                summary_kpss = summary_kpss.append(dic,ignore_index=True)\n",
    "            summary_kpss.set_index(df.columns,inplace=True)  \n",
    "\n",
    "            return summary_kpss"
   ]
  },
  {
   "cell_type": "code",
   "execution_count": null,
   "metadata": {
    "collapsed": true
   },
   "outputs": [],
   "source": []
  },
  {
   "cell_type": "code",
   "execution_count": null,
   "metadata": {
    "collapsed": true
   },
   "outputs": [],
   "source": []
  }
 ],
 "metadata": {
  "kernelspec": {
   "display_name": "inca362",
   "language": "python",
   "name": "inca362"
  },
  "language_info": {
   "codemirror_mode": {
    "name": "ipython",
    "version": 3
   },
   "file_extension": ".py",
   "mimetype": "text/x-python",
   "name": "python",
   "nbconvert_exporter": "python",
   "pygments_lexer": "ipython3",
   "version": "3.6.3"
  }
 },
 "nbformat": 4,
 "nbformat_minor": 2
}
