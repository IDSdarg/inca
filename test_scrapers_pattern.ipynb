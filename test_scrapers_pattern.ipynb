{
 "cells": [
  {
   "cell_type": "code",
   "execution_count": 1,
   "metadata": {},
   "outputs": [
    {
     "name": "stderr",
     "output_type": "stream",
     "text": [
      "/usr/lib/python3/dist-packages/requests/__init__.py:80: RequestsDependencyWarning: urllib3 (1.24.3) or chardet (2.3.0) doesn't match a supported version!\n",
      "  RequestsDependencyWarning)\n",
      "WARNING:INCA:No database functionality available. This means you will not be able to SAVE the results of any scraper or processor!\n",
      "/usr/local/lib/python3.6/dist-packages/selenium/webdriver/phantomjs/webdriver.py:49: UserWarning: Selenium support for PhantomJS has been deprecated, please use headless versions of Chrome or Firefox instead\n",
      "  warnings.warn('Selenium support for PhantomJS has been deprecated, please use headless '\n",
      "INFO:INCA.inca.core.client_class:No Database available, so API client functionalitywill be severely limited\n",
      "INFO:INCA.inca.core.client_class:No Database available, so API client functionalitywill be severely limited\n",
      "INFO:INCA.inca.core.client_class:No Database available, so API client functionalitywill be severely limited\n",
      "INFO:INCA.inca.core.client_class:No Database available, so API client functionalitywill be severely limited\n",
      "INFO:INCA.inca.core.client_class:No Database available, so API client functionalitywill be severely limited\n",
      "INFO:INCA.inca.core.client_class:No Database available, so API client functionalitywill be severely limited\n",
      "INFO:INCA.inca.core.client_class:No Database available, so API client functionalitywill be severely limited\n",
      "INFO:INCA.inca.core.client_class:No Database available, so API client functionalitywill be severely limited\n"
     ]
    }
   ],
   "source": [
    "from inca import Inca"
   ]
  },
  {
   "cell_type": "code",
   "execution_count": 2,
   "metadata": {},
   "outputs": [
    {
     "name": "stderr",
     "output_type": "stream",
     "text": [
      "INFO:INCA.inca.core.client_class:No Database available, so API client functionalitywill be severely limited\n",
      "INFO:INCA.inca.core.client_class:No Database available, so API client functionalitywill be severely limited\n",
      "INFO:INCA.inca.core.client_class:No Database available, so API client functionalitywill be severely limited\n",
      "INFO:INCA.inca.core.client_class:No Database available, so API client functionalitywill be severely limited\n",
      "INFO:INCA.inca.core.client_class:No Database available, so API client functionalitywill be severely limited\n",
      "INFO:INCA.inca.core.client_class:No Database available, so API client functionalitywill be severely limited\n",
      "INFO:INCA.inca.core.client_class:No Database available, so API client functionalitywill be severely limited\n",
      "INFO:INCA.inca.core.client_class:No Database available, so API client functionalitywill be severely limited\n",
      "INFO:INCA:Providing verbose output\n"
     ]
    }
   ],
   "source": [
    "myinca=Inca()"
   ]
  },
  {
   "cell_type": "code",
   "execution_count": 68,
   "metadata": {},
   "outputs": [
    {
     "name": "stderr",
     "output_type": "stream",
     "text": [
      "INFO:INCA:Started scraping\n",
      "WARNING:INCA:Could not parse article title\n",
      "WARNING:INCA:Could not parse article title\n",
      "WARNING:INCA:Could not parse article title\n",
      "WARNING:INCA:Could not parse article title\n",
      "WARNING:INCA:Could not parse article title\n",
      "WARNING:INCA:Could not parse article title\n",
      "WARNING:INCA:Could not parse article title\n",
      "WARNING:INCA:Could not parse article title\n",
      "WARNING:INCA:Could not parse article title\n",
      "WARNING:INCA:Could not parse article title\n",
      "WARNING:INCA:Could not parse article title\n",
      "WARNING:INCA:Could not parse article title\n",
      "WARNING:INCA:Could not parse article title\n",
      "WARNING:INCA:Could not parse article title\n",
      "WARNING:INCA:Could not parse article title\n",
      "WARNING:INCA:Could not parse article title\n",
      "WARNING:INCA:Could not parse article title\n",
      "WARNING:INCA:Could not parse article title\n",
      "WARNING:INCA:Could not parse article title\n",
      "WARNING:INCA:Could not parse article title\n",
      "WARNING:INCA:Could not parse article title\n",
      "WARNING:INCA:Could not parse article title\n",
      "WARNING:INCA:Could not parse article title\n",
      "WARNING:INCA:Could not parse article title\n",
      "WARNING:INCA:Could not parse article title\n",
      "WARNING:INCA:Could not parse article title\n",
      "WARNING:INCA:Could not parse article title\n",
      "WARNING:INCA:Could not parse article title\n",
      "WARNING:INCA:Could not parse article title\n",
      "WARNING:INCA:Could not parse article title\n",
      "WARNING:INCA:Could not parse article title\n",
      "WARNING:INCA:Could not parse article title\n",
      "WARNING:INCA:Could not parse article title\n",
      "WARNING:INCA:Could not parse article title\n",
      "WARNING:INCA:Could not parse article title\n",
      "WARNING:INCA:Could not parse article title\n",
      "WARNING:INCA:Could not parse article title\n",
      "WARNING:INCA:Could not parse article title\n",
      "WARNING:INCA:Could not parse article title\n",
      "WARNING:INCA:Could not parse article title\n",
      "WARNING:INCA:Could not parse article title\n",
      "WARNING:INCA:Could not parse article title\n",
      "WARNING:INCA:Could not parse article title\n",
      "WARNING:INCA:Could not parse article title\n",
      "WARNING:INCA:Could not parse article title\n",
      "WARNING:INCA:Could not parse article title\n",
      "WARNING:INCA:Could not parse article title\n",
      "WARNING:INCA:Could not parse article title\n",
      "WARNING:INCA:Could not parse article title\n",
      "WARNING:INCA:Could not parse article title\n",
      "WARNING:INCA:Could not parse article title\n",
      "WARNING:INCA:Could not parse article title\n",
      "WARNING:INCA:Could not parse article title\n",
      "WARNING:INCA:Could not parse article title\n",
      "WARNING:INCA:Could not parse article title\n",
      "WARNING:INCA:Could not parse article title\n",
      "WARNING:INCA:Could not parse article title\n",
      "WARNING:INCA:Could not parse article title\n",
      "WARNING:INCA:Could not parse article title\n",
      "WARNING:INCA:Could not parse article title\n",
      "WARNING:INCA:Could not parse article title\n",
      "WARNING:INCA:Could not parse article title\n",
      "WARNING:INCA:Could not parse article title\n",
      "WARNING:INCA:Could not parse article title\n",
      "WARNING:INCA:Could not parse article title\n",
      "WARNING:INCA:Could not parse article title\n",
      "WARNING:INCA:Could not parse article title\n",
      "WARNING:INCA:Could not parse article title\n",
      "WARNING:INCA:Could not parse article title\n",
      "WARNING:INCA:Could not parse article title\n",
      "WARNING:INCA:Could not parse article title\n",
      "WARNING:INCA:Could not parse article title\n",
      "WARNING:INCA:Could not parse article title\n",
      "WARNING:INCA:Could not parse article title\n",
      "WARNING:INCA:Could not parse article title\n",
      "WARNING:INCA:Could not parse article title\n",
      "WARNING:INCA:Could not parse article title\n",
      "WARNING:INCA:Could not parse article title\n",
      "WARNING:INCA:Could not parse article title\n",
      "WARNING:INCA:Could not parse article title\n",
      "WARNING:INCA:Could not parse article title\n",
      "WARNING:INCA:Could not parse article title\n",
      "WARNING:INCA:Could not parse article title\n",
      "WARNING:INCA:Could not parse article title\n",
      "WARNING:INCA:Could not parse article title\n"
     ]
    }
   ],
   "source": [
    "data=myinca.rssscrapers.theguardian(save=False)"
   ]
  },
  {
   "cell_type": "code",
   "execution_count": 37,
   "metadata": {},
   "outputs": [
    {
     "name": "stdout",
     "output_type": "stream",
     "text": [
      "dict_keys(['_id', 'title_rss', 'teaser_rss', 'publication_date', 'htmlsource', 'feedurl', 'url', 'teaser', 'byline', 'text', 'doctype', 'META', 1])\n",
      "dict_keys(['_id', 'title_rss', 'teaser_rss', 'publication_date', 'htmlsource', 'feedurl', 'url', 'teaser', 'byline', 'text', 'doctype', 'META', 1])\n",
      "dict_keys(['_id', 'title_rss', 'teaser_rss', 'publication_date', 'htmlsource', 'feedurl', 'url', 'teaser', 'byline', 'text', 'doctype', 'META'])\n",
      "dict_keys(['_id', 'title_rss', 'teaser_rss', 'publication_date', 'htmlsource', 'feedurl', 'url', 'teaser', 'byline', 'text', 'doctype', 'META'])\n",
      "dict_keys(['_id', 'title_rss', 'teaser_rss', 'publication_date', 'htmlsource', 'feedurl', 'url', 'teaser', 'byline', 'text', 'doctype', 'META'])\n",
      "dict_keys(['_id', 'title_rss', 'teaser_rss', 'publication_date', 'htmlsource', 'feedurl', 'url', 'teaser', 'byline', 'text', 'doctype', 'META'])\n",
      "dict_keys(['_id', 'title_rss', 'teaser_rss', 'publication_date', 'htmlsource', 'feedurl', 'url', 'teaser', 'byline', 'text', 'doctype', 'META'])\n",
      "dict_keys(['_id', 'title_rss', 'teaser_rss', 'publication_date', 'htmlsource', 'feedurl', 'url', 'teaser', 'byline', 'text', 'doctype', 'META'])\n",
      "dict_keys(['_id', 'title_rss', 'teaser_rss', 'publication_date', 'htmlsource', 'feedurl', 'url', 'teaser', 'byline', 'text', 'doctype', 'META'])\n",
      "dict_keys(['_id', 'title_rss', 'teaser_rss', 'publication_date', 'htmlsource', 'feedurl', 'url', 'teaser', 'byline', 'text', 'doctype', 'META'])\n",
      "dict_keys(['_id', 'title_rss', 'teaser_rss', 'publication_date', 'htmlsource', 'feedurl', 'url', 'teaser', 'byline', 'text', 'doctype', 'META'])\n",
      "dict_keys(['_id', 'title_rss', 'teaser_rss', 'publication_date', 'htmlsource', 'feedurl', 'url', 'teaser', 'byline', 'text', 'doctype', 'META'])\n",
      "dict_keys(['_id', 'title_rss', 'teaser_rss', 'publication_date', 'htmlsource', 'feedurl', 'url', 'teaser', 'byline', 'text', 'doctype', 'META'])\n",
      "dict_keys(['_id', 'title_rss', 'teaser_rss', 'publication_date', 'htmlsource', 'feedurl', 'url', 'doctype', 'META'])\n",
      "dict_keys(['_id', 'title_rss', 'teaser_rss', 'publication_date', 'htmlsource', 'feedurl', 'url', 'text', 'doctype', 'META'])\n",
      "dict_keys(['_id', 'title_rss', 'teaser_rss', 'publication_date', 'htmlsource', 'feedurl', 'url', 'teaser', 'byline', 'text', 'doctype', 'META'])\n",
      "dict_keys(['_id', 'title_rss', 'teaser_rss', 'publication_date', 'htmlsource', 'feedurl', 'url', 'teaser', 'text', 'doctype', 'META'])\n",
      "dict_keys(['_id', 'title_rss', 'teaser_rss', 'publication_date', 'htmlsource', 'feedurl', 'url', 'teaser', 'byline', 'text', 'doctype', 'META'])\n",
      "dict_keys(['_id', 'title_rss', 'teaser_rss', 'publication_date', 'htmlsource', 'feedurl', 'url', 'title', 'teaser', 'byline', 'text', 'doctype', 'META'])\n",
      "dict_keys(['_id', 'title_rss', 'teaser_rss', 'publication_date', 'htmlsource', 'feedurl', 'url', 'teaser', 'text', 'doctype', 'META'])\n",
      "dict_keys(['_id', 'title_rss', 'teaser_rss', 'publication_date', 'htmlsource', 'feedurl', 'url', 'teaser', 'byline', 'text', 'doctype', 'META'])\n",
      "dict_keys(['_id', 'title_rss', 'teaser_rss', 'publication_date', 'htmlsource', 'feedurl', 'url', 'teaser', 'byline', 'text', 'doctype', 'META'])\n",
      "dict_keys(['_id', 'title_rss', 'teaser_rss', 'publication_date', 'htmlsource', 'feedurl', 'url', 'teaser', 'byline', 'doctype', 'META'])\n",
      "dict_keys(['_id', 'title_rss', 'teaser_rss', 'publication_date', 'htmlsource', 'feedurl', 'url', 'teaser', 'byline', 'doctype', 'META'])\n",
      "dict_keys(['_id', 'title_rss', 'teaser_rss', 'publication_date', 'htmlsource', 'feedurl', 'url', 'teaser', 'byline', 'doctype', 'META'])\n",
      "dict_keys(['_id', 'title_rss', 'teaser_rss', 'publication_date', 'htmlsource', 'feedurl', 'url', 'teaser', 'text', 'doctype', 'META'])\n",
      "dict_keys(['_id', 'title_rss', 'teaser_rss', 'publication_date', 'htmlsource', 'feedurl', 'url', 'text', 'doctype', 'META'])\n",
      "dict_keys(['_id', 'title_rss', 'teaser_rss', 'publication_date', 'htmlsource', 'feedurl', 'url', 'teaser', 'text', 'doctype', 'META'])\n",
      "dict_keys(['_id', 'title_rss', 'teaser_rss', 'publication_date', 'htmlsource', 'feedurl', 'url', 'teaser', 'text', 'doctype', 'META'])\n",
      "dict_keys(['_id', 'title_rss', 'teaser_rss', 'publication_date', 'htmlsource', 'feedurl', 'url', 'teaser', 'text', 'doctype', 'META'])\n",
      "dict_keys(['_id', 'title_rss', 'teaser_rss', 'publication_date', 'htmlsource', 'feedurl', 'url', 'text', 'doctype', 'META'])\n",
      "dict_keys(['_id', 'title_rss', 'teaser_rss', 'publication_date', 'htmlsource', 'feedurl', 'url', 'teaser', 'text', 'doctype', 'META'])\n",
      "dict_keys(['_id', 'title_rss', 'teaser_rss', 'publication_date', 'htmlsource', 'feedurl', 'url', 'teaser', 'text', 'doctype', 'META'])\n",
      "dict_keys(['_id', 'title_rss', 'teaser_rss', 'publication_date', 'htmlsource', 'feedurl', 'url', 'byline', 'text', 'doctype', 'META'])\n",
      "dict_keys(['_id', 'title_rss', 'teaser_rss', 'publication_date', 'htmlsource', 'feedurl', 'url', 'byline', 'text', 'doctype', 'META'])\n",
      "dict_keys(['_id', 'title_rss', 'teaser_rss', 'publication_date', 'htmlsource', 'feedurl', 'url', 'byline', 'text', 'doctype', 'META'])\n",
      "dict_keys(['_id', 'title_rss', 'teaser_rss', 'publication_date', 'htmlsource', 'feedurl', 'url', 'byline', 'text', 'doctype', 'META'])\n",
      "dict_keys(['_id', 'title_rss', 'teaser_rss', 'publication_date', 'htmlsource', 'feedurl', 'url', 'text', 'doctype', 'META'])\n",
      "dict_keys(['_id', 'title_rss', 'teaser_rss', 'publication_date', 'htmlsource', 'feedurl', 'url', 'teaser', 'byline', 'text', 'doctype', 'META'])\n",
      "dict_keys(['_id', 'title_rss', 'teaser_rss', 'publication_date', 'htmlsource', 'feedurl', 'url', 'byline', 'text', 'doctype', 'META'])\n",
      "dict_keys(['_id', 'title_rss', 'teaser_rss', 'publication_date', 'htmlsource', 'feedurl', 'url', 'teaser', 'byline', 'text', 'doctype', 'META'])\n",
      "dict_keys(['_id', 'title_rss', 'teaser_rss', 'publication_date', 'htmlsource', 'feedurl', 'url', 'title', 'teaser', 'byline', 'doctype', 'META'])\n",
      "dict_keys(['_id', 'title_rss', 'teaser_rss', 'publication_date', 'htmlsource', 'feedurl', 'url', 'title', 'teaser', 'byline', 'doctype', 'META'])\n",
      "dict_keys(['_id', 'title_rss', 'teaser_rss', 'publication_date', 'htmlsource', 'feedurl', 'url', 'title', 'teaser', 'byline', 'doctype', 'META'])\n",
      "dict_keys(['_id', 'title_rss', 'teaser_rss', 'publication_date', 'htmlsource', 'feedurl', 'url', 'title', 'teaser', 'byline', 'doctype', 'META'])\n",
      "dict_keys(['_id', 'title_rss', 'teaser_rss', 'publication_date', 'htmlsource', 'feedurl', 'url', 'title', 'teaser', 'byline', 'doctype', 'META'])\n",
      "dict_keys(['_id', 'title_rss', 'teaser_rss', 'publication_date', 'htmlsource', 'feedurl', 'url', 'title', 'teaser', 'byline', 'doctype', 'META'])\n",
      "dict_keys(['_id', 'title_rss', 'teaser_rss', 'publication_date', 'htmlsource', 'feedurl', 'url', 'teaser', 'byline', 'text', 'doctype', 'META'])\n",
      "dict_keys(['_id', 'title_rss', 'teaser_rss', 'publication_date', 'htmlsource', 'feedurl', 'url', 'teaser', 'byline', 'text', 'doctype', 'META'])\n",
      "dict_keys(['_id', 'title_rss', 'teaser_rss', 'publication_date', 'htmlsource', 'feedurl', 'url', 'teaser', 'byline', 'text', 'doctype', 'META'])\n",
      "dict_keys(['_id', 'title_rss', 'teaser_rss', 'publication_date', 'htmlsource', 'feedurl', 'url', 'teaser', 'byline', 'text', 'doctype', 'META'])\n",
      "dict_keys(['_id', 'title_rss', 'teaser_rss', 'publication_date', 'htmlsource', 'feedurl', 'url', 'teaser', 'byline', 'text', 'doctype', 'META'])\n",
      "dict_keys(['_id', 'title_rss', 'teaser_rss', 'publication_date', 'htmlsource', 'feedurl', 'url', 'teaser', 'byline', 'text', 'doctype', 'META'])\n",
      "dict_keys(['_id', 'title_rss', 'teaser_rss', 'publication_date', 'htmlsource', 'feedurl', 'url', 'teaser', 'byline', 'text', 'doctype', 'META'])\n",
      "dict_keys(['_id', 'title_rss', 'teaser_rss', 'publication_date', 'htmlsource', 'feedurl', 'url', 'teaser', 'byline', 'text', 'doctype', 'META'])\n",
      "dict_keys(['_id', 'title_rss', 'teaser_rss', 'publication_date', 'htmlsource', 'feedurl', 'url', 'teaser', 'byline', 'text', 'doctype', 'META'])\n",
      "dict_keys(['_id', 'title_rss', 'teaser_rss', 'publication_date', 'htmlsource', 'feedurl', 'url', 'teaser', 'byline', 'text', 'doctype', 'META'])\n",
      "dict_keys(['_id', 'title_rss', 'teaser_rss', 'publication_date', 'htmlsource', 'feedurl', 'url', 'teaser', 'byline', 'text', 'doctype', 'META'])\n"
     ]
    },
    {
     "name": "stdout",
     "output_type": "stream",
     "text": [
      "dict_keys(['_id', 'title_rss', 'teaser_rss', 'publication_date', 'htmlsource', 'feedurl', 'url', 'teaser', 'byline', 'text', 'doctype', 'META'])\n",
      "dict_keys(['_id', 'title_rss', 'teaser_rss', 'publication_date', 'htmlsource', 'feedurl', 'url', 'teaser', 'byline', 'text', 'doctype', 'META'])\n",
      "dict_keys(['_id', 'title_rss', 'teaser_rss', 'publication_date', 'htmlsource', 'feedurl', 'url', 'teaser', 'byline', 'text', 'doctype', 'META'])\n",
      "dict_keys(['_id', 'title_rss', 'teaser_rss', 'publication_date', 'htmlsource', 'feedurl', 'url', 'teaser', 'byline', 'text', 'doctype', 'META'])\n",
      "dict_keys(['_id', 'title_rss', 'teaser_rss', 'publication_date', 'htmlsource', 'feedurl', 'url', 'teaser', 'byline', 'text', 'doctype', 'META'])\n",
      "dict_keys(['_id', 'title_rss', 'teaser_rss', 'publication_date', 'htmlsource', 'feedurl', 'url', 'teaser', 'byline', 'text', 'doctype', 'META'])\n",
      "dict_keys(['_id', 'title_rss', 'teaser_rss', 'publication_date', 'htmlsource', 'feedurl', 'url', 'teaser', 'byline', 'text', 'doctype', 'META'])\n",
      "dict_keys(['_id', 'title_rss', 'teaser_rss', 'publication_date', 'htmlsource', 'feedurl', 'url', 'teaser', 'byline', 'text', 'doctype', 'META'])\n",
      "dict_keys(['_id', 'title_rss', 'teaser_rss', 'publication_date', 'htmlsource', 'feedurl', 'url', 'teaser', 'byline', 'text', 'doctype', 'META'])\n",
      "dict_keys(['_id', 'title_rss', 'teaser_rss', 'publication_date', 'htmlsource', 'feedurl', 'url', 'title', 'teaser', 'byline', 'text', 'doctype', 'META'])\n",
      "dict_keys(['_id', 'title_rss', 'teaser_rss', 'publication_date', 'htmlsource', 'feedurl', 'url', 'teaser', 'byline', 'text', 'doctype', 'META'])\n",
      "dict_keys(['_id', 'title_rss', 'teaser_rss', 'publication_date', 'htmlsource', 'feedurl', 'url', 'title', 'teaser', 'byline', 'text', 'doctype', 'META'])\n",
      "dict_keys(['_id', 'title_rss', 'teaser_rss', 'publication_date', 'htmlsource', 'feedurl', 'url', 'title', 'teaser', 'byline', 'doctype', 'META'])\n",
      "dict_keys(['_id', 'title_rss', 'teaser_rss', 'publication_date', 'htmlsource', 'feedurl', 'url', 'byline', 'doctype', 'META'])\n",
      "dict_keys(['_id', 'title_rss', 'teaser_rss', 'publication_date', 'htmlsource', 'feedurl', 'url', 'teaser', 'byline', 'doctype', 'META'])\n",
      "dict_keys(['_id', 'title_rss', 'teaser_rss', 'publication_date', 'htmlsource', 'feedurl', 'url', 'teaser', 'byline', 'doctype', 'META'])\n",
      "dict_keys(['_id', 'title_rss', 'teaser_rss', 'publication_date', 'htmlsource', 'feedurl', 'url', 'teaser', 'byline', 'doctype', 'META'])\n",
      "dict_keys(['_id', 'title_rss', 'teaser_rss', 'publication_date', 'htmlsource', 'feedurl', 'url', 'text', 'doctype', 'META'])\n",
      "dict_keys(['_id', 'title_rss', 'teaser_rss', 'publication_date', 'htmlsource', 'feedurl', 'url', 'text', 'doctype', 'META'])\n",
      "dict_keys(['_id', 'title_rss', 'teaser_rss', 'publication_date', 'htmlsource', 'feedurl', 'url', 'text', 'doctype', 'META'])\n",
      "dict_keys(['_id', 'title_rss', 'teaser_rss', 'publication_date', 'htmlsource', 'feedurl', 'url', 'title', 'teaser', 'byline', 'text', 'doctype', 'META'])\n",
      "dict_keys(['_id', 'title_rss', 'teaser_rss', 'publication_date', 'htmlsource', 'feedurl', 'url', 'teaser', 'byline', 'text', 'doctype', 'META'])\n",
      "dict_keys(['_id', 'title_rss', 'teaser_rss', 'publication_date', 'htmlsource', 'feedurl', 'url', 'teaser', 'byline', 'text', 'doctype', 'META'])\n",
      "dict_keys(['_id', 'title_rss', 'teaser_rss', 'publication_date', 'htmlsource', 'feedurl', 'url', 'byline', 'text', 'doctype', 'META'])\n",
      "dict_keys(['_id', 'title_rss', 'teaser_rss', 'publication_date', 'htmlsource', 'feedurl', 'url', 'teaser', 'byline', 'text', 'doctype', 'META'])\n",
      "dict_keys(['_id', 'title_rss', 'teaser_rss', 'publication_date', 'htmlsource', 'feedurl', 'url', 'teaser', 'byline', 'text', 'doctype', 'META'])\n",
      "dict_keys(['_id', 'title_rss', 'teaser_rss', 'publication_date', 'htmlsource', 'feedurl', 'url', 'teaser', 'byline', 'text', 'doctype', 'META'])\n",
      "dict_keys(['_id', 'title_rss', 'teaser_rss', 'publication_date', 'htmlsource', 'feedurl', 'url', 'teaser', 'byline', 'text', 'doctype', 'META'])\n",
      "dict_keys(['_id', 'title_rss', 'teaser_rss', 'publication_date', 'htmlsource', 'feedurl', 'url', 'teaser', 'byline', 'text', 'doctype', 'META'])\n",
      "dict_keys(['_id', 'title_rss', 'teaser_rss', 'publication_date', 'htmlsource', 'feedurl', 'url', 'teaser', 'byline', 'text', 'doctype', 'META'])\n",
      "dict_keys(['_id', 'title_rss', 'teaser_rss', 'publication_date', 'htmlsource', 'feedurl', 'url', 'title', 'teaser', 'byline', 'text', 'doctype', 'META'])\n",
      "dict_keys(['_id', 'title_rss', 'teaser_rss', 'publication_date', 'htmlsource', 'feedurl', 'url', 'title', 'teaser', 'byline', 'doctype', 'META'])\n",
      "dict_keys(['_id', 'title_rss', 'teaser_rss', 'publication_date', 'htmlsource', 'feedurl', 'url', 'teaser', 'byline', 'text', 'doctype', 'META'])\n",
      "dict_keys(['_id', 'title_rss', 'teaser_rss', 'publication_date', 'htmlsource', 'feedurl', 'url', 'title', 'teaser', 'byline', 'text', 'doctype', 'META'])\n",
      "dict_keys(['_id', 'title_rss', 'teaser_rss', 'publication_date', 'htmlsource', 'feedurl', 'url', 'teaser', 'byline', 'text', 'doctype', 'META'])\n",
      "dict_keys(['_id', 'title_rss', 'teaser_rss', 'publication_date', 'htmlsource', 'feedurl', 'url', 'title', 'teaser', 'byline', 'text', 'doctype', 'META'])\n",
      "dict_keys(['_id', 'title_rss', 'teaser_rss', 'publication_date', 'htmlsource', 'feedurl', 'url', 'doctype', 'META'])\n",
      "dict_keys(['_id', 'title_rss', 'teaser_rss', 'publication_date', 'htmlsource', 'feedurl', 'url', 'doctype', 'META'])\n",
      "dict_keys(['_id', 'title_rss', 'teaser_rss', 'publication_date', 'htmlsource', 'feedurl', 'url', 'text', 'doctype', 'META'])\n",
      "dict_keys(['_id', 'title_rss', 'teaser_rss', 'publication_date', 'htmlsource', 'feedurl', 'url', 'doctype', 'META'])\n",
      "dict_keys(['_id', 'title_rss', 'teaser_rss', 'publication_date', 'htmlsource', 'feedurl', 'url', 'doctype', 'META'])\n",
      "dict_keys(['_id', 'title_rss', 'teaser_rss', 'publication_date', 'htmlsource', 'feedurl', 'url', 'doctype', 'META'])\n"
     ]
    }
   ],
   "source": [
    "for article in data:\n",
    "        print(article.keys())"
   ]
  },
  {
   "cell_type": "code",
   "execution_count": 69,
   "metadata": {},
   "outputs": [],
   "source": [
    "category=[]"
   ]
  },
  {
   "cell_type": "code",
   "execution_count": 74,
   "metadata": {},
   "outputs": [],
   "source": [
    "for article in data:\n",
    "    for k,v in article.items():\n",
    "        if k==\"teaser\":\n",
    "            category.append(v)"
   ]
  },
  {
   "cell_type": "code",
   "execution_count": 75,
   "metadata": {},
   "outputs": [
    {
     "data": {
      "text/plain": [
       "90"
      ]
     },
     "execution_count": 75,
     "metadata": {},
     "output_type": "execute_result"
    }
   ],
   "source": [
    "len(category)"
   ]
  },
  {
   "cell_type": "code",
   "execution_count": 59,
   "metadata": {},
   "outputs": [
    {
     "name": "stdout",
     "output_type": "stream",
     "text": [
      "https://www.theguardian.com/politics/2019/nov/13/kate-griffiths-wife-of-disgraced-mp-andrew-griffiths-stands-in-his-former-seat-with-pledge-to-fight-domestic-abuse\n"
     ]
    }
   ],
   "source": [
    "print(url[1])"
   ]
  },
  {
   "cell_type": "code",
   "execution_count": 42,
   "metadata": {},
   "outputs": [],
   "source": [
    "title=[]"
   ]
  },
  {
   "cell_type": "code",
   "execution_count": 43,
   "metadata": {},
   "outputs": [],
   "source": [
    "for article in data:\n",
    "    for k,v in article.items():\n",
    "        if k==\"title\":\n",
    "            title.append(v)"
   ]
  },
  {
   "cell_type": "code",
   "execution_count": 45,
   "metadata": {},
   "outputs": [],
   "source": [
    "title_rss=[]"
   ]
  },
  {
   "cell_type": "code",
   "execution_count": 46,
   "metadata": {},
   "outputs": [],
   "source": [
    "for article in data:\n",
    "    for k,v in article.items():\n",
    "        if k==\"title_rss\":\n",
    "            title_rss.append(v)"
   ]
  },
  {
   "cell_type": "code",
   "execution_count": 47,
   "metadata": {},
   "outputs": [
    {
     "data": {
      "text/plain": [
       "100"
      ]
     },
     "execution_count": 47,
     "metadata": {},
     "output_type": "execute_result"
    }
   ],
   "source": [
    "len(title_rss)"
   ]
  },
  {
   "cell_type": "code",
   "execution_count": 48,
   "metadata": {},
   "outputs": [
    {
     "name": "stdout",
     "output_type": "stream",
     "text": [
      "Wife of disgraced MP stands in his former seat with pledge to fight domestic abuse\n"
     ]
    }
   ],
   "source": [
    "print(title_rss[1])"
   ]
  },
  {
   "cell_type": "code",
   "execution_count": 49,
   "metadata": {},
   "outputs": [
    {
     "name": "stdout",
     "output_type": "stream",
     "text": [
      "dict_keys(['_id', 'title_rss', 'teaser_rss', 'publication_date', 'htmlsource', 'feedurl', 'url', 'teaser', 'byline', 'text', 'doctype', 'META', 1])\n",
      "dict_keys(['_id', 'title_rss', 'teaser_rss', 'publication_date', 'htmlsource', 'feedurl', 'url', 'teaser', 'byline', 'text', 'doctype', 'META', 1])\n",
      "dict_keys(['_id', 'title_rss', 'teaser_rss', 'publication_date', 'htmlsource', 'feedurl', 'url', 'teaser', 'byline', 'text', 'doctype', 'META'])\n",
      "dict_keys(['_id', 'title_rss', 'teaser_rss', 'publication_date', 'htmlsource', 'feedurl', 'url', 'teaser', 'byline', 'text', 'doctype', 'META'])\n",
      "dict_keys(['_id', 'title_rss', 'teaser_rss', 'publication_date', 'htmlsource', 'feedurl', 'url', 'teaser', 'byline', 'text', 'doctype', 'META'])\n",
      "dict_keys(['_id', 'title_rss', 'teaser_rss', 'publication_date', 'htmlsource', 'feedurl', 'url', 'teaser', 'byline', 'text', 'doctype', 'META'])\n",
      "dict_keys(['_id', 'title_rss', 'teaser_rss', 'publication_date', 'htmlsource', 'feedurl', 'url', 'teaser', 'byline', 'text', 'doctype', 'META'])\n",
      "dict_keys(['_id', 'title_rss', 'teaser_rss', 'publication_date', 'htmlsource', 'feedurl', 'url', 'teaser', 'byline', 'text', 'doctype', 'META'])\n",
      "dict_keys(['_id', 'title_rss', 'teaser_rss', 'publication_date', 'htmlsource', 'feedurl', 'url', 'teaser', 'byline', 'text', 'doctype', 'META'])\n",
      "dict_keys(['_id', 'title_rss', 'teaser_rss', 'publication_date', 'htmlsource', 'feedurl', 'url', 'teaser', 'byline', 'text', 'doctype', 'META'])\n",
      "dict_keys(['_id', 'title_rss', 'teaser_rss', 'publication_date', 'htmlsource', 'feedurl', 'url', 'teaser', 'byline', 'text', 'doctype', 'META'])\n",
      "dict_keys(['_id', 'title_rss', 'teaser_rss', 'publication_date', 'htmlsource', 'feedurl', 'url', 'teaser', 'byline', 'text', 'doctype', 'META'])\n",
      "dict_keys(['_id', 'title_rss', 'teaser_rss', 'publication_date', 'htmlsource', 'feedurl', 'url', 'teaser', 'byline', 'text', 'doctype', 'META'])\n",
      "dict_keys(['_id', 'title_rss', 'teaser_rss', 'publication_date', 'htmlsource', 'feedurl', 'url', 'doctype', 'META'])\n",
      "dict_keys(['_id', 'title_rss', 'teaser_rss', 'publication_date', 'htmlsource', 'feedurl', 'url', 'text', 'doctype', 'META'])\n",
      "dict_keys(['_id', 'title_rss', 'teaser_rss', 'publication_date', 'htmlsource', 'feedurl', 'url', 'teaser', 'byline', 'text', 'doctype', 'META'])\n",
      "dict_keys(['_id', 'title_rss', 'teaser_rss', 'publication_date', 'htmlsource', 'feedurl', 'url', 'teaser', 'text', 'doctype', 'META'])\n",
      "dict_keys(['_id', 'title_rss', 'teaser_rss', 'publication_date', 'htmlsource', 'feedurl', 'url', 'teaser', 'byline', 'text', 'doctype', 'META'])\n",
      "dict_keys(['_id', 'title_rss', 'teaser_rss', 'publication_date', 'htmlsource', 'feedurl', 'url', 'title', 'teaser', 'byline', 'text', 'doctype', 'META'])\n",
      "dict_keys(['_id', 'title_rss', 'teaser_rss', 'publication_date', 'htmlsource', 'feedurl', 'url', 'teaser', 'text', 'doctype', 'META'])\n",
      "dict_keys(['_id', 'title_rss', 'teaser_rss', 'publication_date', 'htmlsource', 'feedurl', 'url', 'teaser', 'byline', 'text', 'doctype', 'META'])\n",
      "dict_keys(['_id', 'title_rss', 'teaser_rss', 'publication_date', 'htmlsource', 'feedurl', 'url', 'teaser', 'byline', 'text', 'doctype', 'META'])\n",
      "dict_keys(['_id', 'title_rss', 'teaser_rss', 'publication_date', 'htmlsource', 'feedurl', 'url', 'teaser', 'byline', 'doctype', 'META'])\n",
      "dict_keys(['_id', 'title_rss', 'teaser_rss', 'publication_date', 'htmlsource', 'feedurl', 'url', 'teaser', 'byline', 'doctype', 'META'])\n",
      "dict_keys(['_id', 'title_rss', 'teaser_rss', 'publication_date', 'htmlsource', 'feedurl', 'url', 'teaser', 'byline', 'doctype', 'META'])\n",
      "dict_keys(['_id', 'title_rss', 'teaser_rss', 'publication_date', 'htmlsource', 'feedurl', 'url', 'teaser', 'text', 'doctype', 'META'])\n",
      "dict_keys(['_id', 'title_rss', 'teaser_rss', 'publication_date', 'htmlsource', 'feedurl', 'url', 'text', 'doctype', 'META'])\n",
      "dict_keys(['_id', 'title_rss', 'teaser_rss', 'publication_date', 'htmlsource', 'feedurl', 'url', 'teaser', 'text', 'doctype', 'META'])\n",
      "dict_keys(['_id', 'title_rss', 'teaser_rss', 'publication_date', 'htmlsource', 'feedurl', 'url', 'teaser', 'text', 'doctype', 'META'])\n",
      "dict_keys(['_id', 'title_rss', 'teaser_rss', 'publication_date', 'htmlsource', 'feedurl', 'url', 'teaser', 'text', 'doctype', 'META'])\n",
      "dict_keys(['_id', 'title_rss', 'teaser_rss', 'publication_date', 'htmlsource', 'feedurl', 'url', 'text', 'doctype', 'META'])\n",
      "dict_keys(['_id', 'title_rss', 'teaser_rss', 'publication_date', 'htmlsource', 'feedurl', 'url', 'teaser', 'text', 'doctype', 'META'])\n",
      "dict_keys(['_id', 'title_rss', 'teaser_rss', 'publication_date', 'htmlsource', 'feedurl', 'url', 'teaser', 'text', 'doctype', 'META'])\n",
      "dict_keys(['_id', 'title_rss', 'teaser_rss', 'publication_date', 'htmlsource', 'feedurl', 'url', 'byline', 'text', 'doctype', 'META'])\n",
      "dict_keys(['_id', 'title_rss', 'teaser_rss', 'publication_date', 'htmlsource', 'feedurl', 'url', 'byline', 'text', 'doctype', 'META'])\n",
      "dict_keys(['_id', 'title_rss', 'teaser_rss', 'publication_date', 'htmlsource', 'feedurl', 'url', 'byline', 'text', 'doctype', 'META'])\n",
      "dict_keys(['_id', 'title_rss', 'teaser_rss', 'publication_date', 'htmlsource', 'feedurl', 'url', 'byline', 'text', 'doctype', 'META'])\n",
      "dict_keys(['_id', 'title_rss', 'teaser_rss', 'publication_date', 'htmlsource', 'feedurl', 'url', 'text', 'doctype', 'META'])\n",
      "dict_keys(['_id', 'title_rss', 'teaser_rss', 'publication_date', 'htmlsource', 'feedurl', 'url', 'teaser', 'byline', 'text', 'doctype', 'META'])\n",
      "dict_keys(['_id', 'title_rss', 'teaser_rss', 'publication_date', 'htmlsource', 'feedurl', 'url', 'byline', 'text', 'doctype', 'META'])\n",
      "dict_keys(['_id', 'title_rss', 'teaser_rss', 'publication_date', 'htmlsource', 'feedurl', 'url', 'teaser', 'byline', 'text', 'doctype', 'META'])\n",
      "dict_keys(['_id', 'title_rss', 'teaser_rss', 'publication_date', 'htmlsource', 'feedurl', 'url', 'title', 'teaser', 'byline', 'doctype', 'META'])\n",
      "dict_keys(['_id', 'title_rss', 'teaser_rss', 'publication_date', 'htmlsource', 'feedurl', 'url', 'title', 'teaser', 'byline', 'doctype', 'META'])\n",
      "dict_keys(['_id', 'title_rss', 'teaser_rss', 'publication_date', 'htmlsource', 'feedurl', 'url', 'title', 'teaser', 'byline', 'doctype', 'META'])\n",
      "dict_keys(['_id', 'title_rss', 'teaser_rss', 'publication_date', 'htmlsource', 'feedurl', 'url', 'title', 'teaser', 'byline', 'doctype', 'META'])\n",
      "dict_keys(['_id', 'title_rss', 'teaser_rss', 'publication_date', 'htmlsource', 'feedurl', 'url', 'title', 'teaser', 'byline', 'doctype', 'META'])\n",
      "dict_keys(['_id', 'title_rss', 'teaser_rss', 'publication_date', 'htmlsource', 'feedurl', 'url', 'title', 'teaser', 'byline', 'doctype', 'META'])\n",
      "dict_keys(['_id', 'title_rss', 'teaser_rss', 'publication_date', 'htmlsource', 'feedurl', 'url', 'teaser', 'byline', 'text', 'doctype', 'META'])\n",
      "dict_keys(['_id', 'title_rss', 'teaser_rss', 'publication_date', 'htmlsource', 'feedurl', 'url', 'teaser', 'byline', 'text', 'doctype', 'META'])\n",
      "dict_keys(['_id', 'title_rss', 'teaser_rss', 'publication_date', 'htmlsource', 'feedurl', 'url', 'teaser', 'byline', 'text', 'doctype', 'META'])\n",
      "dict_keys(['_id', 'title_rss', 'teaser_rss', 'publication_date', 'htmlsource', 'feedurl', 'url', 'teaser', 'byline', 'text', 'doctype', 'META'])\n",
      "dict_keys(['_id', 'title_rss', 'teaser_rss', 'publication_date', 'htmlsource', 'feedurl', 'url', 'teaser', 'byline', 'text', 'doctype', 'META'])\n",
      "dict_keys(['_id', 'title_rss', 'teaser_rss', 'publication_date', 'htmlsource', 'feedurl', 'url', 'teaser', 'byline', 'text', 'doctype', 'META'])\n",
      "dict_keys(['_id', 'title_rss', 'teaser_rss', 'publication_date', 'htmlsource', 'feedurl', 'url', 'teaser', 'byline', 'text', 'doctype', 'META'])\n",
      "dict_keys(['_id', 'title_rss', 'teaser_rss', 'publication_date', 'htmlsource', 'feedurl', 'url', 'teaser', 'byline', 'text', 'doctype', 'META'])\n",
      "dict_keys(['_id', 'title_rss', 'teaser_rss', 'publication_date', 'htmlsource', 'feedurl', 'url', 'teaser', 'byline', 'text', 'doctype', 'META'])\n",
      "dict_keys(['_id', 'title_rss', 'teaser_rss', 'publication_date', 'htmlsource', 'feedurl', 'url', 'teaser', 'byline', 'text', 'doctype', 'META'])\n",
      "dict_keys(['_id', 'title_rss', 'teaser_rss', 'publication_date', 'htmlsource', 'feedurl', 'url', 'teaser', 'byline', 'text', 'doctype', 'META'])\n"
     ]
    },
    {
     "name": "stdout",
     "output_type": "stream",
     "text": [
      "dict_keys(['_id', 'title_rss', 'teaser_rss', 'publication_date', 'htmlsource', 'feedurl', 'url', 'teaser', 'byline', 'text', 'doctype', 'META'])\n",
      "dict_keys(['_id', 'title_rss', 'teaser_rss', 'publication_date', 'htmlsource', 'feedurl', 'url', 'teaser', 'byline', 'text', 'doctype', 'META'])\n",
      "dict_keys(['_id', 'title_rss', 'teaser_rss', 'publication_date', 'htmlsource', 'feedurl', 'url', 'teaser', 'byline', 'text', 'doctype', 'META'])\n",
      "dict_keys(['_id', 'title_rss', 'teaser_rss', 'publication_date', 'htmlsource', 'feedurl', 'url', 'teaser', 'byline', 'text', 'doctype', 'META'])\n",
      "dict_keys(['_id', 'title_rss', 'teaser_rss', 'publication_date', 'htmlsource', 'feedurl', 'url', 'teaser', 'byline', 'text', 'doctype', 'META'])\n",
      "dict_keys(['_id', 'title_rss', 'teaser_rss', 'publication_date', 'htmlsource', 'feedurl', 'url', 'teaser', 'byline', 'text', 'doctype', 'META'])\n",
      "dict_keys(['_id', 'title_rss', 'teaser_rss', 'publication_date', 'htmlsource', 'feedurl', 'url', 'teaser', 'byline', 'text', 'doctype', 'META'])\n",
      "dict_keys(['_id', 'title_rss', 'teaser_rss', 'publication_date', 'htmlsource', 'feedurl', 'url', 'teaser', 'byline', 'text', 'doctype', 'META'])\n",
      "dict_keys(['_id', 'title_rss', 'teaser_rss', 'publication_date', 'htmlsource', 'feedurl', 'url', 'teaser', 'byline', 'text', 'doctype', 'META'])\n",
      "dict_keys(['_id', 'title_rss', 'teaser_rss', 'publication_date', 'htmlsource', 'feedurl', 'url', 'title', 'teaser', 'byline', 'text', 'doctype', 'META'])\n",
      "dict_keys(['_id', 'title_rss', 'teaser_rss', 'publication_date', 'htmlsource', 'feedurl', 'url', 'teaser', 'byline', 'text', 'doctype', 'META'])\n",
      "dict_keys(['_id', 'title_rss', 'teaser_rss', 'publication_date', 'htmlsource', 'feedurl', 'url', 'title', 'teaser', 'byline', 'text', 'doctype', 'META'])\n",
      "dict_keys(['_id', 'title_rss', 'teaser_rss', 'publication_date', 'htmlsource', 'feedurl', 'url', 'title', 'teaser', 'byline', 'doctype', 'META'])\n",
      "dict_keys(['_id', 'title_rss', 'teaser_rss', 'publication_date', 'htmlsource', 'feedurl', 'url', 'byline', 'doctype', 'META'])\n",
      "dict_keys(['_id', 'title_rss', 'teaser_rss', 'publication_date', 'htmlsource', 'feedurl', 'url', 'teaser', 'byline', 'doctype', 'META'])\n",
      "dict_keys(['_id', 'title_rss', 'teaser_rss', 'publication_date', 'htmlsource', 'feedurl', 'url', 'teaser', 'byline', 'doctype', 'META'])\n",
      "dict_keys(['_id', 'title_rss', 'teaser_rss', 'publication_date', 'htmlsource', 'feedurl', 'url', 'teaser', 'byline', 'doctype', 'META'])\n",
      "dict_keys(['_id', 'title_rss', 'teaser_rss', 'publication_date', 'htmlsource', 'feedurl', 'url', 'text', 'doctype', 'META'])\n",
      "dict_keys(['_id', 'title_rss', 'teaser_rss', 'publication_date', 'htmlsource', 'feedurl', 'url', 'text', 'doctype', 'META'])\n",
      "dict_keys(['_id', 'title_rss', 'teaser_rss', 'publication_date', 'htmlsource', 'feedurl', 'url', 'text', 'doctype', 'META'])\n",
      "dict_keys(['_id', 'title_rss', 'teaser_rss', 'publication_date', 'htmlsource', 'feedurl', 'url', 'title', 'teaser', 'byline', 'text', 'doctype', 'META'])\n",
      "dict_keys(['_id', 'title_rss', 'teaser_rss', 'publication_date', 'htmlsource', 'feedurl', 'url', 'teaser', 'byline', 'text', 'doctype', 'META'])\n",
      "dict_keys(['_id', 'title_rss', 'teaser_rss', 'publication_date', 'htmlsource', 'feedurl', 'url', 'teaser', 'byline', 'text', 'doctype', 'META'])\n",
      "dict_keys(['_id', 'title_rss', 'teaser_rss', 'publication_date', 'htmlsource', 'feedurl', 'url', 'byline', 'text', 'doctype', 'META'])\n",
      "dict_keys(['_id', 'title_rss', 'teaser_rss', 'publication_date', 'htmlsource', 'feedurl', 'url', 'teaser', 'byline', 'text', 'doctype', 'META'])\n",
      "dict_keys(['_id', 'title_rss', 'teaser_rss', 'publication_date', 'htmlsource', 'feedurl', 'url', 'teaser', 'byline', 'text', 'doctype', 'META'])\n",
      "dict_keys(['_id', 'title_rss', 'teaser_rss', 'publication_date', 'htmlsource', 'feedurl', 'url', 'teaser', 'byline', 'text', 'doctype', 'META'])\n",
      "dict_keys(['_id', 'title_rss', 'teaser_rss', 'publication_date', 'htmlsource', 'feedurl', 'url', 'teaser', 'byline', 'text', 'doctype', 'META'])\n",
      "dict_keys(['_id', 'title_rss', 'teaser_rss', 'publication_date', 'htmlsource', 'feedurl', 'url', 'teaser', 'byline', 'text', 'doctype', 'META'])\n",
      "dict_keys(['_id', 'title_rss', 'teaser_rss', 'publication_date', 'htmlsource', 'feedurl', 'url', 'teaser', 'byline', 'text', 'doctype', 'META'])\n",
      "dict_keys(['_id', 'title_rss', 'teaser_rss', 'publication_date', 'htmlsource', 'feedurl', 'url', 'title', 'teaser', 'byline', 'text', 'doctype', 'META'])\n",
      "dict_keys(['_id', 'title_rss', 'teaser_rss', 'publication_date', 'htmlsource', 'feedurl', 'url', 'title', 'teaser', 'byline', 'doctype', 'META'])\n",
      "dict_keys(['_id', 'title_rss', 'teaser_rss', 'publication_date', 'htmlsource', 'feedurl', 'url', 'teaser', 'byline', 'text', 'doctype', 'META'])\n",
      "dict_keys(['_id', 'title_rss', 'teaser_rss', 'publication_date', 'htmlsource', 'feedurl', 'url', 'title', 'teaser', 'byline', 'text', 'doctype', 'META'])\n",
      "dict_keys(['_id', 'title_rss', 'teaser_rss', 'publication_date', 'htmlsource', 'feedurl', 'url', 'teaser', 'byline', 'text', 'doctype', 'META'])\n",
      "dict_keys(['_id', 'title_rss', 'teaser_rss', 'publication_date', 'htmlsource', 'feedurl', 'url', 'title', 'teaser', 'byline', 'text', 'doctype', 'META'])\n",
      "dict_keys(['_id', 'title_rss', 'teaser_rss', 'publication_date', 'htmlsource', 'feedurl', 'url', 'doctype', 'META'])\n",
      "dict_keys(['_id', 'title_rss', 'teaser_rss', 'publication_date', 'htmlsource', 'feedurl', 'url', 'doctype', 'META'])\n",
      "dict_keys(['_id', 'title_rss', 'teaser_rss', 'publication_date', 'htmlsource', 'feedurl', 'url', 'text', 'doctype', 'META'])\n",
      "dict_keys(['_id', 'title_rss', 'teaser_rss', 'publication_date', 'htmlsource', 'feedurl', 'url', 'doctype', 'META'])\n",
      "dict_keys(['_id', 'title_rss', 'teaser_rss', 'publication_date', 'htmlsource', 'feedurl', 'url', 'doctype', 'META'])\n",
      "dict_keys(['_id', 'title_rss', 'teaser_rss', 'publication_date', 'htmlsource', 'feedurl', 'url', 'doctype', 'META'])\n"
     ]
    }
   ],
   "source": [
    "for i in data:\n",
    "    print(i.keys())"
   ]
  }
 ],
 "metadata": {
  "kernelspec": {
   "display_name": "Python 3",
   "language": "python",
   "name": "python3"
  },
  "language_info": {
   "codemirror_mode": {
    "name": "ipython",
    "version": 3
   },
   "file_extension": ".py",
   "mimetype": "text/x-python",
   "name": "python",
   "nbconvert_exporter": "python",
   "pygments_lexer": "ipython3",
   "version": "3.6.7"
  }
 },
 "nbformat": 4,
 "nbformat_minor": 2
}
