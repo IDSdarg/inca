{
 "cells": [
  {
   "cell_type": "code",
   "execution_count": 1,
   "metadata": {},
   "outputs": [
    {
     "name": "stderr",
     "output_type": "stream",
     "text": [
      "/usr/lib/python3/dist-packages/requests/__init__.py:80: RequestsDependencyWarning: urllib3 (1.24.3) or chardet (2.3.0) doesn't match a supported version!\n",
      "  RequestsDependencyWarning)\n",
      "WARNING:INCA:No database functionality available. This means you will not be able to SAVE the results of any scraper or processor!\n",
      "/usr/local/lib/python3.6/dist-packages/selenium/webdriver/phantomjs/webdriver.py:49: UserWarning: Selenium support for PhantomJS has been deprecated, please use headless versions of Chrome or Firefox instead\n",
      "  warnings.warn('Selenium support for PhantomJS has been deprecated, please use headless '\n",
      "INFO:INCA.inca.core.client_class:No Database available, so API client functionalitywill be severely limited\n",
      "INFO:INCA.inca.core.client_class:No Database available, so API client functionalitywill be severely limited\n",
      "INFO:INCA.inca.core.client_class:No Database available, so API client functionalitywill be severely limited\n",
      "INFO:INCA.inca.core.client_class:No Database available, so API client functionalitywill be severely limited\n",
      "INFO:INCA.inca.core.client_class:No Database available, so API client functionalitywill be severely limited\n",
      "INFO:INCA.inca.core.client_class:No Database available, so API client functionalitywill be severely limited\n",
      "INFO:INCA.inca.core.client_class:No Database available, so API client functionalitywill be severely limited\n",
      "INFO:INCA.inca.core.client_class:No Database available, so API client functionalitywill be severely limited\n",
      "INFO:INCA.inca.core.client_class:No Database available, so API client functionalitywill be severely limited\n",
      "INFO:INCA.inca.core.client_class:No Database available, so API client functionalitywill be severely limited\n",
      "INFO:INCA.inca.core.client_class:No Database available, so API client functionalitywill be severely limited\n",
      "INFO:INCA.inca.core.client_class:No Database available, so API client functionalitywill be severely limited\n",
      "INFO:INCA.inca.core.client_class:No Database available, so API client functionalitywill be severely limited\n",
      "INFO:INCA.inca.core.client_class:No Database available, so API client functionalitywill be severely limited\n",
      "INFO:INCA.inca.core.client_class:No Database available, so API client functionalitywill be severely limited\n",
      "INFO:INCA.inca.core.client_class:No Database available, so API client functionalitywill be severely limited\n",
      "INFO:INCA:Providing verbose output\n",
      "INFO:INCA:Started scraping\n"
     ]
    }
   ],
   "source": [
    "from inca import Inca\n",
    "myinca=Inca()\n",
    "data=myinca.rssscrapers.zeit(save=False)"
   ]
  },
  {
   "cell_type": "code",
   "execution_count": 2,
   "metadata": {},
   "outputs": [],
   "source": [
    "from selenium import webdriver #launch browser\n",
    "from selenium.webdriver.common.keys import Keys\n",
    "from selenium.webdriver.support.ui import WebDriverWait #wait for page to load\n",
    "from selenium.webdriver.support import expected_conditions as EC #Specify what you are looking for on a specific page in order to determine that the webpage has loaded\n",
    "from selenium.webdriver.common.by import By #find elements BY\n",
    "import time\n",
    "from selenium.common.exceptions import TimeoutException #handle timout situations; \n",
    "from selenium.common.exceptions import NoSuchElementException\n",
    "\n",
    "from bs4 import BeautifulSoup\n",
    "from urllib.request import urlopen\n",
    "import urllib.request\n",
    "import re\n",
    "import requests\n",
    "\n",
    "from socket import error as SocketError\n",
    "import errno\n",
    "from lxml import html\n",
    "from lxml.html import fromstring\n",
    "from bs4 import BeautifulSoup\n",
    "from html.parser import HTMLParser\n",
    "\n",
    "import csv"
   ]
  },
  {
   "cell_type": "code",
   "execution_count": 19,
   "metadata": {},
   "outputs": [],
   "source": [
    "urls=[]\n",
    "url=[]\n",
    "htmls=[]\n",
    "trees=[]"
   ]
  },
  {
   "cell_type": "code",
   "execution_count": 20,
   "metadata": {},
   "outputs": [],
   "source": [
    "for a in data: \n",
    "    for k,v in a.items():\n",
    "        if k==\"url\":\n",
    "            urls.append(v)"
   ]
  },
  {
   "cell_type": "code",
   "execution_count": null,
   "metadata": {},
   "outputs": [],
   "source": [
    "myurl=\"https://www.sueddeutsche.de/muenchen/starnberg/unfall-a96-autobahn-gilching-1.4689393\"\n",
    "ht=requests.get(myurl).text\n",
    "tr=html.fromstring(ht)"
   ]
  },
  {
   "cell_type": "code",
   "execution_count": 21,
   "metadata": {},
   "outputs": [],
   "source": [
    "for a in urls:\n",
    "    htmls.append(requests.get(a).text)"
   ]
  },
  {
   "cell_type": "code",
   "execution_count": 23,
   "metadata": {},
   "outputs": [],
   "source": [
    "for ht in htmls:\n",
    "    trees.append(html.fromstring(ht))"
   ]
  },
  {
   "cell_type": "code",
   "execution_count": 30,
   "metadata": {},
   "outputs": [
    {
     "ename": "XPathEvalError",
     "evalue": "Invalid expression",
     "output_type": "error",
     "traceback": [
      "\u001b[0;31m---------------------------------------------------------------------------\u001b[0m",
      "\u001b[0;31mXPathEvalError\u001b[0m                            Traceback (most recent call last)",
      "\u001b[0;32m<ipython-input-30-bb9f1cf72088>\u001b[0m in \u001b[0;36m<module>\u001b[0;34m\u001b[0m\n\u001b[1;32m      2\u001b[0m \u001b[0;34m\u001b[0m\u001b[0m\n\u001b[1;32m      3\u001b[0m \u001b[0;32mfor\u001b[0m \u001b[0mt\u001b[0m \u001b[0;32min\u001b[0m \u001b[0mtrees\u001b[0m\u001b[0;34m:\u001b[0m\u001b[0;34m\u001b[0m\u001b[0;34m\u001b[0m\u001b[0m\n\u001b[0;32m----> 4\u001b[0;31m     \u001b[0mtitles\u001b[0m\u001b[0;34m.\u001b[0m\u001b[0mappend\u001b[0m\u001b[0;34m(\u001b[0m\u001b[0;34m''\u001b[0m\u001b[0;34m.\u001b[0m\u001b[0mjoin\u001b[0m\u001b[0;34m(\u001b[0m\u001b[0mt\u001b[0m\u001b[0;34m.\u001b[0m\u001b[0mxpath\u001b[0m\u001b[0;34m(\u001b[0m\u001b[0;34m'//*[@class=\"article-header\"]//h1/span/text()|//[@class=\"headline__title\"]/span/text()'\u001b[0m\u001b[0;34m)\u001b[0m\u001b[0;34m)\u001b[0m\u001b[0;34m)\u001b[0m\u001b[0;34m\u001b[0m\u001b[0;34m\u001b[0m\u001b[0m\n\u001b[0m\u001b[1;32m      5\u001b[0m \u001b[0;34m\u001b[0m\u001b[0m\n",
      "\u001b[0;32msrc/lxml/etree.pyx\u001b[0m in \u001b[0;36mlxml.etree._Element.xpath\u001b[0;34m()\u001b[0m\n",
      "\u001b[0;32msrc/lxml/xpath.pxi\u001b[0m in \u001b[0;36mlxml.etree.XPathElementEvaluator.__call__\u001b[0;34m()\u001b[0m\n",
      "\u001b[0;32msrc/lxml/xpath.pxi\u001b[0m in \u001b[0;36mlxml.etree._XPathEvaluatorBase._handle_result\u001b[0;34m()\u001b[0m\n",
      "\u001b[0;31mXPathEvalError\u001b[0m: Invalid expression"
     ]
    }
   ],
   "source": [
    "titles=[]\n",
    "\n",
    "for t in trees:\n",
    "    titles.append(''.join(t.xpath('//*[@class=\"article-header\"]//h1/span/text()|//[@class=\"headline__title\"]/span/text()')))\n",
    "    "
   ]
  },
  {
   "cell_type": "code",
   "execution_count": null,
   "metadata": {},
   "outputs": [],
   "source": []
  },
  {
   "cell_type": "code",
   "execution_count": null,
   "metadata": {},
   "outputs": [],
   "source": [
    "title = ''.join(tree.xpath('//*[@class=\"article-header\"]//h1/span/text()'|'//[@class=\"headline__title\"]/span/text()'))"
   ]
  },
  {
   "cell_type": "code",
   "execution_count": 7,
   "metadata": {},
   "outputs": [
    {
     "ename": "NameError",
     "evalue": "name 'tree' is not defined",
     "output_type": "error",
     "traceback": [
      "\u001b[0;31m---------------------------------------------------------------------------\u001b[0m",
      "\u001b[0;31mNameError\u001b[0m                                 Traceback (most recent call last)",
      "\u001b[0;32m<ipython-input-7-d4eacf58c784>\u001b[0m in \u001b[0;36m<module>\u001b[0;34m\u001b[0m\n\u001b[1;32m      1\u001b[0m \u001b[0;32mfor\u001b[0m \u001b[0ma\u001b[0m \u001b[0;32min\u001b[0m \u001b[0murls\u001b[0m\u001b[0;34m:\u001b[0m\u001b[0;34m\u001b[0m\u001b[0;34m\u001b[0m\u001b[0m\n\u001b[0;32m----> 2\u001b[0;31m     \u001b[0mtitle\u001b[0m \u001b[0;34m=\u001b[0m \u001b[0;34m''\u001b[0m\u001b[0;34m.\u001b[0m\u001b[0mjoin\u001b[0m\u001b[0;34m(\u001b[0m\u001b[0mtree\u001b[0m\u001b[0;34m.\u001b[0m\u001b[0mxpath\u001b[0m\u001b[0;34m(\u001b[0m\u001b[0;34m'//*[@class=\"article-header\"]//h1/span/text()'\u001b[0m\u001b[0;34m|\u001b[0m\u001b[0;34m'//[@class=\"headline__title\"]/span/text()'\u001b[0m\u001b[0;34m)\u001b[0m\u001b[0;34m)\u001b[0m\u001b[0;34m\u001b[0m\u001b[0;34m\u001b[0m\u001b[0m\n\u001b[0m",
      "\u001b[0;31mNameError\u001b[0m: name 'tree' is not defined"
     ]
    }
   ],
   "source": [
    "for a in urls:\n",
    "    title = ''.join(tree.xpath('//*[@class=\"article-header\"]//h1/span/text()'|'//[@class=\"headline__title\"]/span/text()'))"
   ]
  },
  {
   "cell_type": "code",
   "execution_count": null,
   "metadata": {},
   "outputs": [],
   "source": []
  },
  {
   "cell_type": "code",
   "execution_count": null,
   "metadata": {},
   "outputs": [],
   "source": []
  },
  {
   "cell_type": "code",
   "execution_count": null,
   "metadata": {},
   "outputs": [],
   "source": []
  }
 ],
 "metadata": {
  "kernelspec": {
   "display_name": "Python 3",
   "language": "python",
   "name": "python3"
  },
  "language_info": {
   "codemirror_mode": {
    "name": "ipython",
    "version": 3
   },
   "file_extension": ".py",
   "mimetype": "text/x-python",
   "name": "python",
   "nbconvert_exporter": "python",
   "pygments_lexer": "ipython3",
   "version": "3.6.7"
  }
 },
 "nbformat": 4,
 "nbformat_minor": 2
}
