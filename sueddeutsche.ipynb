{
 "cells": [
  {
   "cell_type": "code",
   "execution_count": 1,
   "metadata": {},
   "outputs": [
    {
     "name": "stderr",
     "output_type": "stream",
     "text": [
      "/usr/lib/python3/dist-packages/requests/__init__.py:80: RequestsDependencyWarning: urllib3 (1.24.3) or chardet (2.3.0) doesn't match a supported version!\n",
      "  RequestsDependencyWarning)\n",
      "WARNING:INCA:No database functionality available. This means you will not be able to SAVE the results of any scraper or processor!\n",
      "/usr/local/lib/python3.6/dist-packages/selenium/webdriver/phantomjs/webdriver.py:49: UserWarning: Selenium support for PhantomJS has been deprecated, please use headless versions of Chrome or Firefox instead\n",
      "  warnings.warn('Selenium support for PhantomJS has been deprecated, please use headless '\n",
      "INFO:INCA.inca.core.client_class:No Database available, so API client functionalitywill be severely limited\n",
      "INFO:INCA.inca.core.client_class:No Database available, so API client functionalitywill be severely limited\n",
      "INFO:INCA.inca.core.client_class:No Database available, so API client functionalitywill be severely limited\n",
      "INFO:INCA.inca.core.client_class:No Database available, so API client functionalitywill be severely limited\n",
      "INFO:INCA.inca.core.client_class:No Database available, so API client functionalitywill be severely limited\n",
      "INFO:INCA.inca.core.client_class:No Database available, so API client functionalitywill be severely limited\n",
      "INFO:INCA.inca.core.client_class:No Database available, so API client functionalitywill be severely limited\n",
      "INFO:INCA.inca.core.client_class:No Database available, so API client functionalitywill be severely limited\n"
     ]
    }
   ],
   "source": [
    "from selenium import webdriver #launch browser\n",
    "from selenium.webdriver.common.keys import Keys\n",
    "from selenium.webdriver.support.ui import WebDriverWait #wait for page to load\n",
    "from selenium.webdriver.support import expected_conditions as EC #Specify what you are looking for on a specific page in order to determine that the webpage has loaded\n",
    "from selenium.webdriver.common.by import By #find elements BY\n",
    "import time\n",
    "from selenium.common.exceptions import TimeoutException #handle timout situations; \n",
    "from selenium.common.exceptions import NoSuchElementException\n",
    "\n",
    "from bs4 import BeautifulSoup\n",
    "from urllib.request import urlopen\n",
    "import urllib.request\n",
    "import re\n",
    "import requests\n",
    "\n",
    "from socket import error as SocketError\n",
    "import errno\n",
    "from lxml import html\n",
    "from lxml.html import fromstring\n",
    "from bs4 import BeautifulSoup\n",
    "from html.parser import HTMLParser\n",
    "\n",
    "import csv\n",
    "\n",
    "from inca import Inca"
   ]
  },
  {
   "cell_type": "code",
   "execution_count": 10,
   "metadata": {},
   "outputs": [
    {
     "name": "stderr",
     "output_type": "stream",
     "text": [
      "INFO:INCA.inca.core.client_class:No Database available, so API client functionalitywill be severely limited\n",
      "INFO:INCA.inca.core.client_class:No Database available, so API client functionalitywill be severely limited\n",
      "INFO:INCA.inca.core.client_class:No Database available, so API client functionalitywill be severely limited\n",
      "INFO:INCA.inca.core.client_class:No Database available, so API client functionalitywill be severely limited\n",
      "INFO:INCA.inca.core.client_class:No Database available, so API client functionalitywill be severely limited\n",
      "INFO:INCA.inca.core.client_class:No Database available, so API client functionalitywill be severely limited\n",
      "INFO:INCA.inca.core.client_class:No Database available, so API client functionalitywill be severely limited\n",
      "INFO:INCA.inca.core.client_class:No Database available, so API client functionalitywill be severely limited\n",
      "INFO:INCA:Providing verbose output\n"
     ]
    }
   ],
   "source": [
    "myinca=Inca()"
   ]
  },
  {
   "cell_type": "code",
   "execution_count": 11,
   "metadata": {},
   "outputs": [
    {
     "name": "stderr",
     "output_type": "stream",
     "text": [
      "INFO:INCA:Started scraping\n"
     ]
    }
   ],
   "source": [
    "data=myinca.rssscrapers.sueddeutsche(save=False)"
   ]
  },
  {
   "cell_type": "code",
   "execution_count": 79,
   "metadata": {},
   "outputs": [],
   "source": [
    "url=[]"
   ]
  },
  {
   "cell_type": "code",
   "execution_count": 80,
   "metadata": {},
   "outputs": [],
   "source": [
    "for a in data:\n",
    "    for k,v in a.items():\n",
    "        if k==\"url\":\n",
    "            url.append(v)\n",
    "            "
   ]
  },
  {
   "cell_type": "code",
   "execution_count": 21,
   "metadata": {},
   "outputs": [],
   "source": [
    "tr_list=[]"
   ]
  },
  {
   "cell_type": "code",
   "execution_count": 22,
   "metadata": {},
   "outputs": [],
   "source": [
    "for url in url:\n",
    "    ht=requests.get(url).text\n",
    "    tr_list.append(html.fromstring(ht))"
   ]
  },
  {
   "cell_type": "code",
   "execution_count": 83,
   "metadata": {},
   "outputs": [
    {
     "data": {
      "text/plain": [
       "str"
      ]
     },
     "execution_count": 83,
     "metadata": {},
     "output_type": "execute_result"
    }
   ],
   "source": []
  },
  {
   "cell_type": "code",
   "execution_count": 14,
   "metadata": {},
   "outputs": [],
   "source": [
    "myurl=\"https://www.sueddeutsche.de/muenchen/starnberg/unfall-a96-autobahn-gilching-1.4689393\"\n",
    "ht=requests.get(myurl).text\n",
    "tr=html.fromstring(ht)"
   ]
  },
  {
   "cell_type": "code",
   "execution_count": 6,
   "metadata": {},
   "outputs": [],
   "source": [
    "teaser_old =\" \".join(tr.xpath('//*[@class=\"body\"]/ul/li/text()'))"
   ]
  },
  {
   "cell_type": "code",
   "execution_count": 7,
   "metadata": {},
   "outputs": [
    {
     "name": "stdout",
     "output_type": "stream",
     "text": [
      "\n"
     ]
    }
   ],
   "source": [
    "print(teaser_old)"
   ]
  },
  {
   "cell_type": "code",
   "execution_count": 8,
   "metadata": {},
   "outputs": [],
   "source": [
    "teaser_neu=\"\".join(tr.xpath('//*[@class=\"sz-article-intro__abstract-text\"]/text()'))"
   ]
  },
  {
   "cell_type": "code",
   "execution_count": 9,
   "metadata": {},
   "outputs": [
    {
     "name": "stdout",
     "output_type": "stream",
     "text": [
      "Weil er plötzlich niesen muss, verliert ein 42 Jahre alter Mann  am Dienstagabend  auf der  A96 die Kontrolle über sein Fahrzeug und kollidiert mit einem Lastwagen. Die Autobahn bleibt eineinhalb Stunden gesperrt.\n"
     ]
    }
   ],
   "source": [
    "print(teaser_neu)"
   ]
  },
  {
   "cell_type": "code",
   "execution_count": 26,
   "metadata": {},
   "outputs": [],
   "source": [
    "teas=[]"
   ]
  },
  {
   "cell_type": "code",
   "execution_count": 27,
   "metadata": {},
   "outputs": [],
   "source": [
    "for i in tr_list:\n",
    "    teaser_neu=\"\".join(tr.xpath('//*[@class=\"sz-article-intro__abstract-text\"]/text()'))\n",
    "    teas.append(teaser_neu)"
   ]
  },
  {
   "cell_type": "code",
   "execution_count": 30,
   "metadata": {},
   "outputs": [
    {
     "data": {
      "text/plain": [
       "str"
      ]
     },
     "execution_count": 30,
     "metadata": {},
     "output_type": "execute_result"
    }
   ],
   "source": []
  },
  {
   "cell_type": "code",
   "execution_count": null,
   "metadata": {},
   "outputs": [],
   "source": []
  },
  {
   "cell_type": "code",
   "execution_count": null,
   "metadata": {},
   "outputs": [],
   "source": [
    "#TEXT"
   ]
  },
  {
   "cell_type": "code",
   "execution_count": 33,
   "metadata": {},
   "outputs": [],
   "source": [
    "text = \"\".join(tr.xpath('//*[@id=\"article-body\"]/p/text()|//*[@id=\"article-body\"]/p/a/text()'))"
   ]
  },
  {
   "cell_type": "code",
   "execution_count": 34,
   "metadata": {},
   "outputs": [
    {
     "name": "stdout",
     "output_type": "stream",
     "text": [
      "\n"
     ]
    }
   ],
   "source": [
    "print(text)"
   ]
  },
  {
   "cell_type": "code",
   "execution_count": 68,
   "metadata": {},
   "outputs": [],
   "source": [
    "text_neu=\"\".join(tr.xpath('//*[@class=\"\"]//text()'))"
   ]
  },
  {
   "cell_type": "code",
   "execution_count": 67,
   "metadata": {},
   "outputs": [
    {
     "name": "stdout",
     "output_type": "stream",
     "text": [
      "Weil er während der Fahrt stark niesen musst und dabei mit seinem Wagen leicht von der Fahrbahn abkam, hat ein Autofahrer am Dienstagabend einen folgenschweren  auf der Autobahn A96 verursacht. Der 42-Jährige fuhr gegen 18 Uhr an der Anschlussstelle Oberpfaffenhofen auf die Autobahn in Richtung Lindau auf. Am Ende des Beschleunigungsstreifens war kurz zuvor der Sattelschlepper eines 39-Jährigen wegen Motorproblemen liegen geblieben.Der Autofahrer erkannte den Lastwagen und wechselte rechtzeitig auf die Hauptfahrbahn - musste dann aber plötzlich Niesen, wie er später erklärte. Er geriet mit seinem Wagen leicht nach rechts und stieß mit der rechten Fahrzeugseite gegen die linke Heckseite des Sattelaufliegers. Das Auto drehte sich, stieß noch einmal seitlich gegen den Sattelauflieger und kam \"so unglücklich auf den beiden Fahrstreifen der Hauptfahrbahn zum Stehen, das eine Durchfahrt für die anderen Verkehrsteilnehmer nicht mehr möglich war\", wie es im Polizeibericht heißt.Der 42 Jahre alte Autofahrer wurde bei dem Unfall leicht verletzt und mit dem Rettungswagen in ein Krankenhaus gebracht. An seinem Fahrzeug entstand Totalschaden, den Schaden am Lastwagen schätzt die Polizei auf etwa 7000 Euro. Die Fahrbahn blieb für eineinhalb Stunden komplett gesperrt, dann gelang es den Feuerwehren aus , Oberpfaffenhofen und Unterpfaffenhofen, das kaputte Auto soweit zur Seite zu ziehen, dass die linke Spur wieder befahrbar war. Gegen 20.30 Uhr war die Unfallstelle dann komplett geräumt.\n"
     ]
    }
   ],
   "source": [
    "print(text_neu)"
   ]
  },
  {
   "cell_type": "code",
   "execution_count": 69,
   "metadata": {},
   "outputs": [],
   "source": [
    "text=[]"
   ]
  },
  {
   "cell_type": "code",
   "execution_count": 70,
   "metadata": {},
   "outputs": [],
   "source": [
    "for i in tr_list:\n",
    "    text_neu=\"\".join(tr.xpath('//*[@class=\"\"]//text()'))\n",
    "    text.append(text_neu)\n",
    "    "
   ]
  },
  {
   "cell_type": "code",
   "execution_count": 77,
   "metadata": {},
   "outputs": [
    {
     "name": "stdout",
     "output_type": "stream",
     "text": [
      "https://www.sueddeutsche.de/muenchen/starnberg/unfall-a96-autobahn-gilching-1.4689393\n"
     ]
    }
   ],
   "source": []
  },
  {
   "cell_type": "code",
   "execution_count": null,
   "metadata": {},
   "outputs": [],
   "source": [
    "myurl=\"https://www.sueddeutsche.de/muenchen/starnberg/unfall-a96-autobahn-gilching-1.4689393\"\n",
    "ht=requests.get(myurl).text\n",
    "tr=html.fromstring(ht)"
   ]
  }
 ],
 "metadata": {
  "kernelspec": {
   "display_name": "Python 3",
   "language": "python",
   "name": "python3"
  },
  "language_info": {
   "codemirror_mode": {
    "name": "ipython",
    "version": 3
   },
   "file_extension": ".py",
   "mimetype": "text/x-python",
   "name": "python",
   "nbconvert_exporter": "python",
   "pygments_lexer": "ipython3",
   "version": "3.6.7"
  }
 },
 "nbformat": 4,
 "nbformat_minor": 2
}
