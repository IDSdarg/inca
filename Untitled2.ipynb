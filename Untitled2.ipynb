{
 "cells": [
  {
   "cell_type": "code",
   "execution_count": 2,
   "metadata": {},
   "outputs": [],
   "source": [
    "from inca import Inca\n",
    "from selenium import webdriver #launch browser\n",
    "from selenium.webdriver.common.keys import Keys\n",
    "from selenium.webdriver.support.ui import WebDriverWait #wait for page to load\n",
    "from selenium.webdriver.support import expected_conditions as EC #Specify what you are looking for on a specific page in order to determine that the webpage has loaded\n",
    "from selenium.webdriver.common.by import By #find elements BY\n",
    "import time\n",
    "from selenium.common.exceptions import TimeoutException #handle timout situations; \n",
    "from selenium.common.exceptions import NoSuchElementException\n",
    "\n",
    "from bs4 import BeautifulSoup\n",
    "from urllib.request import urlopen\n",
    "import urllib.request\n",
    "import re\n",
    "import requests\n",
    "\n",
    "from socket import error as SocketError\n",
    "import errno\n",
    "from lxml import html\n",
    "from lxml.html import fromstring\n",
    "from bs4 import BeautifulSoup\n",
    "from html.parser import HTMLParser\n",
    "\n",
    "import csv\n",
    "\n",
    "import datetime\n",
    "from lxml.html import fromstring\n",
    "from inca.core.scraper_class import Scraper\n",
    "from inca.scrapers.rss_scraper import rss\n",
    "from inca.core.database import check_exists\n",
    "import feedparser\n",
    "import re\n",
    "import logging\n",
    "import requests"
   ]
  },
  {
   "cell_type": "code",
   "execution_count": 3,
   "metadata": {},
   "outputs": [],
   "source": [
    "driver=webdriver.Firefox()\n",
    "driver.get(\"https://www.telegraph.co.uk/news/2019/11/13/venice-mayor-blames-climate-change-flooded-city-hit-highest/\")"
   ]
  },
  {
   "cell_type": "code",
   "execution_count": 12,
   "metadata": {},
   "outputs": [],
   "source": [
    "title=[] \n",
    "teaser=[] \n",
    "category=[]\n",
    "text=[] \n",
    "author=[] \n",
    "source=[] \n",
    "byline=[] "
   ]
  },
  {
   "cell_type": "code",
   "execution_count": 14,
   "metadata": {},
   "outputs": [],
   "source": [
    "myurl=\"https://www.telegraph.co.uk/news/2019/11/13/venice-mayor-blames-climate-change-flooded-city-hit-highest/\"\n",
    "htmlsource=requests.get(myurl).text\n",
    "tree=html.fromstring(htmlsource)"
   ]
  },
  {
   "cell_type": "code",
   "execution_count": 15,
   "metadata": {},
   "outputs": [
    {
     "name": "stdout",
     "output_type": "stream",
     "text": [
      "<Element html at 0x7fe9c65e7b88>\n"
     ]
    }
   ],
   "source": []
  }
 ],
 "metadata": {
  "kernelspec": {
   "display_name": "Python 3",
   "language": "python",
   "name": "python3"
  },
  "language_info": {
   "codemirror_mode": {
    "name": "ipython",
    "version": 3
   },
   "file_extension": ".py",
   "mimetype": "text/x-python",
   "name": "python",
   "nbconvert_exporter": "python",
   "pygments_lexer": "ipython3",
   "version": "3.6.7"
  }
 },
 "nbformat": 4,
 "nbformat_minor": 2
}
