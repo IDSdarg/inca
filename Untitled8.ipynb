{
 "cells": [
  {
   "cell_type": "code",
   "execution_count": null,
   "metadata": {},
   "outputs": [],
   "source": [
    "        try:\n",
    "            title = tree.xpath('//*[@itemprop=\"name\"]/text()')[0]\n",
    "        except:\n",
    "            title = \"\"\n",
    "            logger.warning(\"Could not parse article source\")\n",
    "\n",
    "\n",
    "            \n",
    "            \n",
    "        text = text.replace(\"\\xad\",\"\")\n",
    "        text = textfirstpara + \" \" + text\n",
    "        extractedinfo = {\"title\":title.strip(),\n",
    "                         \"text\":text.strip(),\n",
    "                         \"byline\":author.strip(),\n",
    "                         \"byline_source\":source.strip(),\n",
    "                         \"category\":category,\n",
    "                        }\n",
    "\n",
    "        return extractedinfo"
   ]
  }
 ],
 "metadata": {
  "kernelspec": {
   "display_name": "Python 3",
   "language": "python",
   "name": "python3"
  },
  "language_info": {
   "codemirror_mode": {
    "name": "ipython",
    "version": 3
   },
   "file_extension": ".py",
   "mimetype": "text/x-python",
   "name": "python",
   "nbconvert_exporter": "python",
   "pygments_lexer": "ipython3",
   "version": "3.6.7"
  }
 },
 "nbformat": 4,
 "nbformat_minor": 2
}
