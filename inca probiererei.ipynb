{
 "cells": [
  {
   "cell_type": "code",
   "execution_count": 2,
   "metadata": {},
   "outputs": [],
   "source": [
    "from inca import Inca"
   ]
  },
  {
   "cell_type": "code",
   "execution_count": 5,
   "metadata": {},
   "outputs": [
    {
     "name": "stderr",
     "output_type": "stream",
     "text": [
      "INFO:INCA:Providing verbose output\n"
     ]
    }
   ],
   "source": [
    "myinca=Inca()"
   ]
  },
  {
   "cell_type": "code",
   "execution_count": 7,
   "metadata": {},
   "outputs": [
    {
     "name": "stderr",
     "output_type": "stream",
     "text": [
      "INFO:INCA:Started scraping\n"
     ]
    }
   ],
   "source": [
    "data=myinca.rssscrapers.kurier(save=False)"
   ]
  },
  {
   "cell_type": "code",
   "execution_count": 14,
   "metadata": {},
   "outputs": [
    {
     "name": "stdout",
     "output_type": "stream",
     "text": [
      "\"Cats\" in Wien: Possierlich miauende Miezen \n",
      "\n",
      "Rugby: Neuseeland gewinnt ersten WM-Schlager gegen Südafrika \n",
      "\n",
      "Flugzeugentführer nach 34 Jahren auf Mykonos geschnappt \n",
      "\n",
      "Wegen Hitler-Geburtstag: Hofer suspendiert FPÖ-Klubobmann in NÖ \n",
      "\n",
      "MotoGP: Marquez holt Aragon-Pole, Espargaro verletzt out \n",
      "\n",
      "Dritte Poleposition in Folge für Ferrari-Youngster Leclerc \n",
      "\n",
      "Premier League: Leicester dreht Partie gegen Tottenham \n",
      "\n",
      "Chancen auf VAR in Bundesliga mit März 2021 stehen gut \n",
      "\n",
      "Stuttgart baut Tabellenführung in der 2. deutschen Liga aus \n",
      "\n",
      "Dienstwagennutzung: Vorwürfe gegen Kickl \n",
      "\n",
      "Wasserstoff statt Diesel: Lokalbahnen steigen um \n",
      "\n",
      "Sommer sagt am Sonntag adé \n",
      "\n",
      "Ein Mädchen für Ex-Miss und ORF-Moderatorin Christine Reiler \n",
      "\n",
      "Ex-ÖFB-Teamstürmer Sanel Kuljic wurde erneut verhaftet \n",
      "\n",
      "\"Das Bundesheer im Burgenland ist seit 30 Jahren unterdotiert“ \n",
      "\n",
      "Gelbwesten-Proteste: Zahlreiche Festnahmen in Paris \n",
      "\n",
      "Wien: Angeleinter Hund lief auf Straße und verursachte Unfall \n",
      "\n",
      "Mega-Ansturm bei Buchpräsentation von Thomas Gottschalk in Wien \n",
      "\n",
      "O´zapft is: Zwei Schläge eröffnen 186. Oktoberfest in München \n",
      "\n",
      "Nach Horrorunfall: Correa liegt nicht mehr im Koma \n",
      "\n"
     ]
    }
   ],
   "source": [
    "for article in data: \n",
    "    for k, v in article.items():\n",
    "        if k==\"title\":\n",
    "            print(v, \"\\n\")"
   ]
  }
 ],
 "metadata": {
  "kernelspec": {
   "display_name": "Python 3",
   "language": "python",
   "name": "python3"
  },
  "language_info": {
   "codemirror_mode": {
    "name": "ipython",
    "version": 3
   },
   "file_extension": ".py",
   "mimetype": "text/x-python",
   "name": "python",
   "nbconvert_exporter": "python",
   "pygments_lexer": "ipython3",
   "version": "3.6.7"
  }
 },
 "nbformat": 4,
 "nbformat_minor": 2
}
